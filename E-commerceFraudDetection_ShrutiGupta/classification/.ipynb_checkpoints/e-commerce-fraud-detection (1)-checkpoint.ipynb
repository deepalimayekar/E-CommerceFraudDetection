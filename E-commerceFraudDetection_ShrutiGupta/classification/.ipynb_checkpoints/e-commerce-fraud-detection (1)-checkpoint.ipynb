{
 "cells": [
  {
   "cell_type": "code",
   "execution_count": 529,
   "metadata": {
    "collapsed": true
   },
   "outputs": [],
   "source": [
    "#Imports\n",
    "\n",
    "import pandas as pd\n",
    "import pandas_profiling\n",
    "import matplotlib.pyplot as plt\n",
    "import seaborn as sns\n",
    "from pandas.api.types import is_string_dtype\n",
    "from sklearn.model_selection import train_test_split\n",
    "from sklearn.ensemble import RandomForestClassifier\n",
    "from sklearn.metrics import (f1_score, \n",
    "                             roc_auc_score, \n",
    "                             roc_curve, \n",
    "                             precision_recall_curve, \n",
    "                             auc, \n",
    "                             make_scorer, \n",
    "                             recall_score, \n",
    "                             accuracy_score, \n",
    "                             precision_score, \n",
    "                             classification_report,\n",
    "                             confusion_matrix)\n",
    "from imblearn.over_sampling import SMOTE\n",
    "import numpy as np\n",
    "from sklearn.ensemble import GradientBoostingClassifier\n",
    "from sklearn.neighbors import KNeighborsClassifier\n",
    "from sklearn import metrics\n",
    "from sklearn.linear_model import LogisticRegression\n",
    "from sklearn.ensemble import IsolationForest\n",
    "from sklearn.model_selection import learning_curve, GridSearchCV"
   ]
  },
  {
   "cell_type": "markdown",
   "metadata": {},
   "source": [
    "# Data Loading"
   ]
  },
  {
   "cell_type": "code",
   "execution_count": 530,
   "metadata": {
    "collapsed": true
   },
   "outputs": [],
   "source": [
    "fraud_data_raw = pd.read_csv('data/fraud.csv')\n",
    "fraud_data = fraud_data_raw\n",
    "fraud_data = fraud_data.drop('Unnamed: 0', axis=1)\n",
    "country_ip_range = pd.read_excel('data/country_ip_range.xlsx')"
   ]
  },
  {
   "cell_type": "markdown",
   "metadata": {},
   "source": [
    "# Data Exploration and Preprocessing"
   ]
  },
  {
   "cell_type": "code",
   "execution_count": 531,
   "metadata": {},
   "outputs": [
    {
     "data": {
      "text/html": [
       "<div>\n",
       "<style scoped>\n",
       "    .dataframe tbody tr th:only-of-type {\n",
       "        vertical-align: middle;\n",
       "    }\n",
       "\n",
       "    .dataframe tbody tr th {\n",
       "        vertical-align: top;\n",
       "    }\n",
       "\n",
       "    .dataframe thead th {\n",
       "        text-align: right;\n",
       "    }\n",
       "</style>\n",
       "<table border=\"1\" class=\"dataframe\">\n",
       "  <thead>\n",
       "    <tr style=\"text-align: right;\">\n",
       "      <th></th>\n",
       "      <th>user_id</th>\n",
       "      <th>purchase_value</th>\n",
       "      <th>age</th>\n",
       "      <th>ip_address</th>\n",
       "      <th>class</th>\n",
       "    </tr>\n",
       "  </thead>\n",
       "  <tbody>\n",
       "    <tr>\n",
       "      <th>count</th>\n",
       "      <td>120000.000000</td>\n",
       "      <td>120000.000000</td>\n",
       "      <td>120000.000000</td>\n",
       "      <td>1.200000e+05</td>\n",
       "      <td>120000.000000</td>\n",
       "    </tr>\n",
       "    <tr>\n",
       "      <th>mean</th>\n",
       "      <td>200320.280100</td>\n",
       "      <td>36.881475</td>\n",
       "      <td>33.125250</td>\n",
       "      <td>2.151550e+09</td>\n",
       "      <td>0.093875</td>\n",
       "    </tr>\n",
       "    <tr>\n",
       "      <th>std</th>\n",
       "      <td>115361.945935</td>\n",
       "      <td>18.325855</td>\n",
       "      <td>8.617081</td>\n",
       "      <td>1.248314e+09</td>\n",
       "      <td>0.291656</td>\n",
       "    </tr>\n",
       "    <tr>\n",
       "      <th>min</th>\n",
       "      <td>2.000000</td>\n",
       "      <td>9.000000</td>\n",
       "      <td>18.000000</td>\n",
       "      <td>9.344714e+04</td>\n",
       "      <td>0.000000</td>\n",
       "    </tr>\n",
       "    <tr>\n",
       "      <th>25%</th>\n",
       "      <td>100925.500000</td>\n",
       "      <td>22.000000</td>\n",
       "      <td>27.000000</td>\n",
       "      <td>1.085345e+09</td>\n",
       "      <td>0.000000</td>\n",
       "    </tr>\n",
       "    <tr>\n",
       "      <th>50%</th>\n",
       "      <td>200037.500000</td>\n",
       "      <td>34.000000</td>\n",
       "      <td>33.000000</td>\n",
       "      <td>2.155238e+09</td>\n",
       "      <td>0.000000</td>\n",
       "    </tr>\n",
       "    <tr>\n",
       "      <th>75%</th>\n",
       "      <td>300395.500000</td>\n",
       "      <td>49.000000</td>\n",
       "      <td>39.000000</td>\n",
       "      <td>3.241268e+09</td>\n",
       "      <td>0.000000</td>\n",
       "    </tr>\n",
       "    <tr>\n",
       "      <th>max</th>\n",
       "      <td>400000.000000</td>\n",
       "      <td>154.000000</td>\n",
       "      <td>76.000000</td>\n",
       "      <td>4.294850e+09</td>\n",
       "      <td>1.000000</td>\n",
       "    </tr>\n",
       "  </tbody>\n",
       "</table>\n",
       "</div>"
      ],
      "text/plain": [
       "             user_id  purchase_value            age    ip_address  \\\n",
       "count  120000.000000   120000.000000  120000.000000  1.200000e+05   \n",
       "mean   200320.280100       36.881475      33.125250  2.151550e+09   \n",
       "std    115361.945935       18.325855       8.617081  1.248314e+09   \n",
       "min         2.000000        9.000000      18.000000  9.344714e+04   \n",
       "25%    100925.500000       22.000000      27.000000  1.085345e+09   \n",
       "50%    200037.500000       34.000000      33.000000  2.155238e+09   \n",
       "75%    300395.500000       49.000000      39.000000  3.241268e+09   \n",
       "max    400000.000000      154.000000      76.000000  4.294850e+09   \n",
       "\n",
       "               class  \n",
       "count  120000.000000  \n",
       "mean        0.093875  \n",
       "std         0.291656  \n",
       "min         0.000000  \n",
       "25%         0.000000  \n",
       "50%         0.000000  \n",
       "75%         0.000000  \n",
       "max         1.000000  "
      ]
     },
     "execution_count": 531,
     "metadata": {},
     "output_type": "execute_result"
    }
   ],
   "source": [
    "fraud_data.describe()"
   ]
  },
  {
   "cell_type": "code",
   "execution_count": 532,
   "metadata": {},
   "outputs": [
    {
     "name": "stdout",
     "output_type": "stream",
     "text": [
      "Percentage of data with fraud = 10.360049662022348 \n"
     ]
    }
   ],
   "source": [
    "fraud_data_distribution = fraud_data['class'].value_counts()\n",
    "ratio_normal_fraud = fraud_data_distribution[1]/fraud_data_distribution[0]\n",
    "print(\"Percentage of data with fraud = {} \".format(ratio_normal_fraud*100))"
   ]
  },
  {
   "cell_type": "code",
   "execution_count": 533,
   "metadata": {},
   "outputs": [
    {
     "name": "stdout",
     "output_type": "stream",
     "text": [
      "Counts of each class in data\n"
     ]
    },
    {
     "data": {
      "text/plain": [
       "0    108735\n",
       "1     11265\n",
       "Name: class, dtype: int64"
      ]
     },
     "execution_count": 533,
     "metadata": {},
     "output_type": "execute_result"
    }
   ],
   "source": [
    "print(\"Counts of each class in data\")\n",
    "fraud_data_distribution"
   ]
  },
  {
   "cell_type": "code",
   "execution_count": 534,
   "metadata": {},
   "outputs": [
    {
     "data": {
      "text/plain": [
       "0    0.906125\n",
       "1    0.093875\n",
       "Name: class, dtype: float64"
      ]
     },
     "execution_count": 534,
     "metadata": {},
     "output_type": "execute_result"
    }
   ],
   "source": [
    "fraud_data['class'].value_counts(normalize=True)"
   ]
  },
  {
   "cell_type": "code",
   "execution_count": 535,
   "metadata": {},
   "outputs": [
    {
     "data": {
      "text/plain": [
       "M    0.584383\n",
       "F    0.415617\n",
       "Name: sex, dtype: float64"
      ]
     },
     "execution_count": 535,
     "metadata": {},
     "output_type": "execute_result"
    }
   ],
   "source": [
    "fraud_data['sex'].value_counts(normalize=True)"
   ]
  },
  {
   "cell_type": "code",
   "execution_count": 536,
   "metadata": {},
   "outputs": [
    {
     "name": "stdout",
     "output_type": "stream",
     "text": [
      "Average purchase Value per class\n"
     ]
    },
    {
     "data": {
      "text/html": [
       "<div>\n",
       "<style scoped>\n",
       "    .dataframe tbody tr th:only-of-type {\n",
       "        vertical-align: middle;\n",
       "    }\n",
       "\n",
       "    .dataframe tbody tr th {\n",
       "        vertical-align: top;\n",
       "    }\n",
       "\n",
       "    .dataframe thead th {\n",
       "        text-align: right;\n",
       "    }\n",
       "</style>\n",
       "<table border=\"1\" class=\"dataframe\">\n",
       "  <thead>\n",
       "    <tr style=\"text-align: right;\">\n",
       "      <th></th>\n",
       "      <th>purchase_value</th>\n",
       "    </tr>\n",
       "    <tr>\n",
       "      <th>class</th>\n",
       "      <th></th>\n",
       "    </tr>\n",
       "  </thead>\n",
       "  <tbody>\n",
       "    <tr>\n",
       "      <th>0</th>\n",
       "      <td>36.862344</td>\n",
       "    </tr>\n",
       "    <tr>\n",
       "      <th>1</th>\n",
       "      <td>37.066134</td>\n",
       "    </tr>\n",
       "  </tbody>\n",
       "</table>\n",
       "</div>"
      ],
      "text/plain": [
       "       purchase_value\n",
       "class                \n",
       "0           36.862344\n",
       "1           37.066134"
      ]
     },
     "execution_count": 536,
     "metadata": {},
     "output_type": "execute_result"
    }
   ],
   "source": [
    "print(\"Average purchase Value per class\")\n",
    "fraud_data[['purchase_value','class']].groupby('class').mean()\n"
   ]
  },
  {
   "cell_type": "code",
   "execution_count": 537,
   "metadata": {
    "collapsed": true,
    "scrolled": true
   },
   "outputs": [],
   "source": [
    "# Pandas profiling report\n",
    "# pandas_profiling.ProfileReport(fraud_data)"
   ]
  },
  {
   "cell_type": "code",
   "execution_count": 538,
   "metadata": {
    "collapsed": true
   },
   "outputs": [],
   "source": [
    "def plot_counts_of_age(class_value):\n",
    "    plt.figure(figsize=(16,8))\n",
    "    fraud_data_class=fraud_data[fraud_data['class']==class_value]\n",
    "    ax = sns.barplot(fraud_data_class['age'].unique(),fraud_data_class['age'].value_counts())\n",
    "    for patch in ax.patches:\n",
    "        ax.annotate('{:.0f}'.format(patch.get_height()), (patch.get_x()+0.3, patch.get_height()+100),fontsize=12)\n",
    "    ax.set_title(\"Unique Counts of Age with class {0}\".format(class_value),fontsize=20)"
   ]
  },
  {
   "cell_type": "code",
   "execution_count": 539,
   "metadata": {},
   "outputs": [
    {
     "data": {
      "image/png": "[encoded data removed]",
      "text/plain": [
       "<Figure size 1152x576 with 1 Axes>"
      ]
     },
     "metadata": {
      "needs_background": "light"
     },
     "output_type": "display_data"
    }
   ],
   "source": [
    "plot_count_of_age(class_value=0)"
   ]
  },
  {
   "cell_type": "code",
   "execution_count": 540,
   "metadata": {},
   "outputs": [
    {
     "data": {
      "image/png": "[encoded data removed]",
      "text/plain": [
       "<Figure size 1152x576 with 1 Axes>"
      ]
     },
     "metadata": {
      "needs_background": "light"
     },
     "output_type": "display_data"
    }
   ],
   "source": [
    "plot_count_of_age(class_value=1)"
   ]
  },
  {
   "cell_type": "code",
   "execution_count": 541,
   "metadata": {
    "collapsed": true
   },
   "outputs": [],
   "source": [
    "def set_ip_address_country(ip):\n",
    "    mask = (ip >= country_ip_range.lower_bound_ip_address) & (ip <= country_ip_range.upper_bound_ip_address)\n",
    "    \n",
    "    if mask.any():\n",
    "        return country_ip_range.country[mask].to_string(index=False)"
   ]
  },
  {
   "cell_type": "code",
   "execution_count": null,
   "metadata": {
    "collapsed": true
   },
   "outputs": [],
   "source": [
    "fraud_data['country'] = fraud_data['ip_address'].apply(lambda ip : set_ip_address_country(ip))"
   ]
  },
  {
   "cell_type": "code",
   "execution_count": null,
   "metadata": {
    "collapsed": true
   },
   "outputs": [],
   "source": [
    "print(\"Count of missing values\")\n",
    "fraud_data.isna().sum()"
   ]
  },
  {
   "cell_type": "code",
   "execution_count": null,
   "metadata": {
    "collapsed": true
   },
   "outputs": [],
   "source": [
    "fraud_data.dtypes"
   ]
  },
  {
   "cell_type": "code",
   "execution_count": null,
   "metadata": {
    "collapsed": true
   },
   "outputs": [],
   "source": [
    "print(\"Country to Source Count\")\n",
    "pd.crosstab(fraud_data.country, fraud_data.source)"
   ]
  },
  {
   "cell_type": "code",
   "execution_count": null,
   "metadata": {
    "collapsed": true
   },
   "outputs": [],
   "source": [
    "print(\"Class to Source Count\")\n",
    "pd.crosstab(fraud_data['class'], fraud_data.source)"
   ]
  },
  {
   "cell_type": "code",
   "execution_count": null,
   "metadata": {
    "collapsed": true
   },
   "outputs": [],
   "source": [
    "print(\"Class to Country Count\")\n",
    "pd.crosstab(fraud_data.country,fraud_data[\"class\"])"
   ]
  },
  {
   "cell_type": "code",
   "execution_count": null,
   "metadata": {
    "collapsed": true
   },
   "outputs": [],
   "source": [
    "fraud_data_class_1=fraud_data[fraud_data['class']==1]\n",
    "fraud_data_class_1.groupby('country')['country'].count().sort_values(ascending=False).head(10)\n",
    "fraud_data_class_1.groupby('country')['country'].count().sort_values(ascending=False).head(10).plot(kind='bar')\n",
    "plt.ylabel('Number of users')\n",
    "plt.title('Top 10 Fraud User countries')"
   ]
  },
  {
   "cell_type": "code",
   "execution_count": null,
   "metadata": {
    "collapsed": true
   },
   "outputs": [],
   "source": [
    "fraud_data_class_1['sex'].value_counts(normalize=True)"
   ]
  },
  {
   "cell_type": "code",
   "execution_count": null,
   "metadata": {
    "collapsed": true
   },
   "outputs": [],
   "source": [
    "fraud_data.signup_time = fraud_data.signup_time.apply(pd.to_datetime)\n",
    "fraud_data.purchase_time = fraud_data.purchase_time.apply(pd.to_datetime)"
   ]
  },
  {
   "cell_type": "code",
   "execution_count": null,
   "metadata": {
    "collapsed": true
   },
   "outputs": [],
   "source": [
    "fraud_data[fraud_data['class']==1].signup_time.apply(lambda x: x.hour).hist()\n",
    "plt.xlabel(\"Hour of Day\", fontsize=15)\n",
    "plt.ylabel(\"Count\", fontsize=15)"
   ]
  },
  {
   "cell_type": "code",
   "execution_count": null,
   "metadata": {
    "collapsed": true
   },
   "outputs": [],
   "source": [
    "fraud_data[\"signup_to_purchase_seconds\"] = (fraud_data.purchase_time - fraud_data.signup_time).apply(lambda x: x.seconds)"
   ]
  },
  {
   "cell_type": "code",
   "execution_count": null,
   "metadata": {
    "collapsed": true
   },
   "outputs": [],
   "source": [
    "sns.barplot(x=\"class\", y=\"signup_to_purchase_seconds\", data=fraud_data)\n",
    "plt.xlabel(\"Fraud to no fraud\", fontsize=15)\n",
    "plt.ylabel(\"Sign-up to Purchase Time in Sec\", fontsize=15)"
   ]
  },
  {
   "cell_type": "code",
   "execution_count": null,
   "metadata": {
    "collapsed": true
   },
   "outputs": [],
   "source": [
    "sns.factorplot(x=\"class\", y=\"purchase_value\", data=fraud_data)\n",
    "plt.xlabel(\"Fraud to no fraud\", fontsize=15)\n",
    "plt.ylabel(\"Purchase Value\", fontsize=15)"
   ]
  },
  {
   "cell_type": "code",
   "execution_count": null,
   "metadata": {
    "collapsed": true
   },
   "outputs": [],
   "source": [
    "fraud_data.dtypes"
   ]
  },
  {
   "cell_type": "code",
   "execution_count": null,
   "metadata": {
    "collapsed": true
   },
   "outputs": [],
   "source": [
    "source_dict = {'SEO':0, 'Ads':1, 'Direct':2}\n",
    "if is_string_dtype(fraud_data.source):\n",
    "    fraud_data.source = fraud_data.source.replace(source_dict)\n",
    "browser_dict = {'Chrome':0, 'Opera':1, 'Safari':2, 'IE':3, 'FireFox':4}\n",
    "if is_string_dtype(fraud_data.browser):\n",
    "    fraud_data.browser =fraud_data.browser.replace(browser_dict)\n",
    "if is_string_dtype(fraud_data.sex):\n",
    "    fraud_data['sex']=[1 if i == 'M' else 0 for i in fraud_data['sex']]"
   ]
  },
  {
   "cell_type": "code",
   "execution_count": null,
   "metadata": {
    "collapsed": true
   },
   "outputs": [],
   "source": [
    "fraud_data.dtypes"
   ]
  },
  {
   "cell_type": "code",
   "execution_count": null,
   "metadata": {
    "collapsed": true
   },
   "outputs": [],
   "source": [
    "if is_string_dtype(fraud_data.country):\n",
    "    labels = fraud_data['country'].astype('category').cat.categories.tolist()\n",
    "    replace_map = {'country' : {country: label for country,label in zip(labels,list(range(1,len(labels)+1)))}}\n",
    "    fraud_data.replace(replace_map,inplace=True)\n",
    "    fraud_data['country'].fillna(0,inplace=True)\n"
   ]
  },
  {
   "cell_type": "code",
   "execution_count": null,
   "metadata": {
    "collapsed": true
   },
   "outputs": [],
   "source": [
    "fraud_data.dtypes"
   ]
  },
  {
   "cell_type": "code",
   "execution_count": null,
   "metadata": {
    "collapsed": true
   },
   "outputs": [],
   "source": [
    "fraud_data['occurence'] = 0\n",
    "device_id_occurence = fraud_data['device_id'].value_counts()\n",
    "fraud_data['occurence'] = fraud_data.apply(lambda row: device_id_occurence[row['device_id']], axis=1)\n",
    "fraud_data['occurence'].value_counts()"
   ]
  },
  {
   "cell_type": "code",
   "execution_count": null,
   "metadata": {
    "collapsed": true
   },
   "outputs": [],
   "source": [
    "fraud_data=fraud_data.drop('purchase_time',axis=1)\n",
    "fraud_data=fraud_data.drop('signup_time',axis=1)\n",
    "fraud_data=fraud_data.drop('device_id',axis=1)\n",
    "fraud_data=fraud_data.drop('ip_address',axis=1)"
   ]
  },
  {
   "cell_type": "markdown",
   "metadata": {},
   "source": [
    "### Train Test Split"
   ]
  },
  {
   "cell_type": "code",
   "execution_count": null,
   "metadata": {
    "collapsed": true
   },
   "outputs": [],
   "source": [
    "fraud_data_no_class=fraud_data\n",
    "fraud_data_no_class=fraud_data_no_class.drop('class',axis=1)"
   ]
  },
  {
   "cell_type": "code",
   "execution_count": null,
   "metadata": {
    "collapsed": true
   },
   "outputs": [],
   "source": [
    "fraud_data_no_class"
   ]
  },
  {
   "cell_type": "code",
   "execution_count": null,
   "metadata": {
    "collapsed": true
   },
   "outputs": [],
   "source": [
    "X_train, X_test, y_train, y_test = train_test_split(\n",
    "    fraud_data_no_class, fraud_data['class'], test_size=0.3, random_state=42)"
   ]
  },
  {
   "cell_type": "code",
   "execution_count": null,
   "metadata": {
    "collapsed": true
   },
   "outputs": [],
   "source": [
    "fraud_data_distribution_train = y_train.value_counts()\n",
    "ratio_fraud_train = fraud_data_distribution_train[1]/fraud_data_distribution_train[0]\n",
    "print(\"Percentage of data with fraud = {} \".format(ratio_normal_fraud*100))"
   ]
  },
  {
   "cell_type": "code",
   "execution_count": null,
   "metadata": {
    "collapsed": true
   },
   "outputs": [],
   "source": [
    "fraud_data_distribution_train"
   ]
  },
  {
   "cell_type": "code",
   "execution_count": null,
   "metadata": {
    "collapsed": true
   },
   "outputs": [],
   "source": [
    "fraud_data_distribution_test= y_test.value_counts()\n",
    "ratio_fraud_test= fraud_data_distribution_test[1]/fraud_data_distribution_test[0]\n",
    "print(\"Percentage of data with fraud = {} \".format(ratio_normal_fraud*100))"
   ]
  },
  {
   "cell_type": "code",
   "execution_count": null,
   "metadata": {
    "collapsed": true
   },
   "outputs": [],
   "source": [
    "fraud_data_distribution_test"
   ]
  },
  {
   "cell_type": "markdown",
   "metadata": {},
   "source": [
    "# Models"
   ]
  },
  {
   "cell_type": "markdown",
   "metadata": {},
   "source": [
    "## Random Forest"
   ]
  },
  {
   "cell_type": "code",
   "execution_count": null,
   "metadata": {
    "collapsed": true
   },
   "outputs": [],
   "source": [
    "def get_random_forest_classifier():\n",
    "    classifier_RF = RandomForestClassifier(n_estimators=500,random_state=0,n_jobs=-1)\n",
    "\n",
    "\n",
    "\n",
    "def random_forest_fraud_prediction():\n",
    "    unique, counts = np.unique(y_train, return_counts=True)\n",
    "\n",
    "    print (np.asarray((unique, counts)).T)\n",
    "\n",
    "\n",
    "    classifier_RF = RandomForestClassifier(random_state=0)\n",
    "\n",
    "    classifier_RF.fit(X_train, y_train)\n",
    "    rf_score=classifier_RF.score(X_test, y_test)\n",
    "    print(rf_score)\n",
    "    \n",
    "    print(classifier_RF)\n",
    "    \n",
    "    # predict class labels 0/1 for the test set\n",
    "    predicted = classifier_RF.predict(X_test)\n",
    "\n",
    "    # generate class probabilities\n",
    "    probs = classifier_RF.predict_proba(X_test)\n",
    "\n",
    "    \n",
    "    \n",
    "    # generate evaluation metrics\n",
    "    print(\"%s: %r\" % (\"accuracy_score is: \", accuracy_score(y_test, predicted)))\n",
    "    print(\"%s: %r\" % (\"roc_auc_score is: \", roc_auc_score(y_test, probs[:, 1])))\n",
    "    print(\"%s: %r\" % (\"f1_score is: \", f1_score(y_test, predicted )))#string to int\n",
    "    \n",
    "    print (\"confusion_matrix is: \")\n",
    "    cm = confusion_matrix(y_test, predicted)\n",
    "    cmDF = pd.DataFrame(cm, columns=['pred_0', 'pred_1'], index=['true_0', 'true_1'])\n",
    "    print(cmDF)\n",
    "    print ('recall =',float(cm[1,1])/(cm[1,0]+cm[1,1]))\n",
    "    print ('precision =', float(cm[1,1])/(cm[1,1] + cm[0,1]))#1.0\n",
    "    return classifier_RF\n"
   ]
  },
  {
   "cell_type": "code",
   "execution_count": null,
   "metadata": {
    "collapsed": true
   },
   "outputs": [],
   "source": [
    "def random_forest_with_smote():\n",
    "    smote = SMOTE(random_state=12)\n",
    "    x_train_sm, y_train_sm = smote.fit_sample(X_train, y_train)\n",
    "\n",
    "    unique, counts = np.unique(y_train_sm, return_counts=True)\n",
    "\n",
    "    print (np.asarray((unique, counts)).T)\n",
    "\n",
    "    classifier_RF = RandomForestClassifier(n_estimators=500,random_state=0)\n",
    "\n",
    "    classifier_RF.fit(x_train_sm, y_train_sm)\n",
    "\n",
    "    # predict class labels 0/1 for the test set\n",
    "    predicted = classifier_RF.predict(X_test)\n",
    "\n",
    "    # generate class probabilities\n",
    "    probs = classifier_RF.predict_proba(X_test)\n",
    "\n",
    "    # generate evaluation metrics\n",
    "    print(\"%s: %r\" % (\"accuracy_score is: \", accuracy_score(y_test, predicted)))\n",
    "    print(\"%s: %r\" % (\"roc_auc_score is: \", roc_auc_score(y_test, probs[:, 1])))\n",
    "    print(\"%s: %r\" % (\"f1_score is: \", f1_score(y_test, predicted )))#string to int\n",
    "\n",
    "    print (\"confusion_matrix is: \")\n",
    "    cm = confusion_matrix(y_test, predicted)\n",
    "    cmDF = pd.DataFrame(cm, columns=['pred_0', 'pred_1'], index=['true_0', 'true_1'])\n",
    "    print(cmDF)\n",
    "    print ('recall =',float(cm[1,1])/(cm[1,0]+cm[1,1]))\n",
    "    print ('precision =', float(cm[1,1])/(cm[1,1] + cm[0,1]))#1.0\n",
    "    return classifier_RF\n"
   ]
  },
  {
   "cell_type": "code",
   "execution_count": null,
   "metadata": {
    "collapsed": true
   },
   "outputs": [],
   "source": [
    "def plot_confusion_matrix(model, X_test, y_true):\n",
    "    cm = confusion_matrix(y_true, model.predict(X_test))\n",
    "\n",
    "    print(cm)\n",
    "\n",
    "    # Show confusion matrix in a separate window\n",
    "    plt.matshow(cm)\n",
    "    plt.title('Confusion matrix')\n",
    "    plt.colorbar(cmap='jet')\n",
    "    plt.ylabel('True label')\n",
    "    plt.xlabel('Predicted label')\n",
    "    plt.show()\n",
    "    "
   ]
  },
  {
   "cell_type": "code",
   "execution_count": null,
   "metadata": {
    "collapsed": true
   },
   "outputs": [],
   "source": [
    "model=random_forest_with_smote()\n",
    "plot_confusion_matrix(model, X_test, y_test)\n"
   ]
  },
  {
   "cell_type": "markdown",
   "metadata": {},
   "source": [
    "### Feature Importance - RF"
   ]
  },
  {
   "cell_type": "code",
   "execution_count": null,
   "metadata": {
    "collapsed": true
   },
   "outputs": [],
   "source": [
    "\n",
    "def plot_importance(clf, feature, max_features=10):\n",
    "    '''Plot feature importance'''\n",
    "    feature_importance = clf.feature_importances_\n",
    "    # make importances relative to max importance\n",
    "    feature_importance = 100.0 * (feature_importance / feature_importance.max())\n",
    "    sorted_idx = np.argsort(feature_importance)\n",
    "    pos = np.arange(sorted_idx.shape[0]) + .5\n",
    "    \n",
    "    # Show only top features\n",
    "    pos = pos[-max_features:]\n",
    "    feature_importance = (feature_importance[sorted_idx])[-max_features:]\n",
    "    feature = np.array(feature)\n",
    "    feature_names = (feature[sorted_idx])[-max_features:]\n",
    "    \n",
    "    plt.barh(pos, feature_importance, align='center')\n",
    "    plt.yticks(pos, feature_names)\n",
    "    plt.xlabel('Relative Importance')\n",
    "    plt.title('Variable Importance')"
   ]
  },
  {
   "cell_type": "code",
   "execution_count": null,
   "metadata": {
    "collapsed": true
   },
   "outputs": [],
   "source": [
    "feature = X_train.columns.tolist()[:]\n",
    "plot_importance(random_forest_fraud_prediction(), feature, max_features=16)\n"
   ]
  },
  {
   "cell_type": "markdown",
   "metadata": {},
   "source": [
    "## Gradient Boost"
   ]
  },
  {
   "cell_type": "code",
   "execution_count": null,
   "metadata": {
    "collapsed": true
   },
   "outputs": [],
   "source": [
    "def gradient_boost_fraud_prediction():\n",
    "    gbc = GradientBoostingClassifier(n_estimators=500, max_depth=8, subsample=0.5, \n",
    "                                 max_features='auto', learning_rate=0.05)\n",
    "    gbc.fit(X_train, y_train)\n",
    "    gbc.score(X_test,y_test)\n",
    "    pd.crosstab(y_test, gbc.predict(X_test))\n",
    "    return gbc"
   ]
  },
  {
   "cell_type": "code",
   "execution_count": null,
   "metadata": {
    "collapsed": true
   },
   "outputs": [],
   "source": [
    "plot_confusion_matrix(gradient_boost_fraud_prediction(), X_test, y_test)\n"
   ]
  },
  {
   "cell_type": "markdown",
   "metadata": {},
   "source": [
    "## K Nearest Neighbours"
   ]
  },
  {
   "cell_type": "code",
   "execution_count": null,
   "metadata": {
    "collapsed": true
   },
   "outputs": [],
   "source": [
    "scores={}\n",
    "scores_list=[]\n",
    "for k in range(1,26):\n",
    "    knn=KNeighborsClassifier(n_neighbors=k)\n",
    "    knn.fit(X_train,y_train)\n",
    "    y_predicted=knn.predict(X_test)\n",
    "    scores[k]=accuracy_score(y_test,y_predicted)\n",
    "    scores_list.append(scores[k])\n"
   ]
  },
  {
   "cell_type": "code",
   "execution_count": null,
   "metadata": {
    "collapsed": true
   },
   "outputs": [],
   "source": [
    "plt.plot(range(1,26),scores_list)\n",
    "plt.xlabel(\"K\")\n",
    "plt.ylabel(\"Accuracy\")"
   ]
  },
  {
   "cell_type": "markdown",
   "metadata": {},
   "source": [
    "## Logistic Regression"
   ]
  },
  {
   "cell_type": "code",
   "execution_count": null,
   "metadata": {
    "collapsed": true
   },
   "outputs": [],
   "source": [
    "# instantiate the model (using the default parameters)\n",
    "logreg = LogisticRegression(solver='lbfgs')\n",
    "\n",
    "# fit the model with data\n",
    "logreg.fit(X_train,y_train)\n",
    "\n",
    "# predict on test\n",
    "y_pred=logreg.predict(X_test)"
   ]
  },
  {
   "cell_type": "code",
   "execution_count": null,
   "metadata": {
    "collapsed": true
   },
   "outputs": [],
   "source": [
    "cm = confusion_matrix(y_test, y_pred)\n",
    "cmDF = pd.DataFrame(cm, columns=['pred_0', 'pred_1'], index=['true_0', 'true_1'])\n",
    "print(cmDF)"
   ]
  },
  {
   "cell_type": "code",
   "execution_count": null,
   "metadata": {
    "collapsed": true
   },
   "outputs": [],
   "source": [
    "logreg.score(X_test,y_test)\n",
    "import sklearn.metrics as skm\n",
    "skm.roc_auc_score(y_test, logreg.predict(X_test))"
   ]
  },
  {
   "cell_type": "markdown",
   "metadata": {},
   "source": [
    "## Isolation Forest"
   ]
  },
  {
   "cell_type": "code",
   "execution_count": null,
   "metadata": {
    "collapsed": true
   },
   "outputs": [],
   "source": [
    "Y_dev = y_train.apply(lambda x: 1 if x == 0 else -1)\n",
    "Y_eval = y_test.apply(lambda x: 1 if x == 0 else -1)\n",
    "X_dev=X_train\n",
    "X_eval=X_test\n",
    "# Initiate the isolation forest class and specify the percentage of anomalous samples in the development dataset\n",
    "IF = IsolationForest(max_samples=\"auto\", contamination=0.095)\n",
    "\n",
    "# Define the parameter grid to search over\n",
    "param_grid = {\"n_estimators\": [100, 150, 200, 250, 300, 350, 400, 450, 500]}\n",
    "\n",
    "# Define the grid search object\n",
    "clf = GridSearchCV(IF, \n",
    "                   param_grid=param_grid, \n",
    "                   cv=5, \n",
    "                   n_jobs=10,\n",
    "                   scoring=\"f1\",\n",
    "                   verbose=10)\n",
    "\n",
    "# Perform grid search\n",
    "_ = clf.fit(X_dev, Y_dev)"
   ]
  },
  {
   "cell_type": "code",
   "execution_count": null,
   "metadata": {
    "collapsed": true
   },
   "outputs": [],
   "source": [
    "IF_best = clf.best_estimator_\n",
    "Y_predicted = IF_best.predict(X_eval)\n",
    "roc_auc = roc_auc_score(Y_eval, Y_predicted)\n",
    "\n",
    "print(classification_report(Y_eval, \n",
    "                            Y_predicted,\n",
    "                            target_names=[\"anomalous\", \"normal\"]))\n",
    "print(\"Area under ROC curve: {:0.3f}\".format(roc_auc))\n",
    "\n",
    "# Compute ROC curve and area under the curve\n",
    "IF_probs = IF_best.decision_function(X_eval)\n",
    "fpr, tpr, thresholds = roc_curve(Y_eval, IF_probs)\n",
    "\n",
    "plt.plot(fpr, tpr, lw=1, label='ROC (area = %0.3f)'%(roc_auc))\n",
    "\n",
    "plt.plot([0, 1], [0, 1], '--', color=(0.6, 0.6, 0.6), label='Luck')\n",
    "plt.xlim([-0.05, 1.05])\n",
    "plt.ylim([-0.05, 1.05])\n",
    "plt.xlabel('False Positive Rate', fontsize=15)\n",
    "plt.ylabel('True Positive Rate', fontsize=15)\n",
    "plt.title('Receiver Operating Characteristic (ROC) curve', fontsize=12)\n",
    "plt.legend(loc=\"lower right\", frameon = True).get_frame().set_edgecolor('black')\n",
    "plt.grid(True, linestyle = 'dotted')\n",
    "plt.show()"
   ]
  },
  {
   "cell_type": "code",
   "execution_count": null,
   "metadata": {
    "collapsed": true
   },
   "outputs": [],
   "source": [
    "smote = SMOTE(random_state=12)\n",
    "X_dev1, y_train_sm1 = smote.fit_sample(X_train, y_train)\n",
    "\n",
    "unique, counts = np.unique(y_train_sm1, return_counts=True)\n",
    "\n",
    "print (np.asarray((unique, counts)).T)\n",
    "\n",
    "y_train_sm1[y_train_sm1!=0]=-1\n",
    "y_train_sm1[y_train_sm1!=-1]=1\n",
    "y_test[y_test!=0]=-1\n",
    "y_test[y_test!=-1]=1\n",
    "Y_dev1 = y_train_sm1\n",
    "Y_eval1 = y_test\n",
    "# Y_dev1 = y_train_sm1.apply(lambda x: 1 if x == 0 else -1)\n",
    "# Y_eval1 = y_test.apply(lambda x: 1 if x == 0 else -1)\n",
    "X_eva1l=X_test\n",
    "# Initiate the isolation forest class and specify the percentage of anomalous samples in the development dataset\n",
    "\n",
    "# Define the parameter grid to search over\n",
    "param_grid = {\"n_estimators\": [100, 150, 200, 250, 300, 350, 400, 450, 500]}\n",
    "\n",
    "# Define the grid search object\n",
    "clf = GridSearchCV(IF, \n",
    "                   param_grid=param_grid, \n",
    "                   cv=5, \n",
    "                   n_jobs=10,\n",
    "                   scoring=\"f1\",\n",
    "                   verbose=10)\n",
    "\n",
    "# Perform grid search\n",
    "_ = clf.fit(X_dev1, Y_dev1)"
   ]
  },
  {
   "cell_type": "code",
   "execution_count": null,
   "metadata": {
    "collapsed": true
   },
   "outputs": [],
   "source": [
    "IF_best = clf.best_estimator_\n",
    "Y_predicted = IF_best.predict(X_eval)\n",
    "roc_auc = roc_auc_score(Y_eval, Y_predicted)\n",
    "\n",
    "print(classification_report(Y_eval, \n",
    "                            Y_predicted,\n",
    "                            target_names=[\"anomalous\", \"normal\"]))\n",
    "print(\"Area under ROC curve: {:0.3f}\".format(roc_auc))\n",
    "\n",
    "# Compute ROC curve and area under the curve\n",
    "IF_probs = IF_best.decision_function(X_eval)\n",
    "fpr, tpr, thresholds = roc_curve(Y_eval, IF_probs)\n",
    "\n",
    "plt.plot(fpr, tpr, lw=1, label='ROC (area = %0.3f)'%(roc_auc))\n",
    "\n",
    "plt.plot([0, 1], [0, 1], '--', color=(0.6, 0.6, 0.6), label='Luck')\n",
    "plt.xlim([-0.05, 1.05])\n",
    "plt.ylim([-0.05, 1.05])\n",
    "plt.xlabel('False Positive Rate', fontsize=15)\n",
    "plt.ylabel('True Positive Rate', fontsize=15)\n",
    "plt.title('Receiver Operating Characteristic (ROC) curve', fontsize=12)\n",
    "plt.legend(loc=\"lower right\", frameon = True).get_frame().set_edgecolor('black')\n",
    "plt.grid(True, linestyle = 'dotted')\n",
    "plt.show()"
   ]
  },
  {
   "cell_type": "markdown",
   "metadata": {},
   "source": [
    "## Grid Search"
   ]
  },
  {
   "cell_type": "code",
   "execution_count": null,
   "metadata": {
    "collapsed": true
   },
   "outputs": [],
   "source": [
    "rf_params = {\n",
    "    'max_depth': [4, 8, None],\n",
    "    'max_features': ['sqrt', 'log2', None],\n",
    "    'min_samples_split': [2, 4],\n",
    "    'min_samples_leaf': [2, 4],\n",
    "    'bootstrap': [True], # Mandatory with oob_score=True\n",
    "    'n_estimators': [50, 100, 200, 400, 500],\n",
    "    'random_state': [67],\n",
    "    'oob_score': [True],\n",
    "    'n_jobs': [-1]\n",
    "    }\n",
    "def optimize_hyperparameters(model, params, X_train, y_train):\n",
    "    gs = GridSearchCV(model(), params, cv=5, n_jobs=-1, verbose=True, scoring='roc_auc')\n",
    "    gs.fit(X_train, y_train)\n",
    "    print (gs.best_params_)\n",
    "\n",
    "    #print best parameters\n",
    "optimize_hyperparameters(RandomForestClassifier, rf_params, X_train, y_train)"
   ]
  }
 ],
 "metadata": {
  "kernelspec": {
   "display_name": "Python 3",
   "language": "python",
   "name": "python3"
  },
  "language_info": {
   "codemirror_mode": {
    "name": "ipython",
    "version": 3
   },
   "file_extension": ".py",
   "mimetype": "text/x-python",
   "name": "python",
   "nbconvert_exporter": "python",
   "pygments_lexer": "ipython3",
   "version": "3.6.3"
  }
 },
 "nbformat": 4,
 "nbformat_minor": 1
}
