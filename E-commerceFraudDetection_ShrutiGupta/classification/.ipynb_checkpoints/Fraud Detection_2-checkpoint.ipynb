{
 "cells": [
  {
   "cell_type": "code",
   "execution_count": 1,
   "metadata": {},
   "outputs": [],
   "source": [
    "import numpy as np\n",
    "import pandas as pd\n",
    "from datetime import time\n",
    "import time\n",
    "from sklearn.metrics import confusion_matrix, classification_report, accuracy_score\n",
    "import matplotlib.pyplot as plt\n",
    "from sklearn.model_selection import train_test_split\n",
    "from sklearn.preprocessing import StandardScaler\n",
    "import seaborn as sns\n",
    "from sklearn import preprocessing "
   ]
  },
  {
   "cell_type": "code",
   "execution_count": null,
   "metadata": {
    "collapsed": true
   },
   "outputs": [],
   "source": [
    "#Read Data\n",
    "\n",
    "df1 = pd.read_csv('Candidate_tech_evaluation_candidate_copy_data science_fraud.csv')\n",
    "df2 = pd.read_excel('Candidate_tech_evaluation_candidate_copy_datascience_IpAddress_to_Country.xlsx')\n",
    "# df1.merge(df2, left_on='ip_address', right_on=['lower_bound_ip_address','upper_bound_ip_address'])\n"
   ]
  },
  {
   "cell_type": "code",
   "execution_count": null,
   "metadata": {
    "collapsed": true
   },
   "outputs": [],
   "source": [
    "country = []\n",
    "for i in df1['ip_address']:\n",
    "    a = int(i) > df2['lower_bound_ip_address']\n",
    "    b = int(i) < df2['upper_bound_ip_address']\n",
    "    res = df2[a & b]\n",
    "    try:\n",
    "        country.append((res['country'].values[0]))\n",
    "    except:\n",
    "        country.append('')"
   ]
  },
  {
   "cell_type": "code",
   "execution_count": null,
   "metadata": {},
   "outputs": [],
   "source": [
    "#MERGE COUNTRY\n",
    "df1['country'] = pd.DataFrame(country)\n",
    "df = df1\n",
    "# df"
   ]
  },
  {
   "cell_type": "code",
   "execution_count": null,
   "metadata": {
    "collapsed": true
   },
   "outputs": [],
   "source": [
    "#SPLIT DATASET\n",
    "from sklearn.model_selection import train_test_split\n",
    "np.random.seed(123)\n",
    "data, test, y_train, y_test = train_test_split(df, df['class'], train_size=0.70, test_size=0.30, random_state=1)"
   ]
  },
  {
   "cell_type": "code",
   "execution_count": null,
   "metadata": {},
   "outputs": [],
   "source": [
    "#TIME DIFFERENCE BETWEEN SIGNUP AND PURCHASE\n",
    "data['diff1'] = (pd.to_datetime(data['signup_time']) - pd.to_datetime(data['signup_time'][0])).astype('timedelta64[h]')\n",
    "data['diff2'] = (pd.to_datetime(data['purchase_time']) - pd.to_datetime(data['signup_time'][0])).astype('timedelta64[h]')\n",
    "test['diff1'] = (pd.to_datetime(test['signup_time']) - pd.to_datetime(data['signup_time'][0])).astype('timedelta64[h]')\n",
    "test['diff2'] = (pd.to_datetime(test['purchase_time']) - pd.to_datetime(data['signup_time'][0])).astype('timedelta64[h]')"
   ]
  },
  {
   "cell_type": "code",
   "execution_count": null,
   "metadata": {
    "collapsed": true
   },
   "outputs": [],
   "source": [
    "fig, axes = plt.subplots(nrows=2, ncols=2, figsize=(10, 10))\n",
    "data['diff1'][0:2000].plot(ax=axes[0,0]); axes[0,0].set_title('data_diff1')\n",
    "data['diff2'][0:2000].plot(ax=axes[0,1]); axes[0,1].set_title('data_diff2')\n",
    "test['diff1'][0:2000].plot(ax=axes[1,0]); axes[1,0].set_title('test_diff1')\n",
    "test['diff2'][0:2000].plot(ax=axes[1,1]); axes[1,1].set_title('test_diff2')\n",
    "plt.show()"
   ]
  },
  {
   "cell_type": "code",
   "execution_count": null,
   "metadata": {},
   "outputs": [],
   "source": [
    "data['Dt'] = (pd.to_datetime(data['purchase_time']) - pd.to_datetime(data['signup_time'])).astype('timedelta64[h]')\n",
    "test['Dt'] = (pd.to_datetime(test['purchase_time']) - pd.to_datetime(test['signup_time'])).astype('timedelta64[h]')"
   ]
  },
  {
   "cell_type": "code",
   "execution_count": null,
   "metadata": {
    "collapsed": true
   },
   "outputs": [],
   "source": [
    "#REPLACE MISSING DATA WITH UBKNOWN\n",
    "data = data.fillna({\"country\": \"Unknown\"})\n",
    "test = test.fillna({\"country\": \"Unknown\"})"
   ]
  },
  {
   "cell_type": "code",
   "execution_count": null,
   "metadata": {
    "collapsed": true
   },
   "outputs": [],
   "source": [
    "#CONVERTING CATEGORICAL DATA NUMERICAL DATA\n",
    "data = data.apply(preprocessing.LabelEncoder().fit_transform)\n",
    "test = test.apply(preprocessing.LabelEncoder().fit_transform)"
   ]
  },
  {
   "cell_type": "code",
   "execution_count": null,
   "metadata": {},
   "outputs": [],
   "source": [
    "#FIND THE PERCENTAGE OF FRAUD IN TRAIN AND TEST DATASET\n",
    "print('Frauds in training sample:\\n', len(data[data['class']==1])/len(data)*100, ' %')\n",
    "print('Frauds in test sample:\\n', len(test[test['class']==1])/len(test)*100, ' %')"
   ]
  },
  {
   "cell_type": "code",
   "execution_count": null,
   "metadata": {
    "collapsed": true
   },
   "outputs": [],
   "source": [
    "#CALCULATE OCCURANCE OF DEVICE ID \n",
    "data['occurence'] = 0\n",
    "occur = data['device_id'].value_counts()\n",
    "data['occurence'] = data.apply(lambda row: occur[row['device_id']], axis=1)\n",
    "\n",
    "test['occurence'] = 0\n",
    "occur = test['device_id'].value_counts()\n",
    "test['occurence'] = test.apply(lambda row: occur[row['device_id']], axis=1)"
   ]
  },
  {
   "cell_type": "code",
   "execution_count": null,
   "metadata": {
    "collapsed": true
   },
   "outputs": [],
   "source": [
    "def RunModel(model, X_train, y_train, X_test, y_test):\n",
    "   model.fit(X_train, y_train.values.ravel())\n",
    "   pred = model.predict(X_test)\n",
    "   return pred\n",
    "def Evaluation(y_test, y_pred):\n",
    "    print(confusion_matrix(y_test, y_pred))\n",
    "    print(classification_report(y_test, y_pred))\n",
    "    print(accuracy_score(y_test, y_pred))"
   ]
  },
  {
   "cell_type": "code",
   "execution_count": null,
   "metadata": {
    "collapsed": true,
    "scrolled": true
   },
   "outputs": [],
   "source": [
    "X_train = data.drop(['class','signup_time', 'purchase_time', 'ip_address'], axis=1)\n",
    "X_test = test.drop(['class','signup_time', 'purchase_time', 'ip_address'], axis=1)"
   ]
  },
  {
   "cell_type": "code",
   "execution_count": null,
   "metadata": {},
   "outputs": [],
   "source": [
    "from sklearn.linear_model import LogisticRegression\n",
    "lr = LogisticRegression()\n",
    "pred = RunModel(lr, X_train, y_train, X_test, y_test)\n",
    "Evaluation(y_test,pred)"
   ]
  },
  {
   "cell_type": "code",
   "execution_count": null,
   "metadata": {},
   "outputs": [],
   "source": [
    "from sklearn.ensemble import RandomForestClassifier\n",
    "rf = RandomForestClassifier(n_estimators = 100, n_jobs =4)\n",
    "pred = RunModel(rf, X_train, y_train, X_test, y_test)\n",
    "Evaluation(y_test,pred)"
   ]
  },
  {
   "cell_type": "code",
   "execution_count": null,
   "metadata": {},
   "outputs": [],
   "source": [
    "from sklearn.neighbors import KNeighborsClassifier\n",
    "knn = KNeighborsClassifier()\n",
    "pred = RunModel(knn, X_train, y_train, X_test, y_test)\n",
    "Evaluation(y_test,pred)"
   ]
  },
  {
   "cell_type": "code",
   "execution_count": null,
   "metadata": {},
   "outputs": [],
   "source": [
    "from sklearn.naive_bayes import MultinomialNB, BernoulliNB\n",
    "nb = BernoulliNB()\n",
    "pred = RunModel(nb, X_train, y_train, X_test, y_test)\n",
    "Evaluation(y_test,pred)"
   ]
  },
  {
   "cell_type": "code",
   "execution_count": null,
   "metadata": {
    "collapsed": true
   },
   "outputs": [],
   "source": []
  }
 ],
 "metadata": {
  "kernelspec": {
   "display_name": "Python 3",
   "language": "python",
   "name": "python3"
  },
  "language_info": {
   "codemirror_mode": {
    "name": "ipython",
    "version": 3
   },
   "file_extension": ".py",
   "mimetype": "text/x-python",
   "name": "python",
   "nbconvert_exporter": "python",
   "pygments_lexer": "ipython3",
   "version": "3.6.3"
  }
 },
 "nbformat": 4,
 "nbformat_minor": 2
}
