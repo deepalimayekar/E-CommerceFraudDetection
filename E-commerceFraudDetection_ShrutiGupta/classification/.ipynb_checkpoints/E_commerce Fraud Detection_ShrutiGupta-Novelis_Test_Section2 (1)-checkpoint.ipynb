{
 "cells": [
  {
   "cell_type": "markdown",
   "metadata": {},
   "source": [
    "# <center>\"A Project on E-Commerce Fraudulent Activity Detection\"</center>\n",
    "\n",
    "\n",
    "###  <center> Author-Shruti Gupta</center>\n",
    "###  <center> Graduate Student MS-Computer Science@ IITC</center>\n",
    "### <center> Date: 08/12/2019</center>"
   ]
  },
  {
   "cell_type": "markdown",
   "metadata": {},
   "source": [
    "## Objective:\n",
    "- The goal of this application is to find out any Fraudulent activities happening for the first time users and transactions details.\n",
    "- Find out users country based on their Ip- Addresses ranges given\n",
    "- Find out the factors contributing highest to the fraudulent activities\n",
    "- Build different machine learning models and evaluate their performances and perform a legitimate analysis of the whole system and choose the best models which has a better catch of the fraudulent activities. \n"
   ]
  },
  {
   "cell_type": "markdown",
   "metadata": {},
   "source": [
    "## Problem Solving Approach and Discussion:\n",
    "\n",
    "The data I have been given is a labelled data which identifies the difference between fradulent and non-fraudulent transactions. There can be number of Supervised and even Un-supervised approaches that can be taken into consideration. As the objective is to find out every possible outlier or the case which does not look normal user activity, which makes it a CLASSIFICATION PROBLEM. For these kind of problem solving, I am choosing the following models in my project as below: \n",
    "\n",
    "- Random Forest\n",
    "- Random Forest(with SMOTE)\n",
    "- K-Nearest Neighbours\n",
    "- Logistic Regression\n",
    "- Isolation Forest\n",
    "\n",
    "We will find out below which classification Model works best as per the requirement of the problem. \n",
    "\n",
    "### Metrics and Evaluation:\n",
    "\n",
    "1. Accuracy\n",
    "2. Confusion Matrix\n",
    "3. Precision\n",
    "4. Recall\n",
    "5. F1-Score\n",
    "6. AUC(Area under curve ROC)\n",
    "\n",
    "As just Accuracy would not be the only metric we care about we want to find the right trade-off between the Precision and recall as Recall indicates the ability of model to find out the Fraudulent cases while Precision will indicate how many innocent users has been identified as the victims of being claimed as fraudulent users. Hence we chose F1-Score as a better metric to evaluate the model which handles this imbalance in the precision and recall(being the harmonic mean between the two). Also AUC is something we care for. "
   ]
  },
  {
   "cell_type": "markdown",
   "metadata": {},
   "source": [
    "## STEP-1: Importing the Libraries: "
   ]
  },
  {
   "cell_type": "code",
   "execution_count": 1,
   "metadata": {
    "collapsed": true
   },
   "outputs": [],
   "source": [
    "# Imports\n",
    "\n",
    "import matplotlib.pyplot as plt\n",
    "import numpy as np\n",
    "import pandas as pd\n",
    "import seaborn as sns\n",
    "from imblearn.over_sampling import SMOTE\n",
    "from pandas.api.types import is_string_dtype\n",
    "from sklearn.ensemble import IsolationForest\n",
    "from sklearn.ensemble import RandomForestClassifier\n",
    "from sklearn.linear_model import LogisticRegression\n",
    "from sklearn.metrics import (f1_score,\n",
    "                             roc_auc_score,\n",
    "                             roc_curve,\n",
    "                             accuracy_score,\n",
    "                             classification_report,\n",
    "                             confusion_matrix)\n",
    "from sklearn.model_selection import GridSearchCV\n",
    "from sklearn.model_selection import train_test_split\n",
    "from sklearn.neighbors import KNeighborsClassifier\n",
    "\n",
    "%matplotlib inline\n",
    "import warnings\n",
    "warnings.filterwarnings(\"ignore\")"
   ]
  },
  {
   "cell_type": "markdown",
   "metadata": {},
   "source": [
    "# STEP2: Data Loading"
   ]
  },
  {
   "cell_type": "code",
   "execution_count": 2,
   "metadata": {
    "collapsed": true
   },
   "outputs": [],
   "source": [
    "# Loading the data from both the CSV\n",
    "fraud_data_raw = pd.read_csv('Candidate_tech_evaluation_candidate_copy_data science_fraud.csv')\n",
    "fraud_data = fraud_data_raw.drop('Unnamed: 0', axis=1)\n",
    "country_ip_range = pd.read_excel('Candidate_tech_evaluation_candidate_copy_datascience_IpAddress_to_Country.xlsx')"
   ]
  },
  {
   "cell_type": "markdown",
   "metadata": {},
   "source": [
    "# STEP3: Data Exploration and Preprocessing"
   ]
  },
  {
   "cell_type": "markdown",
   "metadata": {},
   "source": [
    "### Feature Engineering: 1.Adding Country column as per the IP-Address of the user-id and mapping it. \n",
    "\n",
    "-This is useful representation and hence included in a part of feature engineering."
   ]
  },
  {
   "cell_type": "code",
   "execution_count": 3,
   "metadata": {},
   "outputs": [
    {
     "name": "stdout",
     "output_type": "stream",
     "text": [
      "2019-08-12 14:03:24.134617\n",
      "2019-08-12 14:07:44.308616\n"
     ]
    },
    {
     "data": {
      "text/html": [
       "<div>\n",
       "<style scoped>\n",
       "    .dataframe tbody tr th:only-of-type {\n",
       "        vertical-align: middle;\n",
       "    }\n",
       "\n",
       "    .dataframe tbody tr th {\n",
       "        vertical-align: top;\n",
       "    }\n",
       "\n",
       "    .dataframe thead th {\n",
       "        text-align: right;\n",
       "    }\n",
       "</style>\n",
       "<table border=\"1\" class=\"dataframe\">\n",
       "  <thead>\n",
       "    <tr style=\"text-align: right;\">\n",
       "      <th></th>\n",
       "      <th>user_id</th>\n",
       "      <th>signup_time</th>\n",
       "      <th>purchase_time</th>\n",
       "      <th>purchase_value</th>\n",
       "      <th>device_id</th>\n",
       "      <th>source</th>\n",
       "      <th>browser</th>\n",
       "      <th>sex</th>\n",
       "      <th>age</th>\n",
       "      <th>ip_address</th>\n",
       "      <th>class</th>\n",
       "      <th>country</th>\n",
       "    </tr>\n",
       "  </thead>\n",
       "  <tbody>\n",
       "    <tr>\n",
       "      <th>0</th>\n",
       "      <td>285108</td>\n",
       "      <td>7/15/2015 4:36</td>\n",
       "      <td>9/10/2015 14:17</td>\n",
       "      <td>31</td>\n",
       "      <td>HZAKVUFTDOSFD</td>\n",
       "      <td>Direct</td>\n",
       "      <td>Chrome</td>\n",
       "      <td>M</td>\n",
       "      <td>49</td>\n",
       "      <td>2.818400e+09</td>\n",
       "      <td>0</td>\n",
       "      <td>United States</td>\n",
       "    </tr>\n",
       "    <tr>\n",
       "      <th>1</th>\n",
       "      <td>131009</td>\n",
       "      <td>1/24/2015 12:29</td>\n",
       "      <td>4/13/2015 4:53</td>\n",
       "      <td>31</td>\n",
       "      <td>XGQAJSOUJIZCC</td>\n",
       "      <td>SEO</td>\n",
       "      <td>IE</td>\n",
       "      <td>F</td>\n",
       "      <td>21</td>\n",
       "      <td>3.251268e+09</td>\n",
       "      <td>0</td>\n",
       "      <td>United Kingdom</td>\n",
       "    </tr>\n",
       "    <tr>\n",
       "      <th>2</th>\n",
       "      <td>328855</td>\n",
       "      <td>3/11/2015 0:54</td>\n",
       "      <td>4/5/2015 12:23</td>\n",
       "      <td>16</td>\n",
       "      <td>VCCTAYDCWKZIY</td>\n",
       "      <td>Direct</td>\n",
       "      <td>IE</td>\n",
       "      <td>M</td>\n",
       "      <td>26</td>\n",
       "      <td>2.727760e+09</td>\n",
       "      <td>0</td>\n",
       "      <td>United States</td>\n",
       "    </tr>\n",
       "    <tr>\n",
       "      <th>3</th>\n",
       "      <td>229053</td>\n",
       "      <td>1/7/2015 13:19</td>\n",
       "      <td>1/9/2015 10:12</td>\n",
       "      <td>29</td>\n",
       "      <td>MFFIHYNXCJLEY</td>\n",
       "      <td>SEO</td>\n",
       "      <td>Chrome</td>\n",
       "      <td>M</td>\n",
       "      <td>34</td>\n",
       "      <td>2.083420e+09</td>\n",
       "      <td>0</td>\n",
       "      <td>Korea Republic of</td>\n",
       "    </tr>\n",
       "    <tr>\n",
       "      <th>4</th>\n",
       "      <td>108439</td>\n",
       "      <td>2/8/2015 21:11</td>\n",
       "      <td>4/9/2015 14:26</td>\n",
       "      <td>26</td>\n",
       "      <td>WMSXWGVPNIFBM</td>\n",
       "      <td>Ads</td>\n",
       "      <td>FireFox</td>\n",
       "      <td>M</td>\n",
       "      <td>33</td>\n",
       "      <td>3.207913e+09</td>\n",
       "      <td>0</td>\n",
       "      <td>Brazil</td>\n",
       "    </tr>\n",
       "    <tr>\n",
       "      <th>5</th>\n",
       "      <td>178528</td>\n",
       "      <td>4/20/2015 20:19</td>\n",
       "      <td>8/3/2015 20:17</td>\n",
       "      <td>35</td>\n",
       "      <td>HUFZWLDYJPRCK</td>\n",
       "      <td>SEO</td>\n",
       "      <td>Chrome</td>\n",
       "      <td>F</td>\n",
       "      <td>30</td>\n",
       "      <td>2.550204e+09</td>\n",
       "      <td>0</td>\n",
       "      <td>United States</td>\n",
       "    </tr>\n",
       "    <tr>\n",
       "      <th>6</th>\n",
       "      <td>323775</td>\n",
       "      <td>6/30/2015 7:34</td>\n",
       "      <td>9/5/2015 16:59</td>\n",
       "      <td>28</td>\n",
       "      <td>DLOOEWQCUQRKZ</td>\n",
       "      <td>SEO</td>\n",
       "      <td>Safari</td>\n",
       "      <td>M</td>\n",
       "      <td>47</td>\n",
       "      <td>4.075994e+09</td>\n",
       "      <td>0</td>\n",
       "      <td></td>\n",
       "    </tr>\n",
       "    <tr>\n",
       "      <th>7</th>\n",
       "      <td>69189</td>\n",
       "      <td>3/10/2015 1:53</td>\n",
       "      <td>6/30/2015 17:37</td>\n",
       "      <td>21</td>\n",
       "      <td>NRJPZDBHXNQJG</td>\n",
       "      <td>SEO</td>\n",
       "      <td>FireFox</td>\n",
       "      <td>F</td>\n",
       "      <td>47</td>\n",
       "      <td>2.753449e+09</td>\n",
       "      <td>0</td>\n",
       "      <td>Germany</td>\n",
       "    </tr>\n",
       "    <tr>\n",
       "      <th>8</th>\n",
       "      <td>70424</td>\n",
       "      <td>7/5/2015 16:54</td>\n",
       "      <td>8/25/2015 16:08</td>\n",
       "      <td>43</td>\n",
       "      <td>YDLNPVEWMTMMZ</td>\n",
       "      <td>Direct</td>\n",
       "      <td>IE</td>\n",
       "      <td>M</td>\n",
       "      <td>40</td>\n",
       "      <td>3.310808e+09</td>\n",
       "      <td>0</td>\n",
       "      <td>South Africa</td>\n",
       "    </tr>\n",
       "    <tr>\n",
       "      <th>9</th>\n",
       "      <td>328496</td>\n",
       "      <td>7/23/2015 12:48</td>\n",
       "      <td>10/20/2015 13:01</td>\n",
       "      <td>40</td>\n",
       "      <td>HTOCRWCBYIQJI</td>\n",
       "      <td>Ads</td>\n",
       "      <td>Safari</td>\n",
       "      <td>M</td>\n",
       "      <td>33</td>\n",
       "      <td>2.185371e+09</td>\n",
       "      <td>0</td>\n",
       "      <td>France</td>\n",
       "    </tr>\n",
       "    <tr>\n",
       "      <th>10</th>\n",
       "      <td>182104</td>\n",
       "      <td>4/7/2015 7:59</td>\n",
       "      <td>6/13/2015 16:49</td>\n",
       "      <td>69</td>\n",
       "      <td>SPVQVNLIPZJWM</td>\n",
       "      <td>Ads</td>\n",
       "      <td>Chrome</td>\n",
       "      <td>M</td>\n",
       "      <td>35</td>\n",
       "      <td>2.621939e+09</td>\n",
       "      <td>0</td>\n",
       "      <td>United States</td>\n",
       "    </tr>\n",
       "    <tr>\n",
       "      <th>11</th>\n",
       "      <td>97677</td>\n",
       "      <td>5/11/2015 2:28</td>\n",
       "      <td>7/20/2015 21:37</td>\n",
       "      <td>79</td>\n",
       "      <td>GNVLAANUJMKFC</td>\n",
       "      <td>SEO</td>\n",
       "      <td>Chrome</td>\n",
       "      <td>F</td>\n",
       "      <td>27</td>\n",
       "      <td>2.821272e+09</td>\n",
       "      <td>0</td>\n",
       "      <td>United States</td>\n",
       "    </tr>\n",
       "    <tr>\n",
       "      <th>12</th>\n",
       "      <td>264899</td>\n",
       "      <td>1/12/2015 11:43</td>\n",
       "      <td>1/12/2015 11:43</td>\n",
       "      <td>57</td>\n",
       "      <td>RGNKMWSCHLGFL</td>\n",
       "      <td>Direct</td>\n",
       "      <td>Chrome</td>\n",
       "      <td>M</td>\n",
       "      <td>32</td>\n",
       "      <td>1.288372e+09</td>\n",
       "      <td>1</td>\n",
       "      <td>United States</td>\n",
       "    </tr>\n",
       "    <tr>\n",
       "      <th>13</th>\n",
       "      <td>355662</td>\n",
       "      <td>4/21/2015 2:11</td>\n",
       "      <td>5/2/2015 12:34</td>\n",
       "      <td>19</td>\n",
       "      <td>WCHFHKFWCCHKP</td>\n",
       "      <td>SEO</td>\n",
       "      <td>IE</td>\n",
       "      <td>M</td>\n",
       "      <td>30</td>\n",
       "      <td>1.997833e+09</td>\n",
       "      <td>0</td>\n",
       "      <td>China</td>\n",
       "    </tr>\n",
       "    <tr>\n",
       "      <th>14</th>\n",
       "      <td>56064</td>\n",
       "      <td>3/11/2015 0:17</td>\n",
       "      <td>5/10/2015 4:26</td>\n",
       "      <td>74</td>\n",
       "      <td>RMSLTNGBWEQNX</td>\n",
       "      <td>Ads</td>\n",
       "      <td>FireFox</td>\n",
       "      <td>F</td>\n",
       "      <td>41</td>\n",
       "      <td>3.171210e+09</td>\n",
       "      <td>0</td>\n",
       "      <td>Brazil</td>\n",
       "    </tr>\n",
       "    <tr>\n",
       "      <th>15</th>\n",
       "      <td>53001</td>\n",
       "      <td>5/17/2015 5:00</td>\n",
       "      <td>7/19/2015 5:13</td>\n",
       "      <td>18</td>\n",
       "      <td>LSLXAWCOXFZVZ</td>\n",
       "      <td>Direct</td>\n",
       "      <td>Chrome</td>\n",
       "      <td>M</td>\n",
       "      <td>19</td>\n",
       "      <td>8.429303e+08</td>\n",
       "      <td>0</td>\n",
       "      <td>United States</td>\n",
       "    </tr>\n",
       "    <tr>\n",
       "      <th>16</th>\n",
       "      <td>92730</td>\n",
       "      <td>2/23/2015 15:13</td>\n",
       "      <td>3/24/2015 20:46</td>\n",
       "      <td>26</td>\n",
       "      <td>JZBROJHMGMPYK</td>\n",
       "      <td>SEO</td>\n",
       "      <td>IE</td>\n",
       "      <td>M</td>\n",
       "      <td>22</td>\n",
       "      <td>1.849441e+09</td>\n",
       "      <td>0</td>\n",
       "      <td>China</td>\n",
       "    </tr>\n",
       "    <tr>\n",
       "      <th>17</th>\n",
       "      <td>272080</td>\n",
       "      <td>6/23/2015 12:15</td>\n",
       "      <td>8/26/2015 1:42</td>\n",
       "      <td>40</td>\n",
       "      <td>NBCCGOYVYSVAV</td>\n",
       "      <td>SEO</td>\n",
       "      <td>FireFox</td>\n",
       "      <td>M</td>\n",
       "      <td>20</td>\n",
       "      <td>1.074954e+09</td>\n",
       "      <td>0</td>\n",
       "      <td>United States</td>\n",
       "    </tr>\n",
       "    <tr>\n",
       "      <th>18</th>\n",
       "      <td>109078</td>\n",
       "      <td>1/6/2015 15:53</td>\n",
       "      <td>2/4/2015 10:13</td>\n",
       "      <td>45</td>\n",
       "      <td>BQEQZLIYAGOEJ</td>\n",
       "      <td>SEO</td>\n",
       "      <td>Chrome</td>\n",
       "      <td>M</td>\n",
       "      <td>33</td>\n",
       "      <td>4.263154e+08</td>\n",
       "      <td>0</td>\n",
       "      <td>United Kingdom</td>\n",
       "    </tr>\n",
       "    <tr>\n",
       "      <th>19</th>\n",
       "      <td>391908</td>\n",
       "      <td>2/2/2015 6:28</td>\n",
       "      <td>5/28/2015 11:10</td>\n",
       "      <td>32</td>\n",
       "      <td>OQSADNKPZYRIJ</td>\n",
       "      <td>SEO</td>\n",
       "      <td>Safari</td>\n",
       "      <td>F</td>\n",
       "      <td>24</td>\n",
       "      <td>3.893642e+09</td>\n",
       "      <td>0</td>\n",
       "      <td></td>\n",
       "    </tr>\n",
       "    <tr>\n",
       "      <th>20</th>\n",
       "      <td>82221</td>\n",
       "      <td>2/18/2015 23:17</td>\n",
       "      <td>4/15/2015 20:10</td>\n",
       "      <td>31</td>\n",
       "      <td>URSKIYDIIZEYQ</td>\n",
       "      <td>SEO</td>\n",
       "      <td>Chrome</td>\n",
       "      <td>M</td>\n",
       "      <td>31</td>\n",
       "      <td>2.960698e+09</td>\n",
       "      <td>0</td>\n",
       "      <td>Spain</td>\n",
       "    </tr>\n",
       "    <tr>\n",
       "      <th>21</th>\n",
       "      <td>330545</td>\n",
       "      <td>3/29/2015 17:31</td>\n",
       "      <td>7/5/2015 7:46</td>\n",
       "      <td>14</td>\n",
       "      <td>QNEIKYWIQWHGH</td>\n",
       "      <td>Ads</td>\n",
       "      <td>Chrome</td>\n",
       "      <td>M</td>\n",
       "      <td>46</td>\n",
       "      <td>4.111381e+09</td>\n",
       "      <td>0</td>\n",
       "      <td></td>\n",
       "    </tr>\n",
       "    <tr>\n",
       "      <th>22</th>\n",
       "      <td>279891</td>\n",
       "      <td>6/28/2015 11:48</td>\n",
       "      <td>7/2/2015 5:18</td>\n",
       "      <td>21</td>\n",
       "      <td>QBAGOENALVIES</td>\n",
       "      <td>SEO</td>\n",
       "      <td>Safari</td>\n",
       "      <td>M</td>\n",
       "      <td>42</td>\n",
       "      <td>4.094404e+08</td>\n",
       "      <td>0</td>\n",
       "      <td>United States</td>\n",
       "    </tr>\n",
       "    <tr>\n",
       "      <th>23</th>\n",
       "      <td>341169</td>\n",
       "      <td>3/8/2015 13:08</td>\n",
       "      <td>5/15/2015 6:48</td>\n",
       "      <td>43</td>\n",
       "      <td>YQWZFJBVAAGEI</td>\n",
       "      <td>SEO</td>\n",
       "      <td>IE</td>\n",
       "      <td>M</td>\n",
       "      <td>40</td>\n",
       "      <td>2.981257e+09</td>\n",
       "      <td>0</td>\n",
       "      <td>Brazil</td>\n",
       "    </tr>\n",
       "    <tr>\n",
       "      <th>24</th>\n",
       "      <td>231703</td>\n",
       "      <td>4/27/2015 1:56</td>\n",
       "      <td>5/16/2015 18:04</td>\n",
       "      <td>62</td>\n",
       "      <td>QWNCJGWROVAPC</td>\n",
       "      <td>SEO</td>\n",
       "      <td>IE</td>\n",
       "      <td>M</td>\n",
       "      <td>36</td>\n",
       "      <td>3.105494e+09</td>\n",
       "      <td>0</td>\n",
       "      <td>Belgium</td>\n",
       "    </tr>\n",
       "    <tr>\n",
       "      <th>25</th>\n",
       "      <td>300671</td>\n",
       "      <td>7/14/2015 13:48</td>\n",
       "      <td>7/27/2015 0:11</td>\n",
       "      <td>17</td>\n",
       "      <td>SFFCWGRKEIMAJ</td>\n",
       "      <td>Direct</td>\n",
       "      <td>FireFox</td>\n",
       "      <td>M</td>\n",
       "      <td>34</td>\n",
       "      <td>7.442482e+08</td>\n",
       "      <td>0</td>\n",
       "      <td>United States</td>\n",
       "    </tr>\n",
       "    <tr>\n",
       "      <th>26</th>\n",
       "      <td>93064</td>\n",
       "      <td>2/8/2015 16:08</td>\n",
       "      <td>2/28/2015 4:51</td>\n",
       "      <td>47</td>\n",
       "      <td>AEYAECNYVTYRI</td>\n",
       "      <td>Ads</td>\n",
       "      <td>FireFox</td>\n",
       "      <td>M</td>\n",
       "      <td>29</td>\n",
       "      <td>1.056750e+09</td>\n",
       "      <td>0</td>\n",
       "      <td>United Kingdom</td>\n",
       "    </tr>\n",
       "    <tr>\n",
       "      <th>27</th>\n",
       "      <td>41373</td>\n",
       "      <td>1/6/2015 13:42</td>\n",
       "      <td>1/6/2015 13:42</td>\n",
       "      <td>56</td>\n",
       "      <td>BYSNUKLSWIKBD</td>\n",
       "      <td>SEO</td>\n",
       "      <td>Chrome</td>\n",
       "      <td>M</td>\n",
       "      <td>27</td>\n",
       "      <td>1.239228e+09</td>\n",
       "      <td>1</td>\n",
       "      <td>United States</td>\n",
       "    </tr>\n",
       "    <tr>\n",
       "      <th>28</th>\n",
       "      <td>244122</td>\n",
       "      <td>4/27/2015 5:51</td>\n",
       "      <td>7/14/2015 3:01</td>\n",
       "      <td>55</td>\n",
       "      <td>UQSDGMBUMRUBA</td>\n",
       "      <td>Ads</td>\n",
       "      <td>Chrome</td>\n",
       "      <td>F</td>\n",
       "      <td>63</td>\n",
       "      <td>9.428285e+08</td>\n",
       "      <td>0</td>\n",
       "      <td>United States</td>\n",
       "    </tr>\n",
       "    <tr>\n",
       "      <th>29</th>\n",
       "      <td>313007</td>\n",
       "      <td>3/20/2015 22:55</td>\n",
       "      <td>3/23/2015 2:18</td>\n",
       "      <td>55</td>\n",
       "      <td>YQNMUUXHDYFTE</td>\n",
       "      <td>SEO</td>\n",
       "      <td>Chrome</td>\n",
       "      <td>M</td>\n",
       "      <td>26</td>\n",
       "      <td>1.909623e+09</td>\n",
       "      <td>0</td>\n",
       "      <td>Malaysia</td>\n",
       "    </tr>\n",
       "    <tr>\n",
       "      <th>...</th>\n",
       "      <td>...</td>\n",
       "      <td>...</td>\n",
       "      <td>...</td>\n",
       "      <td>...</td>\n",
       "      <td>...</td>\n",
       "      <td>...</td>\n",
       "      <td>...</td>\n",
       "      <td>...</td>\n",
       "      <td>...</td>\n",
       "      <td>...</td>\n",
       "      <td>...</td>\n",
       "      <td>...</td>\n",
       "    </tr>\n",
       "    <tr>\n",
       "      <th>119970</th>\n",
       "      <td>40075</td>\n",
       "      <td>1/13/2015 6:24</td>\n",
       "      <td>4/6/2015 5:49</td>\n",
       "      <td>33</td>\n",
       "      <td>BXZZKJRBSDBHI</td>\n",
       "      <td>Direct</td>\n",
       "      <td>Chrome</td>\n",
       "      <td>M</td>\n",
       "      <td>27</td>\n",
       "      <td>1.219900e+09</td>\n",
       "      <td>0</td>\n",
       "      <td>United States</td>\n",
       "    </tr>\n",
       "    <tr>\n",
       "      <th>119971</th>\n",
       "      <td>266494</td>\n",
       "      <td>8/10/2015 8:00</td>\n",
       "      <td>8/13/2015 0:05</td>\n",
       "      <td>49</td>\n",
       "      <td>MBOMFDXJCAKIZ</td>\n",
       "      <td>SEO</td>\n",
       "      <td>Safari</td>\n",
       "      <td>M</td>\n",
       "      <td>23</td>\n",
       "      <td>2.663983e+07</td>\n",
       "      <td>0</td>\n",
       "      <td>Australia</td>\n",
       "    </tr>\n",
       "    <tr>\n",
       "      <th>119972</th>\n",
       "      <td>316204</td>\n",
       "      <td>3/23/2015 13:40</td>\n",
       "      <td>5/1/2015 23:19</td>\n",
       "      <td>21</td>\n",
       "      <td>HFGATAGBGFJON</td>\n",
       "      <td>SEO</td>\n",
       "      <td>Safari</td>\n",
       "      <td>F</td>\n",
       "      <td>27</td>\n",
       "      <td>1.426735e+09</td>\n",
       "      <td>0</td>\n",
       "      <td>Croatia (LOCAL Name: Hrvatska)</td>\n",
       "    </tr>\n",
       "    <tr>\n",
       "      <th>119973</th>\n",
       "      <td>65107</td>\n",
       "      <td>2/14/2015 17:28</td>\n",
       "      <td>6/8/2015 12:26</td>\n",
       "      <td>40</td>\n",
       "      <td>VAOVJOJIJRCKF</td>\n",
       "      <td>Direct</td>\n",
       "      <td>Chrome</td>\n",
       "      <td>M</td>\n",
       "      <td>21</td>\n",
       "      <td>2.661960e+09</td>\n",
       "      <td>0</td>\n",
       "      <td>Chile</td>\n",
       "    </tr>\n",
       "    <tr>\n",
       "      <th>119974</th>\n",
       "      <td>131403</td>\n",
       "      <td>1/10/2015 13:27</td>\n",
       "      <td>1/10/2015 13:27</td>\n",
       "      <td>76</td>\n",
       "      <td>DAKVYHKIEYRBH</td>\n",
       "      <td>SEO</td>\n",
       "      <td>Chrome</td>\n",
       "      <td>F</td>\n",
       "      <td>48</td>\n",
       "      <td>6.361041e+08</td>\n",
       "      <td>1</td>\n",
       "      <td>Hungary</td>\n",
       "    </tr>\n",
       "    <tr>\n",
       "      <th>119975</th>\n",
       "      <td>358342</td>\n",
       "      <td>2/6/2015 10:49</td>\n",
       "      <td>2/24/2015 9:14</td>\n",
       "      <td>39</td>\n",
       "      <td>VKSQMLMCCGIFK</td>\n",
       "      <td>Ads</td>\n",
       "      <td>Chrome</td>\n",
       "      <td>M</td>\n",
       "      <td>26</td>\n",
       "      <td>3.550108e+09</td>\n",
       "      <td>0</td>\n",
       "      <td>China</td>\n",
       "    </tr>\n",
       "    <tr>\n",
       "      <th>119976</th>\n",
       "      <td>82106</td>\n",
       "      <td>8/14/2015 23:23</td>\n",
       "      <td>10/15/2015 11:31</td>\n",
       "      <td>17</td>\n",
       "      <td>JDMCUQZPIOMRL</td>\n",
       "      <td>Ads</td>\n",
       "      <td>IE</td>\n",
       "      <td>M</td>\n",
       "      <td>35</td>\n",
       "      <td>3.411219e+09</td>\n",
       "      <td>0</td>\n",
       "      <td>Papua New Guinea</td>\n",
       "    </tr>\n",
       "    <tr>\n",
       "      <th>119977</th>\n",
       "      <td>167468</td>\n",
       "      <td>7/2/2015 21:05</td>\n",
       "      <td>8/25/2015 13:29</td>\n",
       "      <td>44</td>\n",
       "      <td>MQYOCEZHCTIIJ</td>\n",
       "      <td>SEO</td>\n",
       "      <td>Chrome</td>\n",
       "      <td>F</td>\n",
       "      <td>35</td>\n",
       "      <td>1.697438e+08</td>\n",
       "      <td>0</td>\n",
       "      <td></td>\n",
       "    </tr>\n",
       "    <tr>\n",
       "      <th>119978</th>\n",
       "      <td>127911</td>\n",
       "      <td>5/2/2015 2:01</td>\n",
       "      <td>6/20/2015 7:52</td>\n",
       "      <td>56</td>\n",
       "      <td>XZPEVZYOFDOWT</td>\n",
       "      <td>SEO</td>\n",
       "      <td>Safari</td>\n",
       "      <td>F</td>\n",
       "      <td>34</td>\n",
       "      <td>8.409750e+08</td>\n",
       "      <td>0</td>\n",
       "      <td>United States</td>\n",
       "    </tr>\n",
       "    <tr>\n",
       "      <th>119979</th>\n",
       "      <td>214279</td>\n",
       "      <td>1/9/2015 1:14</td>\n",
       "      <td>2/25/2015 5:39</td>\n",
       "      <td>38</td>\n",
       "      <td>BRMKXWBWUGIOX</td>\n",
       "      <td>SEO</td>\n",
       "      <td>Chrome</td>\n",
       "      <td>M</td>\n",
       "      <td>28</td>\n",
       "      <td>6.970860e+08</td>\n",
       "      <td>0</td>\n",
       "      <td>Morocco</td>\n",
       "    </tr>\n",
       "    <tr>\n",
       "      <th>119980</th>\n",
       "      <td>129418</td>\n",
       "      <td>3/12/2015 9:21</td>\n",
       "      <td>7/9/2015 1:03</td>\n",
       "      <td>33</td>\n",
       "      <td>ALRJLGBEPSAKN</td>\n",
       "      <td>SEO</td>\n",
       "      <td>Chrome</td>\n",
       "      <td>M</td>\n",
       "      <td>35</td>\n",
       "      <td>1.708451e+09</td>\n",
       "      <td>0</td>\n",
       "      <td>India</td>\n",
       "    </tr>\n",
       "    <tr>\n",
       "      <th>119981</th>\n",
       "      <td>117790</td>\n",
       "      <td>3/31/2015 17:46</td>\n",
       "      <td>7/14/2015 20:26</td>\n",
       "      <td>43</td>\n",
       "      <td>KNDBHXZXXZSUY</td>\n",
       "      <td>SEO</td>\n",
       "      <td>Chrome</td>\n",
       "      <td>F</td>\n",
       "      <td>31</td>\n",
       "      <td>1.513786e+09</td>\n",
       "      <td>0</td>\n",
       "      <td>France</td>\n",
       "    </tr>\n",
       "    <tr>\n",
       "      <th>119982</th>\n",
       "      <td>104227</td>\n",
       "      <td>6/20/2015 0:59</td>\n",
       "      <td>10/15/2015 21:07</td>\n",
       "      <td>66</td>\n",
       "      <td>SYARHUOLMSUMS</td>\n",
       "      <td>SEO</td>\n",
       "      <td>Chrome</td>\n",
       "      <td>M</td>\n",
       "      <td>48</td>\n",
       "      <td>1.137077e+09</td>\n",
       "      <td>0</td>\n",
       "      <td>United States</td>\n",
       "    </tr>\n",
       "    <tr>\n",
       "      <th>119983</th>\n",
       "      <td>395774</td>\n",
       "      <td>5/23/2015 3:14</td>\n",
       "      <td>7/20/2015 17:53</td>\n",
       "      <td>44</td>\n",
       "      <td>LBCIZMIWOUTWL</td>\n",
       "      <td>Ads</td>\n",
       "      <td>Chrome</td>\n",
       "      <td>F</td>\n",
       "      <td>21</td>\n",
       "      <td>2.943086e+08</td>\n",
       "      <td>0</td>\n",
       "      <td>United States</td>\n",
       "    </tr>\n",
       "    <tr>\n",
       "      <th>119984</th>\n",
       "      <td>294931</td>\n",
       "      <td>2/5/2015 9:08</td>\n",
       "      <td>2/23/2015 1:15</td>\n",
       "      <td>49</td>\n",
       "      <td>WIEIFVRPYUIIB</td>\n",
       "      <td>Direct</td>\n",
       "      <td>FireFox</td>\n",
       "      <td>M</td>\n",
       "      <td>23</td>\n",
       "      <td>3.463465e+09</td>\n",
       "      <td>0</td>\n",
       "      <td>United States</td>\n",
       "    </tr>\n",
       "    <tr>\n",
       "      <th>119985</th>\n",
       "      <td>262056</td>\n",
       "      <td>3/25/2015 9:19</td>\n",
       "      <td>3/30/2015 18:13</td>\n",
       "      <td>44</td>\n",
       "      <td>FSBIBEOOKOTEH</td>\n",
       "      <td>Ads</td>\n",
       "      <td>Chrome</td>\n",
       "      <td>M</td>\n",
       "      <td>27</td>\n",
       "      <td>1.398850e+09</td>\n",
       "      <td>0</td>\n",
       "      <td>Netherlands</td>\n",
       "    </tr>\n",
       "    <tr>\n",
       "      <th>119986</th>\n",
       "      <td>313833</td>\n",
       "      <td>8/16/2015 20:48</td>\n",
       "      <td>11/17/2015 9:43</td>\n",
       "      <td>12</td>\n",
       "      <td>GDATAKTYQUGWR</td>\n",
       "      <td>Ads</td>\n",
       "      <td>IE</td>\n",
       "      <td>M</td>\n",
       "      <td>55</td>\n",
       "      <td>5.690384e+08</td>\n",
       "      <td>0</td>\n",
       "      <td>United States</td>\n",
       "    </tr>\n",
       "    <tr>\n",
       "      <th>119987</th>\n",
       "      <td>124227</td>\n",
       "      <td>3/29/2015 3:58</td>\n",
       "      <td>6/22/2015 22:59</td>\n",
       "      <td>57</td>\n",
       "      <td>JPEDKYCRBPNEF</td>\n",
       "      <td>Direct</td>\n",
       "      <td>Safari</td>\n",
       "      <td>F</td>\n",
       "      <td>38</td>\n",
       "      <td>3.352140e+09</td>\n",
       "      <td>0</td>\n",
       "      <td>United States</td>\n",
       "    </tr>\n",
       "    <tr>\n",
       "      <th>119988</th>\n",
       "      <td>379065</td>\n",
       "      <td>3/14/2015 19:43</td>\n",
       "      <td>5/6/2015 15:09</td>\n",
       "      <td>48</td>\n",
       "      <td>TPVDXCUWUGJFV</td>\n",
       "      <td>Ads</td>\n",
       "      <td>Chrome</td>\n",
       "      <td>M</td>\n",
       "      <td>23</td>\n",
       "      <td>3.778213e+09</td>\n",
       "      <td>1</td>\n",
       "      <td></td>\n",
       "    </tr>\n",
       "    <tr>\n",
       "      <th>119989</th>\n",
       "      <td>19916</td>\n",
       "      <td>3/15/2015 9:51</td>\n",
       "      <td>5/23/2015 1:37</td>\n",
       "      <td>24</td>\n",
       "      <td>KTXGKQGOVLTAR</td>\n",
       "      <td>SEO</td>\n",
       "      <td>Chrome</td>\n",
       "      <td>M</td>\n",
       "      <td>32</td>\n",
       "      <td>4.270132e+09</td>\n",
       "      <td>0</td>\n",
       "      <td></td>\n",
       "    </tr>\n",
       "    <tr>\n",
       "      <th>119990</th>\n",
       "      <td>394991</td>\n",
       "      <td>1/5/2015 20:33</td>\n",
       "      <td>1/5/2015 20:33</td>\n",
       "      <td>43</td>\n",
       "      <td>HHRDVZXIVQSVZ</td>\n",
       "      <td>SEO</td>\n",
       "      <td>Safari</td>\n",
       "      <td>M</td>\n",
       "      <td>29</td>\n",
       "      <td>2.188027e+09</td>\n",
       "      <td>1</td>\n",
       "      <td>United States</td>\n",
       "    </tr>\n",
       "    <tr>\n",
       "      <th>119991</th>\n",
       "      <td>189144</td>\n",
       "      <td>7/18/2015 0:46</td>\n",
       "      <td>10/13/2015 16:25</td>\n",
       "      <td>90</td>\n",
       "      <td>RUFCOBOZXNKTC</td>\n",
       "      <td>Ads</td>\n",
       "      <td>FireFox</td>\n",
       "      <td>F</td>\n",
       "      <td>31</td>\n",
       "      <td>7.054946e+08</td>\n",
       "      <td>0</td>\n",
       "      <td>Korea Republic of</td>\n",
       "    </tr>\n",
       "    <tr>\n",
       "      <th>119992</th>\n",
       "      <td>313639</td>\n",
       "      <td>1/10/2015 7:26</td>\n",
       "      <td>1/24/2015 7:40</td>\n",
       "      <td>28</td>\n",
       "      <td>SJJTFOQLYMYNL</td>\n",
       "      <td>SEO</td>\n",
       "      <td>Chrome</td>\n",
       "      <td>M</td>\n",
       "      <td>34</td>\n",
       "      <td>2.284795e+09</td>\n",
       "      <td>0</td>\n",
       "      <td>United States</td>\n",
       "    </tr>\n",
       "    <tr>\n",
       "      <th>119993</th>\n",
       "      <td>394700</td>\n",
       "      <td>1/11/2015 3:34</td>\n",
       "      <td>1/11/2015 3:34</td>\n",
       "      <td>37</td>\n",
       "      <td>ZLINYCBCGUIEM</td>\n",
       "      <td>SEO</td>\n",
       "      <td>FireFox</td>\n",
       "      <td>M</td>\n",
       "      <td>41</td>\n",
       "      <td>2.058991e+09</td>\n",
       "      <td>1</td>\n",
       "      <td>India</td>\n",
       "    </tr>\n",
       "    <tr>\n",
       "      <th>119994</th>\n",
       "      <td>136653</td>\n",
       "      <td>8/15/2015 23:10</td>\n",
       "      <td>11/18/2015 15:23</td>\n",
       "      <td>38</td>\n",
       "      <td>PUFYNBDMIPAVJ</td>\n",
       "      <td>Ads</td>\n",
       "      <td>IE</td>\n",
       "      <td>M</td>\n",
       "      <td>33</td>\n",
       "      <td>3.764406e+09</td>\n",
       "      <td>0</td>\n",
       "      <td></td>\n",
       "    </tr>\n",
       "    <tr>\n",
       "      <th>119995</th>\n",
       "      <td>116698</td>\n",
       "      <td>2/26/2015 11:51</td>\n",
       "      <td>4/16/2015 22:57</td>\n",
       "      <td>46</td>\n",
       "      <td>UJYRDGZXTFFJG</td>\n",
       "      <td>Ads</td>\n",
       "      <td>Chrome</td>\n",
       "      <td>M</td>\n",
       "      <td>18</td>\n",
       "      <td>2.509395e+09</td>\n",
       "      <td>0</td>\n",
       "      <td>Netherlands</td>\n",
       "    </tr>\n",
       "    <tr>\n",
       "      <th>119996</th>\n",
       "      <td>122699</td>\n",
       "      <td>8/1/2015 18:40</td>\n",
       "      <td>8/25/2015 7:56</td>\n",
       "      <td>26</td>\n",
       "      <td>EMMTCPTUYQYPX</td>\n",
       "      <td>Ads</td>\n",
       "      <td>IE</td>\n",
       "      <td>F</td>\n",
       "      <td>36</td>\n",
       "      <td>2.946612e+09</td>\n",
       "      <td>0</td>\n",
       "      <td>China</td>\n",
       "    </tr>\n",
       "    <tr>\n",
       "      <th>119997</th>\n",
       "      <td>115120</td>\n",
       "      <td>7/25/2015 12:50</td>\n",
       "      <td>9/3/2015 4:10</td>\n",
       "      <td>41</td>\n",
       "      <td>YSZGGEARGETEU</td>\n",
       "      <td>SEO</td>\n",
       "      <td>Chrome</td>\n",
       "      <td>M</td>\n",
       "      <td>31</td>\n",
       "      <td>5.570629e+08</td>\n",
       "      <td>0</td>\n",
       "      <td>United States</td>\n",
       "    </tr>\n",
       "    <tr>\n",
       "      <th>119998</th>\n",
       "      <td>87098</td>\n",
       "      <td>4/2/2015 21:11</td>\n",
       "      <td>6/22/2015 16:51</td>\n",
       "      <td>50</td>\n",
       "      <td>BJDWRJULJZNOV</td>\n",
       "      <td>SEO</td>\n",
       "      <td>Chrome</td>\n",
       "      <td>F</td>\n",
       "      <td>43</td>\n",
       "      <td>2.687887e+09</td>\n",
       "      <td>0</td>\n",
       "      <td>Switzerland</td>\n",
       "    </tr>\n",
       "    <tr>\n",
       "      <th>119999</th>\n",
       "      <td>341401</td>\n",
       "      <td>7/15/2015 15:11</td>\n",
       "      <td>9/3/2015 13:45</td>\n",
       "      <td>32</td>\n",
       "      <td>AOKZUNMPCDKVK</td>\n",
       "      <td>Ads</td>\n",
       "      <td>Chrome</td>\n",
       "      <td>F</td>\n",
       "      <td>47</td>\n",
       "      <td>1.174840e+09</td>\n",
       "      <td>0</td>\n",
       "      <td>United States</td>\n",
       "    </tr>\n",
       "  </tbody>\n",
       "</table>\n",
       "<p>120000 rows × 12 columns</p>\n",
       "</div>"
      ],
      "text/plain": [
       "        user_id      signup_time    purchase_time  purchase_value  \\\n",
       "0        285108   7/15/2015 4:36  9/10/2015 14:17              31   \n",
       "1        131009  1/24/2015 12:29   4/13/2015 4:53              31   \n",
       "2        328855   3/11/2015 0:54   4/5/2015 12:23              16   \n",
       "3        229053   1/7/2015 13:19   1/9/2015 10:12              29   \n",
       "4        108439   2/8/2015 21:11   4/9/2015 14:26              26   \n",
       "...         ...              ...              ...             ...   \n",
       "119995   116698  2/26/2015 11:51  4/16/2015 22:57              46   \n",
       "119996   122699   8/1/2015 18:40   8/25/2015 7:56              26   \n",
       "119997   115120  7/25/2015 12:50    9/3/2015 4:10              41   \n",
       "119998    87098   4/2/2015 21:11  6/22/2015 16:51              50   \n",
       "119999   341401  7/15/2015 15:11   9/3/2015 13:45              32   \n",
       "\n",
       "            device_id  source  browser sex  age    ip_address  class  \\\n",
       "0       HZAKVUFTDOSFD  Direct   Chrome   M   49  2.818400e+09      0   \n",
       "1       XGQAJSOUJIZCC     SEO       IE   F   21  3.251268e+09      0   \n",
       "2       VCCTAYDCWKZIY  Direct       IE   M   26  2.727760e+09      0   \n",
       "3       MFFIHYNXCJLEY     SEO   Chrome   M   34  2.083420e+09      0   \n",
       "4       WMSXWGVPNIFBM     Ads  FireFox   M   33  3.207913e+09      0   \n",
       "...               ...     ...      ...  ..  ...           ...    ...   \n",
       "119995  UJYRDGZXTFFJG     Ads   Chrome   M   18  2.509395e+09      0   \n",
       "119996  EMMTCPTUYQYPX     Ads       IE   F   36  2.946612e+09      0   \n",
       "119997  YSZGGEARGETEU     SEO   Chrome   M   31  5.570629e+08      0   \n",
       "119998  BJDWRJULJZNOV     SEO   Chrome   F   43  2.687887e+09      0   \n",
       "119999  AOKZUNMPCDKVK     Ads   Chrome   F   47  1.174840e+09      0   \n",
       "\n",
       "                  country  \n",
       "0           United States  \n",
       "1          United Kingdom  \n",
       "2           United States  \n",
       "3       Korea Republic of  \n",
       "4                  Brazil  \n",
       "...                   ...  \n",
       "119995        Netherlands  \n",
       "119996              China  \n",
       "119997      United States  \n",
       "119998        Switzerland  \n",
       "119999      United States  \n",
       "\n",
       "[120000 rows x 12 columns]"
      ]
     },
     "execution_count": 3,
     "metadata": {},
     "output_type": "execute_result"
    }
   ],
   "source": [
    "# Find and map user country from ip address\n",
    "# NOTE: this method takes around 7-8 min of time \n",
    "\n",
    "import datetime\n",
    "print(datetime.datetime.now())\n",
    "country = []\n",
    "for i in fraud_data['ip_address']:\n",
    "   a = int(i) >= country_ip_range['lower_bound_ip_address']\n",
    "   b = int(i) <= country_ip_range['upper_bound_ip_address']\n",
    "   res = country_ip_range[a & b]\n",
    "   try:\n",
    "       country.append((res['country'].values[0]))\n",
    "   except:\n",
    "       country.append('')\n",
    "\n",
    "fraud_data['country'] = pd.DataFrame(country)\n",
    "print(datetime.datetime.now())\n",
    "\n",
    "fraud_data"
   ]
  },
  {
   "cell_type": "markdown",
   "metadata": {},
   "source": [
    "### Data Exploration:  \n",
    "\n",
    "#### Statistics of the various Feature attributes"
   ]
  },
  {
   "cell_type": "code",
   "execution_count": 4,
   "metadata": {},
   "outputs": [
    {
     "data": {
      "text/html": [
       "<div>\n",
       "<style scoped>\n",
       "    .dataframe tbody tr th:only-of-type {\n",
       "        vertical-align: middle;\n",
       "    }\n",
       "\n",
       "    .dataframe tbody tr th {\n",
       "        vertical-align: top;\n",
       "    }\n",
       "\n",
       "    .dataframe thead th {\n",
       "        text-align: right;\n",
       "    }\n",
       "</style>\n",
       "<table border=\"1\" class=\"dataframe\">\n",
       "  <thead>\n",
       "    <tr style=\"text-align: right;\">\n",
       "      <th></th>\n",
       "      <th>user_id</th>\n",
       "      <th>purchase_value</th>\n",
       "      <th>age</th>\n",
       "      <th>ip_address</th>\n",
       "      <th>class</th>\n",
       "    </tr>\n",
       "  </thead>\n",
       "  <tbody>\n",
       "    <tr>\n",
       "      <th>count</th>\n",
       "      <td>120000.000000</td>\n",
       "      <td>120000.000000</td>\n",
       "      <td>120000.000000</td>\n",
       "      <td>1.200000e+05</td>\n",
       "      <td>120000.000000</td>\n",
       "    </tr>\n",
       "    <tr>\n",
       "      <th>mean</th>\n",
       "      <td>200320.280100</td>\n",
       "      <td>36.881475</td>\n",
       "      <td>33.125250</td>\n",
       "      <td>2.151550e+09</td>\n",
       "      <td>0.093875</td>\n",
       "    </tr>\n",
       "    <tr>\n",
       "      <th>std</th>\n",
       "      <td>115361.945935</td>\n",
       "      <td>18.325855</td>\n",
       "      <td>8.617081</td>\n",
       "      <td>1.248314e+09</td>\n",
       "      <td>0.291656</td>\n",
       "    </tr>\n",
       "    <tr>\n",
       "      <th>min</th>\n",
       "      <td>2.000000</td>\n",
       "      <td>9.000000</td>\n",
       "      <td>18.000000</td>\n",
       "      <td>9.344714e+04</td>\n",
       "      <td>0.000000</td>\n",
       "    </tr>\n",
       "    <tr>\n",
       "      <th>25%</th>\n",
       "      <td>100925.500000</td>\n",
       "      <td>22.000000</td>\n",
       "      <td>27.000000</td>\n",
       "      <td>1.085345e+09</td>\n",
       "      <td>0.000000</td>\n",
       "    </tr>\n",
       "    <tr>\n",
       "      <th>50%</th>\n",
       "      <td>200037.500000</td>\n",
       "      <td>34.000000</td>\n",
       "      <td>33.000000</td>\n",
       "      <td>2.155238e+09</td>\n",
       "      <td>0.000000</td>\n",
       "    </tr>\n",
       "    <tr>\n",
       "      <th>75%</th>\n",
       "      <td>300395.500000</td>\n",
       "      <td>49.000000</td>\n",
       "      <td>39.000000</td>\n",
       "      <td>3.241268e+09</td>\n",
       "      <td>0.000000</td>\n",
       "    </tr>\n",
       "    <tr>\n",
       "      <th>max</th>\n",
       "      <td>400000.000000</td>\n",
       "      <td>154.000000</td>\n",
       "      <td>76.000000</td>\n",
       "      <td>4.294850e+09</td>\n",
       "      <td>1.000000</td>\n",
       "    </tr>\n",
       "  </tbody>\n",
       "</table>\n",
       "</div>"
      ],
      "text/plain": [
       "             user_id  purchase_value            age    ip_address  \\\n",
       "count  120000.000000   120000.000000  120000.000000  1.200000e+05   \n",
       "mean   200320.280100       36.881475      33.125250  2.151550e+09   \n",
       "std    115361.945935       18.325855       8.617081  1.248314e+09   \n",
       "min         2.000000        9.000000      18.000000  9.344714e+04   \n",
       "25%    100925.500000       22.000000      27.000000  1.085345e+09   \n",
       "50%    200037.500000       34.000000      33.000000  2.155238e+09   \n",
       "75%    300395.500000       49.000000      39.000000  3.241268e+09   \n",
       "max    400000.000000      154.000000      76.000000  4.294850e+09   \n",
       "\n",
       "               class  \n",
       "count  120000.000000  \n",
       "mean        0.093875  \n",
       "std         0.291656  \n",
       "min         0.000000  \n",
       "25%         0.000000  \n",
       "50%         0.000000  \n",
       "75%         0.000000  \n",
       "max         1.000000  "
      ]
     },
     "execution_count": 4,
     "metadata": {},
     "output_type": "execute_result"
    }
   ],
   "source": [
    "fraud_data.describe()"
   ]
  },
  {
   "cell_type": "markdown",
   "metadata": {},
   "source": [
    "#### Percentage of fraud transactions in all data"
   ]
  },
  {
   "cell_type": "code",
   "execution_count": 5,
   "metadata": {},
   "outputs": [
    {
     "name": "stdout",
     "output_type": "stream",
     "text": [
      "Percentage of data with fraud = 9.3875 \n"
     ]
    }
   ],
   "source": [
    "# Percentage of fraud transactions in all data\n",
    "\n",
    "fraud_data_distribution = fraud_data['class'].value_counts()\n",
    "ratio_normal_fraud = len(fraud_data[fraud_data['class']==1])/len(fraud_data['class'])\n",
    "print(\"Percentage of data with fraud = {} \".format(ratio_normal_fraud*100))"
   ]
  },
  {
   "cell_type": "markdown",
   "metadata": {},
   "source": [
    "#### Total length of the data"
   ]
  },
  {
   "cell_type": "code",
   "execution_count": 6,
   "metadata": {},
   "outputs": [
    {
     "data": {
      "text/plain": [
       "120000"
      ]
     },
     "execution_count": 6,
     "metadata": {},
     "output_type": "execute_result"
    }
   ],
   "source": [
    "# Total length of the data\n",
    "len(fraud_data['class'])"
   ]
  },
  {
   "cell_type": "markdown",
   "metadata": {},
   "source": [
    "#### Counts of Non-fraudulents and Fraudulent cases: "
   ]
  },
  {
   "cell_type": "code",
   "execution_count": 7,
   "metadata": {},
   "outputs": [
    {
     "name": "stdout",
     "output_type": "stream",
     "text": [
      "Counts of each class in data\n"
     ]
    },
    {
     "data": {
      "text/plain": [
       "0    108735\n",
       "1     11265\n",
       "Name: class, dtype: int64"
      ]
     },
     "execution_count": 7,
     "metadata": {},
     "output_type": "execute_result"
    }
   ],
   "source": [
    "print(\"Counts of each class in data\")\n",
    "fraud_data_distribution"
   ]
  },
  {
   "cell_type": "markdown",
   "metadata": {},
   "source": [
    "#### Normalised ratios of Non-fraudulent and Fraudulent cases"
   ]
  },
  {
   "cell_type": "code",
   "execution_count": 8,
   "metadata": {},
   "outputs": [
    {
     "data": {
      "text/plain": [
       "0    0.906125\n",
       "1    0.093875\n",
       "Name: class, dtype: float64"
      ]
     },
     "execution_count": 8,
     "metadata": {},
     "output_type": "execute_result"
    }
   ],
   "source": [
    "#Normalised ratios of Non-fraudulent and Fraudulent cases\n",
    "fraud_data['class'].value_counts(normalize=True)"
   ]
  },
  {
   "cell_type": "markdown",
   "metadata": {},
   "source": [
    "#### Normalised ratios of Male/Female in data"
   ]
  },
  {
   "cell_type": "code",
   "execution_count": 9,
   "metadata": {},
   "outputs": [
    {
     "data": {
      "text/plain": [
       "M    0.584383\n",
       "F    0.415617\n",
       "Name: sex, dtype: float64"
      ]
     },
     "execution_count": 9,
     "metadata": {},
     "output_type": "execute_result"
    }
   ],
   "source": [
    "# Normalised ratios of Male/Female in data\n",
    "fraud_data['sex'].value_counts(normalize=True)"
   ]
  },
  {
   "cell_type": "markdown",
   "metadata": {},
   "source": [
    "#### Data distribution of Average purchase value per class"
   ]
  },
  {
   "cell_type": "code",
   "execution_count": 10,
   "metadata": {},
   "outputs": [
    {
     "name": "stdout",
     "output_type": "stream",
     "text": [
      "Average purchase Value per class\n"
     ]
    },
    {
     "data": {
      "text/html": [
       "<div>\n",
       "<style scoped>\n",
       "    .dataframe tbody tr th:only-of-type {\n",
       "        vertical-align: middle;\n",
       "    }\n",
       "\n",
       "    .dataframe tbody tr th {\n",
       "        vertical-align: top;\n",
       "    }\n",
       "\n",
       "    .dataframe thead th {\n",
       "        text-align: right;\n",
       "    }\n",
       "</style>\n",
       "<table border=\"1\" class=\"dataframe\">\n",
       "  <thead>\n",
       "    <tr style=\"text-align: right;\">\n",
       "      <th></th>\n",
       "      <th>purchase_value</th>\n",
       "    </tr>\n",
       "    <tr>\n",
       "      <th>class</th>\n",
       "      <th></th>\n",
       "    </tr>\n",
       "  </thead>\n",
       "  <tbody>\n",
       "    <tr>\n",
       "      <th>0</th>\n",
       "      <td>36.862344</td>\n",
       "    </tr>\n",
       "    <tr>\n",
       "      <th>1</th>\n",
       "      <td>37.066134</td>\n",
       "    </tr>\n",
       "  </tbody>\n",
       "</table>\n",
       "</div>"
      ],
      "text/plain": [
       "       purchase_value\n",
       "class                \n",
       "0           36.862344\n",
       "1           37.066134"
      ]
     },
     "execution_count": 10,
     "metadata": {},
     "output_type": "execute_result"
    }
   ],
   "source": [
    "#Average purchase value per class\n",
    "print(\"Average purchase Value per class\")\n",
    "fraud_data[['purchase_value','class']].groupby('class').mean()"
   ]
  },
  {
   "cell_type": "markdown",
   "metadata": {},
   "source": [
    "#### Data Pre-processing step for checking missing data:"
   ]
  },
  {
   "cell_type": "code",
   "execution_count": 11,
   "metadata": {},
   "outputs": [
    {
     "name": "stdout",
     "output_type": "stream",
     "text": [
      "Count of missing values\n"
     ]
    },
    {
     "data": {
      "text/plain": [
       "user_id           0\n",
       "signup_time       0\n",
       "purchase_time     0\n",
       "purchase_value    0\n",
       "device_id         0\n",
       "source            0\n",
       "browser           0\n",
       "sex               0\n",
       "age               0\n",
       "ip_address        0\n",
       "class             0\n",
       "country           0\n",
       "dtype: int64"
      ]
     },
     "execution_count": 11,
     "metadata": {},
     "output_type": "execute_result"
    }
   ],
   "source": [
    "# Checking any kinds of Missing Values in the data\n",
    "print(\"Count of missing values\")\n",
    "fraud_data.isna().sum()"
   ]
  },
  {
   "cell_type": "markdown",
   "metadata": {},
   "source": [
    "#### Data Pre-processing step for checking missing data and Special unknown fiels or characters and replacing them with NAN:"
   ]
  },
  {
   "cell_type": "code",
   "execution_count": 12,
   "metadata": {},
   "outputs": [
    {
     "name": "stdout",
     "output_type": "stream",
     "text": [
      "Count of missing values\n"
     ]
    },
    {
     "data": {
      "text/plain": [
       "user_id               0\n",
       "signup_time           0\n",
       "purchase_time         0\n",
       "purchase_value        0\n",
       "device_id             0\n",
       "source                0\n",
       "browser               0\n",
       "sex                   0\n",
       "age                   0\n",
       "ip_address            0\n",
       "class                 0\n",
       "country           17418\n",
       "dtype: int64"
      ]
     },
     "execution_count": 12,
     "metadata": {},
     "output_type": "execute_result"
    }
   ],
   "source": [
    "# Re-Checking for all the missing values and special unknown characters in the data\n",
    "\n",
    "print(\"Count of missing values\")\n",
    "\n",
    "# Replacing unknown countries with NAN\n",
    "fraud_data['country']=fraud_data['country'].replace(r'^\\s*$', np.nan, regex=True)\n",
    "fraud_data.isna().sum()"
   ]
  },
  {
   "cell_type": "markdown",
   "metadata": {},
   "source": [
    "#### Checking the data types of the data"
   ]
  },
  {
   "cell_type": "code",
   "execution_count": 13,
   "metadata": {},
   "outputs": [
    {
     "data": {
      "text/plain": [
       "user_id             int64\n",
       "signup_time        object\n",
       "purchase_time      object\n",
       "purchase_value      int64\n",
       "device_id          object\n",
       "source             object\n",
       "browser            object\n",
       "sex                object\n",
       "age                 int64\n",
       "ip_address        float64\n",
       "class               int64\n",
       "country            object\n",
       "dtype: object"
      ]
     },
     "execution_count": 13,
     "metadata": {},
     "output_type": "execute_result"
    }
   ],
   "source": [
    "# source data types, which we might have to convert some required in the later preprocessing step\n",
    "fraud_data.dtypes"
   ]
  },
  {
   "cell_type": "markdown",
   "metadata": {},
   "source": [
    "#### Data Exploration for Country to source Counts representation:"
   ]
  },
  {
   "cell_type": "code",
   "execution_count": 14,
   "metadata": {},
   "outputs": [
    {
     "name": "stdout",
     "output_type": "stream",
     "text": [
      "Country to Source Count\n"
     ]
    },
    {
     "data": {
      "text/html": [
       "<div>\n",
       "<style scoped>\n",
       "    .dataframe tbody tr th:only-of-type {\n",
       "        vertical-align: middle;\n",
       "    }\n",
       "\n",
       "    .dataframe tbody tr th {\n",
       "        vertical-align: top;\n",
       "    }\n",
       "\n",
       "    .dataframe thead th {\n",
       "        text-align: right;\n",
       "    }\n",
       "</style>\n",
       "<table border=\"1\" class=\"dataframe\">\n",
       "  <thead>\n",
       "    <tr style=\"text-align: right;\">\n",
       "      <th>source</th>\n",
       "      <th>Ads</th>\n",
       "      <th>Direct</th>\n",
       "      <th>SEO</th>\n",
       "    </tr>\n",
       "    <tr>\n",
       "      <th>country</th>\n",
       "      <th></th>\n",
       "      <th></th>\n",
       "      <th></th>\n",
       "    </tr>\n",
       "  </thead>\n",
       "  <tbody>\n",
       "    <tr>\n",
       "      <th>Afghanistan</th>\n",
       "      <td>1</td>\n",
       "      <td>1</td>\n",
       "      <td>3</td>\n",
       "    </tr>\n",
       "    <tr>\n",
       "      <th>Albania</th>\n",
       "      <td>4</td>\n",
       "      <td>2</td>\n",
       "      <td>4</td>\n",
       "    </tr>\n",
       "    <tr>\n",
       "      <th>Algeria</th>\n",
       "      <td>30</td>\n",
       "      <td>21</td>\n",
       "      <td>47</td>\n",
       "    </tr>\n",
       "    <tr>\n",
       "      <th>Angola</th>\n",
       "      <td>9</td>\n",
       "      <td>1</td>\n",
       "      <td>9</td>\n",
       "    </tr>\n",
       "    <tr>\n",
       "      <th>Antigua and Barbuda</th>\n",
       "      <td>1</td>\n",
       "      <td>0</td>\n",
       "      <td>1</td>\n",
       "    </tr>\n",
       "    <tr>\n",
       "      <th>Argentina</th>\n",
       "      <td>194</td>\n",
       "      <td>107</td>\n",
       "      <td>212</td>\n",
       "    </tr>\n",
       "    <tr>\n",
       "      <th>Armenia</th>\n",
       "      <td>3</td>\n",
       "      <td>5</td>\n",
       "      <td>4</td>\n",
       "    </tr>\n",
       "    <tr>\n",
       "      <th>Australia</th>\n",
       "      <td>556</td>\n",
       "      <td>310</td>\n",
       "      <td>625</td>\n",
       "    </tr>\n",
       "    <tr>\n",
       "      <th>Austria</th>\n",
       "      <td>138</td>\n",
       "      <td>79</td>\n",
       "      <td>132</td>\n",
       "    </tr>\n",
       "    <tr>\n",
       "      <th>Azerbaijan</th>\n",
       "      <td>11</td>\n",
       "      <td>1</td>\n",
       "      <td>9</td>\n",
       "    </tr>\n",
       "    <tr>\n",
       "      <th>Bahamas</th>\n",
       "      <td>1</td>\n",
       "      <td>1</td>\n",
       "      <td>2</td>\n",
       "    </tr>\n",
       "    <tr>\n",
       "      <th>Bahrain</th>\n",
       "      <td>2</td>\n",
       "      <td>1</td>\n",
       "      <td>6</td>\n",
       "    </tr>\n",
       "    <tr>\n",
       "      <th>Bangladesh</th>\n",
       "      <td>14</td>\n",
       "      <td>6</td>\n",
       "      <td>10</td>\n",
       "    </tr>\n",
       "    <tr>\n",
       "      <th>Barbados</th>\n",
       "      <td>3</td>\n",
       "      <td>1</td>\n",
       "      <td>3</td>\n",
       "    </tr>\n",
       "    <tr>\n",
       "      <th>Belarus</th>\n",
       "      <td>26</td>\n",
       "      <td>16</td>\n",
       "      <td>17</td>\n",
       "    </tr>\n",
       "    <tr>\n",
       "      <th>Belgium</th>\n",
       "      <td>120</td>\n",
       "      <td>62</td>\n",
       "      <td>127</td>\n",
       "    </tr>\n",
       "    <tr>\n",
       "      <th>Belize</th>\n",
       "      <td>4</td>\n",
       "      <td>1</td>\n",
       "      <td>1</td>\n",
       "    </tr>\n",
       "    <tr>\n",
       "      <th>Benin</th>\n",
       "      <td>1</td>\n",
       "      <td>0</td>\n",
       "      <td>1</td>\n",
       "    </tr>\n",
       "    <tr>\n",
       "      <th>Bermuda</th>\n",
       "      <td>0</td>\n",
       "      <td>0</td>\n",
       "      <td>1</td>\n",
       "    </tr>\n",
       "    <tr>\n",
       "      <th>Bhutan</th>\n",
       "      <td>0</td>\n",
       "      <td>0</td>\n",
       "      <td>2</td>\n",
       "    </tr>\n",
       "    <tr>\n",
       "      <th>Bolivia</th>\n",
       "      <td>12</td>\n",
       "      <td>12</td>\n",
       "      <td>22</td>\n",
       "    </tr>\n",
       "    <tr>\n",
       "      <th>Bosnia and Herzegowina</th>\n",
       "      <td>12</td>\n",
       "      <td>5</td>\n",
       "      <td>10</td>\n",
       "    </tr>\n",
       "    <tr>\n",
       "      <th>Botswana</th>\n",
       "      <td>1</td>\n",
       "      <td>0</td>\n",
       "      <td>1</td>\n",
       "    </tr>\n",
       "    <tr>\n",
       "      <th>Brazil</th>\n",
       "      <td>950</td>\n",
       "      <td>518</td>\n",
       "      <td>885</td>\n",
       "    </tr>\n",
       "    <tr>\n",
       "      <th>British Indian Ocean Territory</th>\n",
       "      <td>0</td>\n",
       "      <td>0</td>\n",
       "      <td>1</td>\n",
       "    </tr>\n",
       "    <tr>\n",
       "      <th>Brunei Darussalam</th>\n",
       "      <td>1</td>\n",
       "      <td>1</td>\n",
       "      <td>2</td>\n",
       "    </tr>\n",
       "    <tr>\n",
       "      <th>Bulgaria</th>\n",
       "      <td>44</td>\n",
       "      <td>24</td>\n",
       "      <td>62</td>\n",
       "    </tr>\n",
       "    <tr>\n",
       "      <th>Burkina Faso</th>\n",
       "      <td>1</td>\n",
       "      <td>0</td>\n",
       "      <td>1</td>\n",
       "    </tr>\n",
       "    <tr>\n",
       "      <th>Cambodia</th>\n",
       "      <td>6</td>\n",
       "      <td>3</td>\n",
       "      <td>4</td>\n",
       "    </tr>\n",
       "    <tr>\n",
       "      <th>Cameroon</th>\n",
       "      <td>2</td>\n",
       "      <td>1</td>\n",
       "      <td>2</td>\n",
       "    </tr>\n",
       "    <tr>\n",
       "      <th>...</th>\n",
       "      <td>...</td>\n",
       "      <td>...</td>\n",
       "      <td>...</td>\n",
       "    </tr>\n",
       "    <tr>\n",
       "      <th>Slovenia</th>\n",
       "      <td>24</td>\n",
       "      <td>9</td>\n",
       "      <td>36</td>\n",
       "    </tr>\n",
       "    <tr>\n",
       "      <th>South Africa</th>\n",
       "      <td>268</td>\n",
       "      <td>130</td>\n",
       "      <td>257</td>\n",
       "    </tr>\n",
       "    <tr>\n",
       "      <th>South Sudan</th>\n",
       "      <td>0</td>\n",
       "      <td>0</td>\n",
       "      <td>1</td>\n",
       "    </tr>\n",
       "    <tr>\n",
       "      <th>Spain</th>\n",
       "      <td>335</td>\n",
       "      <td>173</td>\n",
       "      <td>334</td>\n",
       "    </tr>\n",
       "    <tr>\n",
       "      <th>Sri Lanka</th>\n",
       "      <td>14</td>\n",
       "      <td>2</td>\n",
       "      <td>6</td>\n",
       "    </tr>\n",
       "    <tr>\n",
       "      <th>Sudan</th>\n",
       "      <td>10</td>\n",
       "      <td>4</td>\n",
       "      <td>8</td>\n",
       "    </tr>\n",
       "    <tr>\n",
       "      <th>Sweden</th>\n",
       "      <td>343</td>\n",
       "      <td>159</td>\n",
       "      <td>340</td>\n",
       "    </tr>\n",
       "    <tr>\n",
       "      <th>Switzerland</th>\n",
       "      <td>237</td>\n",
       "      <td>132</td>\n",
       "      <td>270</td>\n",
       "    </tr>\n",
       "    <tr>\n",
       "      <th>Syrian Arab Republic</th>\n",
       "      <td>6</td>\n",
       "      <td>7</td>\n",
       "      <td>5</td>\n",
       "    </tr>\n",
       "    <tr>\n",
       "      <th>Taiwan; Republic of China (ROC)</th>\n",
       "      <td>420</td>\n",
       "      <td>195</td>\n",
       "      <td>352</td>\n",
       "    </tr>\n",
       "    <tr>\n",
       "      <th>Tanzania United Republic of</th>\n",
       "      <td>3</td>\n",
       "      <td>1</td>\n",
       "      <td>9</td>\n",
       "    </tr>\n",
       "    <tr>\n",
       "      <th>Thailand</th>\n",
       "      <td>99</td>\n",
       "      <td>40</td>\n",
       "      <td>86</td>\n",
       "    </tr>\n",
       "    <tr>\n",
       "      <th>Trinidad and Tobago</th>\n",
       "      <td>6</td>\n",
       "      <td>5</td>\n",
       "      <td>4</td>\n",
       "    </tr>\n",
       "    <tr>\n",
       "      <th>Tunisia</th>\n",
       "      <td>27</td>\n",
       "      <td>25</td>\n",
       "      <td>37</td>\n",
       "    </tr>\n",
       "    <tr>\n",
       "      <th>Turkey</th>\n",
       "      <td>186</td>\n",
       "      <td>85</td>\n",
       "      <td>185</td>\n",
       "    </tr>\n",
       "    <tr>\n",
       "      <th>Turkmenistan</th>\n",
       "      <td>0</td>\n",
       "      <td>0</td>\n",
       "      <td>1</td>\n",
       "    </tr>\n",
       "    <tr>\n",
       "      <th>Uganda</th>\n",
       "      <td>4</td>\n",
       "      <td>2</td>\n",
       "      <td>4</td>\n",
       "    </tr>\n",
       "    <tr>\n",
       "      <th>Ukraine</th>\n",
       "      <td>140</td>\n",
       "      <td>60</td>\n",
       "      <td>158</td>\n",
       "    </tr>\n",
       "    <tr>\n",
       "      <th>United Arab Emirates</th>\n",
       "      <td>33</td>\n",
       "      <td>28</td>\n",
       "      <td>35</td>\n",
       "    </tr>\n",
       "    <tr>\n",
       "      <th>United Kingdom</th>\n",
       "      <td>1421</td>\n",
       "      <td>697</td>\n",
       "      <td>1462</td>\n",
       "    </tr>\n",
       "    <tr>\n",
       "      <th>United States</th>\n",
       "      <td>18248</td>\n",
       "      <td>9291</td>\n",
       "      <td>18645</td>\n",
       "    </tr>\n",
       "    <tr>\n",
       "      <th>Uruguay</th>\n",
       "      <td>25</td>\n",
       "      <td>17</td>\n",
       "      <td>21</td>\n",
       "    </tr>\n",
       "    <tr>\n",
       "      <th>Uzbekistan</th>\n",
       "      <td>2</td>\n",
       "      <td>1</td>\n",
       "      <td>4</td>\n",
       "    </tr>\n",
       "    <tr>\n",
       "      <th>Vanuatu</th>\n",
       "      <td>0</td>\n",
       "      <td>0</td>\n",
       "      <td>1</td>\n",
       "    </tr>\n",
       "    <tr>\n",
       "      <th>Venezuela</th>\n",
       "      <td>84</td>\n",
       "      <td>34</td>\n",
       "      <td>82</td>\n",
       "    </tr>\n",
       "    <tr>\n",
       "      <th>Viet Nam</th>\n",
       "      <td>174</td>\n",
       "      <td>112</td>\n",
       "      <td>145</td>\n",
       "    </tr>\n",
       "    <tr>\n",
       "      <th>Virgin Islands (U.S.)</th>\n",
       "      <td>0</td>\n",
       "      <td>1</td>\n",
       "      <td>1</td>\n",
       "    </tr>\n",
       "    <tr>\n",
       "      <th>Yemen</th>\n",
       "      <td>0</td>\n",
       "      <td>0</td>\n",
       "      <td>1</td>\n",
       "    </tr>\n",
       "    <tr>\n",
       "      <th>Zambia</th>\n",
       "      <td>4</td>\n",
       "      <td>1</td>\n",
       "      <td>3</td>\n",
       "    </tr>\n",
       "    <tr>\n",
       "      <th>Zimbabwe</th>\n",
       "      <td>1</td>\n",
       "      <td>3</td>\n",
       "      <td>1</td>\n",
       "    </tr>\n",
       "  </tbody>\n",
       "</table>\n",
       "<p>176 rows × 3 columns</p>\n",
       "</div>"
      ],
      "text/plain": [
       "source                 Ads  Direct  SEO\n",
       "country                                \n",
       "Afghanistan              1       1    3\n",
       "Albania                  4       2    4\n",
       "Algeria                 30      21   47\n",
       "Angola                   9       1    9\n",
       "Antigua and Barbuda      1       0    1\n",
       "...                    ...     ...  ...\n",
       "Viet Nam               174     112  145\n",
       "Virgin Islands (U.S.)    0       1    1\n",
       "Yemen                    0       0    1\n",
       "Zambia                   4       1    3\n",
       "Zimbabwe                 1       3    1\n",
       "\n",
       "[176 rows x 3 columns]"
      ]
     },
     "execution_count": 14,
     "metadata": {},
     "output_type": "execute_result"
    }
   ],
   "source": [
    "print(\"Country to Source Count\")\n",
    "pd.crosstab(fraud_data.country, fraud_data.source)"
   ]
  },
  {
   "cell_type": "markdown",
   "metadata": {},
   "source": [
    "#### Data Exploration for CLass to Source Counts in the data : \n",
    "\n",
    "This is also an indication of most fraudulent cases occur through which channel as a source."
   ]
  },
  {
   "cell_type": "code",
   "execution_count": 15,
   "metadata": {},
   "outputs": [
    {
     "name": "stdout",
     "output_type": "stream",
     "text": [
      "Class to Source Count\n"
     ]
    },
    {
     "data": {
      "text/html": [
       "<div>\n",
       "<style scoped>\n",
       "    .dataframe tbody tr th:only-of-type {\n",
       "        vertical-align: middle;\n",
       "    }\n",
       "\n",
       "    .dataframe tbody tr th {\n",
       "        vertical-align: top;\n",
       "    }\n",
       "\n",
       "    .dataframe thead th {\n",
       "        text-align: right;\n",
       "    }\n",
       "</style>\n",
       "<table border=\"1\" class=\"dataframe\">\n",
       "  <thead>\n",
       "    <tr style=\"text-align: right;\">\n",
       "      <th>source</th>\n",
       "      <th>Ads</th>\n",
       "      <th>Direct</th>\n",
       "      <th>SEO</th>\n",
       "    </tr>\n",
       "    <tr>\n",
       "      <th>class</th>\n",
       "      <th></th>\n",
       "      <th></th>\n",
       "      <th></th>\n",
       "    </tr>\n",
       "  </thead>\n",
       "  <tbody>\n",
       "    <tr>\n",
       "      <th>0</th>\n",
       "      <td>43109</td>\n",
       "      <td>21681</td>\n",
       "      <td>43945</td>\n",
       "    </tr>\n",
       "    <tr>\n",
       "      <th>1</th>\n",
       "      <td>4352</td>\n",
       "      <td>2561</td>\n",
       "      <td>4352</td>\n",
       "    </tr>\n",
       "  </tbody>\n",
       "</table>\n",
       "</div>"
      ],
      "text/plain": [
       "source    Ads  Direct    SEO\n",
       "class                       \n",
       "0       43109   21681  43945\n",
       "1        4352    2561   4352"
      ]
     },
     "execution_count": 15,
     "metadata": {},
     "output_type": "execute_result"
    }
   ],
   "source": [
    "print(\"Class to Source Count\")\n",
    "pd.crosstab(fraud_data['class'], fraud_data.source)"
   ]
  },
  {
   "cell_type": "markdown",
   "metadata": {},
   "source": [
    "#### Data Exploration for Class to COuntry counts in the data:"
   ]
  },
  {
   "cell_type": "code",
   "execution_count": 16,
   "metadata": {},
   "outputs": [
    {
     "name": "stdout",
     "output_type": "stream",
     "text": [
      "Class to Country Count\n"
     ]
    },
    {
     "data": {
      "text/html": [
       "<div>\n",
       "<style scoped>\n",
       "    .dataframe tbody tr th:only-of-type {\n",
       "        vertical-align: middle;\n",
       "    }\n",
       "\n",
       "    .dataframe tbody tr th {\n",
       "        vertical-align: top;\n",
       "    }\n",
       "\n",
       "    .dataframe thead th {\n",
       "        text-align: right;\n",
       "    }\n",
       "</style>\n",
       "<table border=\"1\" class=\"dataframe\">\n",
       "  <thead>\n",
       "    <tr style=\"text-align: right;\">\n",
       "      <th>class</th>\n",
       "      <th>0</th>\n",
       "      <th>1</th>\n",
       "    </tr>\n",
       "    <tr>\n",
       "      <th>country</th>\n",
       "      <th></th>\n",
       "      <th></th>\n",
       "    </tr>\n",
       "  </thead>\n",
       "  <tbody>\n",
       "    <tr>\n",
       "      <th>Afghanistan</th>\n",
       "      <td>4</td>\n",
       "      <td>1</td>\n",
       "    </tr>\n",
       "    <tr>\n",
       "      <th>Albania</th>\n",
       "      <td>10</td>\n",
       "      <td>0</td>\n",
       "    </tr>\n",
       "    <tr>\n",
       "      <th>Algeria</th>\n",
       "      <td>88</td>\n",
       "      <td>10</td>\n",
       "    </tr>\n",
       "    <tr>\n",
       "      <th>Angola</th>\n",
       "      <td>18</td>\n",
       "      <td>1</td>\n",
       "    </tr>\n",
       "    <tr>\n",
       "      <th>Antigua and Barbuda</th>\n",
       "      <td>2</td>\n",
       "      <td>0</td>\n",
       "    </tr>\n",
       "    <tr>\n",
       "      <th>Argentina</th>\n",
       "      <td>457</td>\n",
       "      <td>56</td>\n",
       "    </tr>\n",
       "    <tr>\n",
       "      <th>Armenia</th>\n",
       "      <td>10</td>\n",
       "      <td>2</td>\n",
       "    </tr>\n",
       "    <tr>\n",
       "      <th>Australia</th>\n",
       "      <td>1356</td>\n",
       "      <td>135</td>\n",
       "    </tr>\n",
       "    <tr>\n",
       "      <th>Austria</th>\n",
       "      <td>323</td>\n",
       "      <td>26</td>\n",
       "    </tr>\n",
       "    <tr>\n",
       "      <th>Azerbaijan</th>\n",
       "      <td>19</td>\n",
       "      <td>2</td>\n",
       "    </tr>\n",
       "    <tr>\n",
       "      <th>Bahamas</th>\n",
       "      <td>4</td>\n",
       "      <td>0</td>\n",
       "    </tr>\n",
       "    <tr>\n",
       "      <th>Bahrain</th>\n",
       "      <td>9</td>\n",
       "      <td>0</td>\n",
       "    </tr>\n",
       "    <tr>\n",
       "      <th>Bangladesh</th>\n",
       "      <td>28</td>\n",
       "      <td>2</td>\n",
       "    </tr>\n",
       "    <tr>\n",
       "      <th>Barbados</th>\n",
       "      <td>7</td>\n",
       "      <td>0</td>\n",
       "    </tr>\n",
       "    <tr>\n",
       "      <th>Belarus</th>\n",
       "      <td>57</td>\n",
       "      <td>2</td>\n",
       "    </tr>\n",
       "    <tr>\n",
       "      <th>Belgium</th>\n",
       "      <td>264</td>\n",
       "      <td>45</td>\n",
       "    </tr>\n",
       "    <tr>\n",
       "      <th>Belize</th>\n",
       "      <td>6</td>\n",
       "      <td>0</td>\n",
       "    </tr>\n",
       "    <tr>\n",
       "      <th>Benin</th>\n",
       "      <td>2</td>\n",
       "      <td>0</td>\n",
       "    </tr>\n",
       "    <tr>\n",
       "      <th>Bermuda</th>\n",
       "      <td>1</td>\n",
       "      <td>0</td>\n",
       "    </tr>\n",
       "    <tr>\n",
       "      <th>Bhutan</th>\n",
       "      <td>2</td>\n",
       "      <td>0</td>\n",
       "    </tr>\n",
       "    <tr>\n",
       "      <th>Bolivia</th>\n",
       "      <td>35</td>\n",
       "      <td>11</td>\n",
       "    </tr>\n",
       "    <tr>\n",
       "      <th>Bosnia and Herzegowina</th>\n",
       "      <td>26</td>\n",
       "      <td>1</td>\n",
       "    </tr>\n",
       "    <tr>\n",
       "      <th>Botswana</th>\n",
       "      <td>2</td>\n",
       "      <td>0</td>\n",
       "    </tr>\n",
       "    <tr>\n",
       "      <th>Brazil</th>\n",
       "      <td>2135</td>\n",
       "      <td>218</td>\n",
       "    </tr>\n",
       "    <tr>\n",
       "      <th>British Indian Ocean Territory</th>\n",
       "      <td>1</td>\n",
       "      <td>0</td>\n",
       "    </tr>\n",
       "    <tr>\n",
       "      <th>Brunei Darussalam</th>\n",
       "      <td>4</td>\n",
       "      <td>0</td>\n",
       "    </tr>\n",
       "    <tr>\n",
       "      <th>Bulgaria</th>\n",
       "      <td>129</td>\n",
       "      <td>1</td>\n",
       "    </tr>\n",
       "    <tr>\n",
       "      <th>Burkina Faso</th>\n",
       "      <td>2</td>\n",
       "      <td>0</td>\n",
       "    </tr>\n",
       "    <tr>\n",
       "      <th>Cambodia</th>\n",
       "      <td>13</td>\n",
       "      <td>0</td>\n",
       "    </tr>\n",
       "    <tr>\n",
       "      <th>Cameroon</th>\n",
       "      <td>5</td>\n",
       "      <td>0</td>\n",
       "    </tr>\n",
       "    <tr>\n",
       "      <th>...</th>\n",
       "      <td>...</td>\n",
       "      <td>...</td>\n",
       "    </tr>\n",
       "    <tr>\n",
       "      <th>Slovenia</th>\n",
       "      <td>69</td>\n",
       "      <td>0</td>\n",
       "    </tr>\n",
       "    <tr>\n",
       "      <th>South Africa</th>\n",
       "      <td>593</td>\n",
       "      <td>62</td>\n",
       "    </tr>\n",
       "    <tr>\n",
       "      <th>South Sudan</th>\n",
       "      <td>1</td>\n",
       "      <td>0</td>\n",
       "    </tr>\n",
       "    <tr>\n",
       "      <th>Spain</th>\n",
       "      <td>783</td>\n",
       "      <td>59</td>\n",
       "    </tr>\n",
       "    <tr>\n",
       "      <th>Sri Lanka</th>\n",
       "      <td>14</td>\n",
       "      <td>8</td>\n",
       "    </tr>\n",
       "    <tr>\n",
       "      <th>Sudan</th>\n",
       "      <td>20</td>\n",
       "      <td>2</td>\n",
       "    </tr>\n",
       "    <tr>\n",
       "      <th>Sweden</th>\n",
       "      <td>735</td>\n",
       "      <td>107</td>\n",
       "    </tr>\n",
       "    <tr>\n",
       "      <th>Switzerland</th>\n",
       "      <td>587</td>\n",
       "      <td>52</td>\n",
       "    </tr>\n",
       "    <tr>\n",
       "      <th>Syrian Arab Republic</th>\n",
       "      <td>18</td>\n",
       "      <td>0</td>\n",
       "    </tr>\n",
       "    <tr>\n",
       "      <th>Taiwan; Republic of China (ROC)</th>\n",
       "      <td>885</td>\n",
       "      <td>82</td>\n",
       "    </tr>\n",
       "    <tr>\n",
       "      <th>Tanzania United Republic of</th>\n",
       "      <td>13</td>\n",
       "      <td>0</td>\n",
       "    </tr>\n",
       "    <tr>\n",
       "      <th>Thailand</th>\n",
       "      <td>210</td>\n",
       "      <td>15</td>\n",
       "    </tr>\n",
       "    <tr>\n",
       "      <th>Trinidad and Tobago</th>\n",
       "      <td>14</td>\n",
       "      <td>1</td>\n",
       "    </tr>\n",
       "    <tr>\n",
       "      <th>Tunisia</th>\n",
       "      <td>66</td>\n",
       "      <td>23</td>\n",
       "    </tr>\n",
       "    <tr>\n",
       "      <th>Turkey</th>\n",
       "      <td>423</td>\n",
       "      <td>33</td>\n",
       "    </tr>\n",
       "    <tr>\n",
       "      <th>Turkmenistan</th>\n",
       "      <td>0</td>\n",
       "      <td>1</td>\n",
       "    </tr>\n",
       "    <tr>\n",
       "      <th>Uganda</th>\n",
       "      <td>10</td>\n",
       "      <td>0</td>\n",
       "    </tr>\n",
       "    <tr>\n",
       "      <th>Ukraine</th>\n",
       "      <td>313</td>\n",
       "      <td>45</td>\n",
       "    </tr>\n",
       "    <tr>\n",
       "      <th>United Arab Emirates</th>\n",
       "      <td>83</td>\n",
       "      <td>13</td>\n",
       "    </tr>\n",
       "    <tr>\n",
       "      <th>United Kingdom</th>\n",
       "      <td>3208</td>\n",
       "      <td>372</td>\n",
       "    </tr>\n",
       "    <tr>\n",
       "      <th>United States</th>\n",
       "      <td>41712</td>\n",
       "      <td>4472</td>\n",
       "    </tr>\n",
       "    <tr>\n",
       "      <th>Uruguay</th>\n",
       "      <td>59</td>\n",
       "      <td>4</td>\n",
       "    </tr>\n",
       "    <tr>\n",
       "      <th>Uzbekistan</th>\n",
       "      <td>6</td>\n",
       "      <td>1</td>\n",
       "    </tr>\n",
       "    <tr>\n",
       "      <th>Vanuatu</th>\n",
       "      <td>1</td>\n",
       "      <td>0</td>\n",
       "    </tr>\n",
       "    <tr>\n",
       "      <th>Venezuela</th>\n",
       "      <td>170</td>\n",
       "      <td>30</td>\n",
       "    </tr>\n",
       "    <tr>\n",
       "      <th>Viet Nam</th>\n",
       "      <td>404</td>\n",
       "      <td>27</td>\n",
       "    </tr>\n",
       "    <tr>\n",
       "      <th>Virgin Islands (U.S.)</th>\n",
       "      <td>1</td>\n",
       "      <td>1</td>\n",
       "    </tr>\n",
       "    <tr>\n",
       "      <th>Yemen</th>\n",
       "      <td>1</td>\n",
       "      <td>0</td>\n",
       "    </tr>\n",
       "    <tr>\n",
       "      <th>Zambia</th>\n",
       "      <td>8</td>\n",
       "      <td>0</td>\n",
       "    </tr>\n",
       "    <tr>\n",
       "      <th>Zimbabwe</th>\n",
       "      <td>5</td>\n",
       "      <td>0</td>\n",
       "    </tr>\n",
       "  </tbody>\n",
       "</table>\n",
       "<p>176 rows × 2 columns</p>\n",
       "</div>"
      ],
      "text/plain": [
       "class                    0   1\n",
       "country                       \n",
       "Afghanistan              4   1\n",
       "Albania                 10   0\n",
       "Algeria                 88  10\n",
       "Angola                  18   1\n",
       "Antigua and Barbuda      2   0\n",
       "...                    ...  ..\n",
       "Viet Nam               404  27\n",
       "Virgin Islands (U.S.)    1   1\n",
       "Yemen                    1   0\n",
       "Zambia                   8   0\n",
       "Zimbabwe                 5   0\n",
       "\n",
       "[176 rows x 2 columns]"
      ]
     },
     "execution_count": 16,
     "metadata": {},
     "output_type": "execute_result"
    }
   ],
   "source": [
    "print(\"Class to Country Count\")\n",
    "pd.crosstab(fraud_data.country,fraud_data[\"class\"])"
   ]
  },
  {
   "cell_type": "markdown",
   "metadata": {},
   "source": [
    "#### Data Exploration of Top 10 Countries with highest to lowest fraud: \n",
    "\n",
    "As we can see that country has a huge impact on the fraud class probability so we included country as indicated before in our feature engineering step. There might be more features hidden in the data. Data exploration will definitely help in predicting those features.  "
   ]
  },
  {
   "cell_type": "code",
   "execution_count": 17,
   "metadata": {},
   "outputs": [
    {
     "data": {
      "text/plain": [
       "Text(0.5, 1.0, 'Top 10 Fraud User countries')"
      ]
     },
     "execution_count": 17,
     "metadata": {},
     "output_type": "execute_result"
    },
    {
     "data": {
      "image/png": "[encoded data removed]",
      "text/plain": [
       "<Figure size 432x288 with 1 Axes>"
      ]
     },
     "metadata": {
      "needs_background": "light"
     },
     "output_type": "display_data"
    }
   ],
   "source": [
    "# Find top 10 fraud countries in Descending order of fraud activity we found United States as first in that list \n",
    "\n",
    "%matplotlib inline\n",
    "\n",
    "fraud_data_class_1=fraud_data[fraud_data['class']==1]\n",
    "fraud_data_class_1.groupby('country')['country'].count().sort_values(ascending=False).head(10)\n",
    "fraud_data_class_1.groupby('country')['country'].count().sort_values(ascending=False).head(10).plot(kind='bar')\n",
    "plt.ylabel('Number of users')\n",
    "plt.title('Top 10 Fraud User countries')"
   ]
  },
  {
   "cell_type": "markdown",
   "metadata": {},
   "source": [
    "#### Data Exploration for inferring which gender group does more fraud from the data:"
   ]
  },
  {
   "cell_type": "code",
   "execution_count": 18,
   "metadata": {},
   "outputs": [
    {
     "data": {
      "text/plain": [
       "M    0.594141\n",
       "F    0.405859\n",
       "Name: sex, dtype: float64"
      ]
     },
     "execution_count": 18,
     "metadata": {},
     "output_type": "execute_result"
    }
   ],
   "source": [
    "# Value counts of Male/Female in fraudelent transactions\n",
    "#Mostly the fraudulent cases are recorded by males over females\n",
    "fraud_data_class_1['sex'].value_counts(normalize=True)"
   ]
  },
  {
   "cell_type": "markdown",
   "metadata": {},
   "source": [
    "#### Data Pre-processing step for type conversion of date-time objects:"
   ]
  },
  {
   "cell_type": "code",
   "execution_count": 19,
   "metadata": {
    "collapsed": true
   },
   "outputs": [],
   "source": [
    "# Convert data type of date time columns\n",
    "fraud_data.signup_time = fraud_data.signup_time.apply(pd.to_datetime)\n",
    "fraud_data.purchase_time = fraud_data.purchase_time.apply(pd.to_datetime)"
   ]
  },
  {
   "cell_type": "markdown",
   "metadata": {},
   "source": [
    "#### Data Exploration Step for Counts of Fradulent transactions happening at what hour is highest:"
   ]
  },
  {
   "cell_type": "code",
   "execution_count": 20,
   "metadata": {},
   "outputs": [
    {
     "data": {
      "text/plain": [
       "Text(0, 0.5, 'Count')"
      ]
     },
     "execution_count": 20,
     "metadata": {},
     "output_type": "execute_result"
    },
    {
     "data": {
      "image/png": "[encoded data removed]",
      "text/plain": [
       "<Figure size 432x288 with 1 Axes>"
      ]
     },
     "metadata": {
      "needs_background": "light"
     },
     "output_type": "display_data"
    }
   ],
   "source": [
    "# Count the number of fraudulent transactions per hour of the day\n",
    "fraud_data[fraud_data['class']==1].signup_time.apply(lambda x: x.hour).hist()\n",
    "plt.xlabel(\"Hour of Day\", fontsize=15)\n",
    "plt.ylabel(\"Count\", fontsize=15)"
   ]
  },
  {
   "cell_type": "markdown",
   "metadata": {},
   "source": [
    "#### Data Exploration  for finding a new feature : Diff between the sign-up time till purchase\n",
    "\n",
    "This seems to carry more meaning then just using individual time stamps. So we will engineer this extra feature in our data apart from the individual sign up and purchase times.  "
   ]
  },
  {
   "cell_type": "code",
   "execution_count": 21,
   "metadata": {
    "collapsed": true
   },
   "outputs": [],
   "source": [
    "# Calculate the time taken to purchase after signup\n",
    "fraud_data[\"signup_to_purchase_seconds\"] = (fraud_data.purchase_time - fraud_data.signup_time).apply(lambda x: x.seconds)"
   ]
  },
  {
   "cell_type": "markdown",
   "metadata": {},
   "source": [
    "### Feature Engineering: 2. New Feature \"Sign_up_to_purchase_time\": \n",
    "\n",
    "#### This seems to be a better identifier in terms of using just the Sign up and Purchase Time so we will be using that instead of them. "
   ]
  },
  {
   "cell_type": "code",
   "execution_count": 22,
   "metadata": {
    "collapsed": true
   },
   "outputs": [],
   "source": [
    "# Plot of count of time taken to purchase after signup\n",
    "\n",
    "def plot_count_of_time(class_value,fraud_data):\n",
    "    plt.figure(figsize=(16,8))\n",
    "    fraud_data_class=fraud_data[fraud_data['class']==class_value]\n",
    "    fraud_data_class['signup_to_purchase_h']=fraud_data_class['signup_to_purchase_seconds']/3600\n",
    "    \n",
    "    print(fraud_data_class['signup_to_purchase_h'].unique())\n",
    "    fraud_data_class=fraud_data_class.round({'signup_to_purchase_h': 0})\n",
    "    ax = sns.barplot(fraud_data_class['signup_to_purchase_h'].unique(),fraud_data_class['signup_to_purchase_h'].value_counts())\n",
    "    for patch in ax.patches:\n",
    "        ax.annotate('{:.0f}'.format(patch.get_height()), (patch.get_x()+0.3, patch.get_height()+100),fontsize=12)\n",
    "    ax.set_title(\"Unique Counts of signup_to_purchase_hours with class {0}\".format(class_value),fontsize=20)"
   ]
  },
  {
   "cell_type": "markdown",
   "metadata": {},
   "source": [
    "#### Data Exploration of this new feature time taken to purchase after signup with non fraudulent data"
   ]
  },
  {
   "cell_type": "code",
   "execution_count": 23,
   "metadata": {},
   "outputs": [
    {
     "name": "stdout",
     "output_type": "stream",
     "text": [
      "[ 9.68333333 16.4        11.48333333 ... 14.28333333 20.78333333\n",
      " 17.71666667]\n"
     ]
    },
    {
     "data": {
      "image/png": "[encoded data removed]",
      "text/plain": [
       "<Figure size 1152x576 with 1 Axes>"
      ]
     },
     "metadata": {
      "needs_background": "light"
     },
     "output_type": "display_data"
    }
   ],
   "source": [
    "# Plot of count of time taken to purchase after signup with non fraudulent data\n",
    "plot_count_of_time(0, fraud_data)"
   ]
  },
  {
   "cell_type": "markdown",
   "metadata": {},
   "source": [
    "#### Data Exlploration for counts of time taken to purchase after signup with fraudulent data"
   ]
  },
  {
   "cell_type": "code",
   "execution_count": 24,
   "metadata": {},
   "outputs": [
    {
     "name": "stdout",
     "output_type": "stream",
     "text": [
      "[ 0.          4.28333333 19.66666667 ... 19.83333333  5.73333333\n",
      " 23.46666667]\n"
     ]
    },
    {
     "data": {
      "image/png": "[encoded data removed]",
      "text/plain": [
       "<Figure size 1152x576 with 1 Axes>"
      ]
     },
     "metadata": {
      "needs_background": "light"
     },
     "output_type": "display_data"
    }
   ],
   "source": [
    "# Plot of count of time taken to purchase after signup with fraudulent data\n",
    "\n",
    "\n",
    "\n",
    "plot_count_of_time(1, fraud_data)"
   ]
  },
  {
   "cell_type": "markdown",
   "metadata": {},
   "source": [
    "### IMPORTANT POINT: We find very importantt fact here that most fraudulaent activities happen when the time diferrence is \"very short\" .\n",
    "\n",
    "#### Hence we include this as a new Feature in our dataset"
   ]
  },
  {
   "cell_type": "code",
   "execution_count": 25,
   "metadata": {},
   "outputs": [
    {
     "data": {
      "text/plain": [
       "Text(0, 0.5, 'Sign-up to Purchase Time in Sec')"
      ]
     },
     "execution_count": 25,
     "metadata": {},
     "output_type": "execute_result"
    },
    {
     "data": {
      "image/png": "[encoded data removed]",
      "text/plain": [
       "<Figure size 432x288 with 1 Axes>"
      ]
     },
     "metadata": {
      "needs_background": "light"
     },
     "output_type": "display_data"
    }
   ],
   "source": [
    "# Plot of Sign-up to Purchase Time in Sec\n",
    "sns.barplot(x=\"class\", y=\"signup_to_purchase_seconds\", data=fraud_data)\n",
    "plt.xlabel(\"Fraud to no fraud\", fontsize=15)\n",
    "plt.ylabel(\"Sign-up to Purchase Time in Sec\", fontsize=15)"
   ]
  },
  {
   "cell_type": "markdown",
   "metadata": {},
   "source": [
    "#### EDA for Purchase value vs type of class of transactions "
   ]
  },
  {
   "cell_type": "code",
   "execution_count": 26,
   "metadata": {},
   "outputs": [
    {
     "data": {
      "text/plain": [
       "Text(0.42499999999999716, 0.5, 'Purchase Value')"
      ]
     },
     "execution_count": 26,
     "metadata": {},
     "output_type": "execute_result"
    },
    {
     "data": {
      "image/png": "[encoded data removed]",
      "text/plain": [
       "<Figure size 360x360 with 1 Axes>"
      ]
     },
     "metadata": {
      "needs_background": "light"
     },
     "output_type": "display_data"
    }
   ],
   "source": [
    "# Plot of purchase value for fraudulent and non fraudulent transactions\n",
    "sns.factorplot(x=\"class\", y=\"purchase_value\", data=fraud_data)\n",
    "plt.xlabel(\"Fraud to no fraud\", fontsize=15)\n",
    "plt.ylabel(\"Purchase Value\", fontsize=15)"
   ]
  },
  {
   "cell_type": "code",
   "execution_count": 27,
   "metadata": {},
   "outputs": [
    {
     "data": {
      "text/plain": [
       "user_id                                int64\n",
       "signup_time                   datetime64[ns]\n",
       "purchase_time                 datetime64[ns]\n",
       "purchase_value                         int64\n",
       "device_id                             object\n",
       "source                                object\n",
       "browser                               object\n",
       "sex                                   object\n",
       "age                                    int64\n",
       "ip_address                           float64\n",
       "class                                  int64\n",
       "country                               object\n",
       "signup_to_purchase_seconds             int64\n",
       "dtype: object"
      ]
     },
     "execution_count": 27,
     "metadata": {},
     "output_type": "execute_result"
    }
   ],
   "source": [
    "# Checking datatypes of the computed fraud data\n",
    "fraud_data.dtypes"
   ]
  },
  {
   "cell_type": "markdown",
   "metadata": {},
   "source": [
    "#### Data Pre-processing step for Converting the Categorical data to Numerical attributes:\n",
    "\n",
    "We can also use Label Encoder from the pre-processing suite"
   ]
  },
  {
   "cell_type": "code",
   "execution_count": 28,
   "metadata": {
    "collapsed": true
   },
   "outputs": [],
   "source": [
    "# Converting the categorical data into numerical data\n",
    "source_dict = {'SEO':0, 'Ads':1, 'Direct':2}\n",
    "if is_string_dtype(fraud_data.source):\n",
    "    fraud_data.source = fraud_data.source.replace(source_dict)\n",
    "browser_dict = {'Chrome':0, 'Opera':1, 'Safari':2, 'IE':3, 'FireFox':4}\n",
    "if is_string_dtype(fraud_data.browser):\n",
    "    fraud_data.browser =fraud_data.browser.replace(browser_dict)\n",
    "if is_string_dtype(fraud_data.sex):\n",
    "    fraud_data['sex']=[1 if i == 'M' else 0 for i in fraud_data['sex']]"
   ]
  },
  {
   "cell_type": "code",
   "execution_count": 29,
   "metadata": {},
   "outputs": [
    {
     "data": {
      "text/plain": [
       "user_id                                int64\n",
       "signup_time                   datetime64[ns]\n",
       "purchase_time                 datetime64[ns]\n",
       "purchase_value                         int64\n",
       "device_id                             object\n",
       "source                                 int64\n",
       "browser                                int64\n",
       "sex                                    int64\n",
       "age                                    int64\n",
       "ip_address                           float64\n",
       "class                                  int64\n",
       "country                               object\n",
       "signup_to_purchase_seconds             int64\n",
       "dtype: object"
      ]
     },
     "execution_count": 29,
     "metadata": {},
     "output_type": "execute_result"
    }
   ],
   "source": [
    "# datatypes of the data after converting categorical to numeric data\n",
    "fraud_data.dtypes"
   ]
  },
  {
   "cell_type": "markdown",
   "metadata": {},
   "source": [
    "#### Data Pre-processing step for Converting the Country names to Numerical attributes:\n"
   ]
  },
  {
   "cell_type": "code",
   "execution_count": 30,
   "metadata": {
    "collapsed": true
   },
   "outputs": [],
   "source": [
    "# Assign numerical values to the countries in the data\n",
    "if is_string_dtype(fraud_data.country):\n",
    "    labels = fraud_data['country'].astype('category').cat.categories.tolist()\n",
    "    replace_map = {'country' : {country: label for country,label in zip(labels,list(range(1,len(labels)+1)))}}\n",
    "    fraud_data.replace(replace_map,inplace=True)\n",
    "    fraud_data['country'].fillna(0,inplace=True)\n"
   ]
  },
  {
   "cell_type": "code",
   "execution_count": 31,
   "metadata": {},
   "outputs": [
    {
     "data": {
      "text/plain": [
       "user_id                                int64\n",
       "signup_time                   datetime64[ns]\n",
       "purchase_time                 datetime64[ns]\n",
       "purchase_value                         int64\n",
       "device_id                             object\n",
       "source                                 int64\n",
       "browser                                int64\n",
       "sex                                    int64\n",
       "age                                    int64\n",
       "ip_address                           float64\n",
       "class                                  int64\n",
       "country                              float64\n",
       "signup_to_purchase_seconds             int64\n",
       "dtype: object"
      ]
     },
     "execution_count": 31,
     "metadata": {},
     "output_type": "execute_result"
    }
   ],
   "source": [
    "# datatypes of the data after converting countries to numeric data\n",
    "\n",
    "fraud_data.dtypes"
   ]
  },
  {
   "cell_type": "markdown",
   "metadata": {},
   "source": [
    "### Feature Engineering 3: Another Important Feature that seems is the number of \"Occurence of the Device-id\" in the data so adding that as the new feature based on the relevance as shwn below:\n",
    "\n",
    "As just device-id would not be a best attribute of relevance so making it even more meanigful by using counts of occurrence of a particualr devide id would be a better attribute of relevance. So adding that as a new feature in our data. \n"
   ]
  },
  {
   "cell_type": "code",
   "execution_count": 32,
   "metadata": {},
   "outputs": [
    {
     "data": {
      "text/plain": [
       "1     106386\n",
       "2       6832\n",
       "9        990\n",
       "8        840\n",
       "10       810\n",
       "11       748\n",
       "7        630\n",
       "12       612\n",
       "13       520\n",
       "6        444\n",
       "14       364\n",
       "5        305\n",
       "3        144\n",
       "15       105\n",
       "4        104\n",
       "16        96\n",
       "17        51\n",
       "19        19\n",
       "Name: occurence, dtype: int64"
      ]
     },
     "execution_count": 32,
     "metadata": {},
     "output_type": "execute_result"
    }
   ],
   "source": [
    "# Calculate occurence of device ids in the data\n",
    "\n",
    "fraud_data['occurence'] = 0\n",
    "device_id_occurence = fraud_data['device_id'].value_counts()\n",
    "fraud_data['occurence'] = fraud_data.apply(lambda row: device_id_occurence[row['device_id']], axis=1)\n",
    "fraud_data['occurence'].value_counts()"
   ]
  },
  {
   "cell_type": "markdown",
   "metadata": {},
   "source": [
    "#### Data Preprocessing- Dropping off ir-relevant columns from the data and keeping integrity of better features:"
   ]
  },
  {
   "cell_type": "code",
   "execution_count": 33,
   "metadata": {
    "collapsed": true
   },
   "outputs": [],
   "source": [
    "# Dropping irrelevant columns before our computation- purchase time, signup time, device id, ip address column\n",
    "\n",
    "fraud_data=fraud_data.drop('purchase_time',axis=1)\n",
    "fraud_data=fraud_data.drop('signup_time',axis=1)\n",
    "fraud_data=fraud_data.drop('device_id',axis=1)\n",
    "fraud_data=fraud_data.drop('ip_address',axis=1)"
   ]
  },
  {
   "cell_type": "markdown",
   "metadata": {},
   "source": [
    "## STEP3: Preparing the data for Train Test Split: "
   ]
  },
  {
   "cell_type": "code",
   "execution_count": 34,
   "metadata": {
    "collapsed": true
   },
   "outputs": [],
   "source": [
    "# drop class from the dataframe\n",
    "fraud_data_no_class=fraud_data\n",
    "fraud_data_no_class=fraud_data_no_class.drop('class',axis=1)"
   ]
  },
  {
   "cell_type": "code",
   "execution_count": 35,
   "metadata": {},
   "outputs": [
    {
     "data": {
      "text/html": [
       "<div>\n",
       "<style scoped>\n",
       "    .dataframe tbody tr th:only-of-type {\n",
       "        vertical-align: middle;\n",
       "    }\n",
       "\n",
       "    .dataframe tbody tr th {\n",
       "        vertical-align: top;\n",
       "    }\n",
       "\n",
       "    .dataframe thead th {\n",
       "        text-align: right;\n",
       "    }\n",
       "</style>\n",
       "<table border=\"1\" class=\"dataframe\">\n",
       "  <thead>\n",
       "    <tr style=\"text-align: right;\">\n",
       "      <th></th>\n",
       "      <th>user_id</th>\n",
       "      <th>purchase_value</th>\n",
       "      <th>source</th>\n",
       "      <th>browser</th>\n",
       "      <th>sex</th>\n",
       "      <th>age</th>\n",
       "      <th>country</th>\n",
       "      <th>signup_to_purchase_seconds</th>\n",
       "      <th>occurence</th>\n",
       "    </tr>\n",
       "  </thead>\n",
       "  <tbody>\n",
       "    <tr>\n",
       "      <th>0</th>\n",
       "      <td>285108</td>\n",
       "      <td>31</td>\n",
       "      <td>2</td>\n",
       "      <td>0</td>\n",
       "      <td>1</td>\n",
       "      <td>49</td>\n",
       "      <td>167.0</td>\n",
       "      <td>34860</td>\n",
       "      <td>2</td>\n",
       "    </tr>\n",
       "    <tr>\n",
       "      <th>1</th>\n",
       "      <td>131009</td>\n",
       "      <td>31</td>\n",
       "      <td>0</td>\n",
       "      <td>3</td>\n",
       "      <td>0</td>\n",
       "      <td>21</td>\n",
       "      <td>166.0</td>\n",
       "      <td>59040</td>\n",
       "      <td>1</td>\n",
       "    </tr>\n",
       "    <tr>\n",
       "      <th>2</th>\n",
       "      <td>328855</td>\n",
       "      <td>16</td>\n",
       "      <td>2</td>\n",
       "      <td>3</td>\n",
       "      <td>1</td>\n",
       "      <td>26</td>\n",
       "      <td>167.0</td>\n",
       "      <td>41340</td>\n",
       "      <td>1</td>\n",
       "    </tr>\n",
       "    <tr>\n",
       "      <th>3</th>\n",
       "      <td>229053</td>\n",
       "      <td>29</td>\n",
       "      <td>0</td>\n",
       "      <td>0</td>\n",
       "      <td>1</td>\n",
       "      <td>34</td>\n",
       "      <td>87.0</td>\n",
       "      <td>75180</td>\n",
       "      <td>1</td>\n",
       "    </tr>\n",
       "    <tr>\n",
       "      <th>4</th>\n",
       "      <td>108439</td>\n",
       "      <td>26</td>\n",
       "      <td>1</td>\n",
       "      <td>4</td>\n",
       "      <td>1</td>\n",
       "      <td>33</td>\n",
       "      <td>24.0</td>\n",
       "      <td>62100</td>\n",
       "      <td>1</td>\n",
       "    </tr>\n",
       "    <tr>\n",
       "      <th>5</th>\n",
       "      <td>178528</td>\n",
       "      <td>35</td>\n",
       "      <td>0</td>\n",
       "      <td>0</td>\n",
       "      <td>0</td>\n",
       "      <td>30</td>\n",
       "      <td>167.0</td>\n",
       "      <td>86280</td>\n",
       "      <td>1</td>\n",
       "    </tr>\n",
       "    <tr>\n",
       "      <th>6</th>\n",
       "      <td>323775</td>\n",
       "      <td>28</td>\n",
       "      <td>0</td>\n",
       "      <td>2</td>\n",
       "      <td>1</td>\n",
       "      <td>47</td>\n",
       "      <td>0.0</td>\n",
       "      <td>33900</td>\n",
       "      <td>1</td>\n",
       "    </tr>\n",
       "    <tr>\n",
       "      <th>7</th>\n",
       "      <td>69189</td>\n",
       "      <td>21</td>\n",
       "      <td>0</td>\n",
       "      <td>4</td>\n",
       "      <td>0</td>\n",
       "      <td>47</td>\n",
       "      <td>63.0</td>\n",
       "      <td>56640</td>\n",
       "      <td>1</td>\n",
       "    </tr>\n",
       "    <tr>\n",
       "      <th>8</th>\n",
       "      <td>70424</td>\n",
       "      <td>43</td>\n",
       "      <td>2</td>\n",
       "      <td>3</td>\n",
       "      <td>1</td>\n",
       "      <td>40</td>\n",
       "      <td>148.0</td>\n",
       "      <td>83640</td>\n",
       "      <td>1</td>\n",
       "    </tr>\n",
       "    <tr>\n",
       "      <th>9</th>\n",
       "      <td>328496</td>\n",
       "      <td>40</td>\n",
       "      <td>1</td>\n",
       "      <td>2</td>\n",
       "      <td>1</td>\n",
       "      <td>33</td>\n",
       "      <td>59.0</td>\n",
       "      <td>780</td>\n",
       "      <td>1</td>\n",
       "    </tr>\n",
       "    <tr>\n",
       "      <th>10</th>\n",
       "      <td>182104</td>\n",
       "      <td>69</td>\n",
       "      <td>1</td>\n",
       "      <td>0</td>\n",
       "      <td>1</td>\n",
       "      <td>35</td>\n",
       "      <td>167.0</td>\n",
       "      <td>31800</td>\n",
       "      <td>1</td>\n",
       "    </tr>\n",
       "    <tr>\n",
       "      <th>11</th>\n",
       "      <td>97677</td>\n",
       "      <td>79</td>\n",
       "      <td>0</td>\n",
       "      <td>0</td>\n",
       "      <td>0</td>\n",
       "      <td>27</td>\n",
       "      <td>167.0</td>\n",
       "      <td>68940</td>\n",
       "      <td>2</td>\n",
       "    </tr>\n",
       "    <tr>\n",
       "      <th>12</th>\n",
       "      <td>264899</td>\n",
       "      <td>57</td>\n",
       "      <td>2</td>\n",
       "      <td>0</td>\n",
       "      <td>1</td>\n",
       "      <td>32</td>\n",
       "      <td>167.0</td>\n",
       "      <td>0</td>\n",
       "      <td>9</td>\n",
       "    </tr>\n",
       "    <tr>\n",
       "      <th>13</th>\n",
       "      <td>355662</td>\n",
       "      <td>19</td>\n",
       "      <td>0</td>\n",
       "      <td>3</td>\n",
       "      <td>1</td>\n",
       "      <td>30</td>\n",
       "      <td>35.0</td>\n",
       "      <td>37380</td>\n",
       "      <td>1</td>\n",
       "    </tr>\n",
       "    <tr>\n",
       "      <th>14</th>\n",
       "      <td>56064</td>\n",
       "      <td>74</td>\n",
       "      <td>1</td>\n",
       "      <td>4</td>\n",
       "      <td>0</td>\n",
       "      <td>41</td>\n",
       "      <td>24.0</td>\n",
       "      <td>14940</td>\n",
       "      <td>1</td>\n",
       "    </tr>\n",
       "    <tr>\n",
       "      <th>15</th>\n",
       "      <td>53001</td>\n",
       "      <td>18</td>\n",
       "      <td>2</td>\n",
       "      <td>0</td>\n",
       "      <td>1</td>\n",
       "      <td>19</td>\n",
       "      <td>167.0</td>\n",
       "      <td>780</td>\n",
       "      <td>1</td>\n",
       "    </tr>\n",
       "    <tr>\n",
       "      <th>16</th>\n",
       "      <td>92730</td>\n",
       "      <td>26</td>\n",
       "      <td>0</td>\n",
       "      <td>3</td>\n",
       "      <td>1</td>\n",
       "      <td>22</td>\n",
       "      <td>35.0</td>\n",
       "      <td>19980</td>\n",
       "      <td>1</td>\n",
       "    </tr>\n",
       "    <tr>\n",
       "      <th>17</th>\n",
       "      <td>272080</td>\n",
       "      <td>40</td>\n",
       "      <td>0</td>\n",
       "      <td>4</td>\n",
       "      <td>1</td>\n",
       "      <td>20</td>\n",
       "      <td>167.0</td>\n",
       "      <td>48420</td>\n",
       "      <td>1</td>\n",
       "    </tr>\n",
       "    <tr>\n",
       "      <th>18</th>\n",
       "      <td>109078</td>\n",
       "      <td>45</td>\n",
       "      <td>0</td>\n",
       "      <td>0</td>\n",
       "      <td>1</td>\n",
       "      <td>33</td>\n",
       "      <td>166.0</td>\n",
       "      <td>66000</td>\n",
       "      <td>1</td>\n",
       "    </tr>\n",
       "    <tr>\n",
       "      <th>19</th>\n",
       "      <td>391908</td>\n",
       "      <td>32</td>\n",
       "      <td>0</td>\n",
       "      <td>2</td>\n",
       "      <td>0</td>\n",
       "      <td>24</td>\n",
       "      <td>0.0</td>\n",
       "      <td>16920</td>\n",
       "      <td>1</td>\n",
       "    </tr>\n",
       "    <tr>\n",
       "      <th>20</th>\n",
       "      <td>82221</td>\n",
       "      <td>31</td>\n",
       "      <td>0</td>\n",
       "      <td>0</td>\n",
       "      <td>1</td>\n",
       "      <td>31</td>\n",
       "      <td>150.0</td>\n",
       "      <td>75180</td>\n",
       "      <td>1</td>\n",
       "    </tr>\n",
       "    <tr>\n",
       "      <th>21</th>\n",
       "      <td>330545</td>\n",
       "      <td>14</td>\n",
       "      <td>1</td>\n",
       "      <td>0</td>\n",
       "      <td>1</td>\n",
       "      <td>46</td>\n",
       "      <td>0.0</td>\n",
       "      <td>51300</td>\n",
       "      <td>1</td>\n",
       "    </tr>\n",
       "    <tr>\n",
       "      <th>22</th>\n",
       "      <td>279891</td>\n",
       "      <td>21</td>\n",
       "      <td>0</td>\n",
       "      <td>2</td>\n",
       "      <td>1</td>\n",
       "      <td>42</td>\n",
       "      <td>167.0</td>\n",
       "      <td>63000</td>\n",
       "      <td>1</td>\n",
       "    </tr>\n",
       "    <tr>\n",
       "      <th>23</th>\n",
       "      <td>341169</td>\n",
       "      <td>43</td>\n",
       "      <td>0</td>\n",
       "      <td>3</td>\n",
       "      <td>1</td>\n",
       "      <td>40</td>\n",
       "      <td>24.0</td>\n",
       "      <td>63600</td>\n",
       "      <td>1</td>\n",
       "    </tr>\n",
       "    <tr>\n",
       "      <th>24</th>\n",
       "      <td>231703</td>\n",
       "      <td>62</td>\n",
       "      <td>0</td>\n",
       "      <td>3</td>\n",
       "      <td>1</td>\n",
       "      <td>36</td>\n",
       "      <td>16.0</td>\n",
       "      <td>58080</td>\n",
       "      <td>1</td>\n",
       "    </tr>\n",
       "    <tr>\n",
       "      <th>25</th>\n",
       "      <td>300671</td>\n",
       "      <td>17</td>\n",
       "      <td>2</td>\n",
       "      <td>4</td>\n",
       "      <td>1</td>\n",
       "      <td>34</td>\n",
       "      <td>167.0</td>\n",
       "      <td>37380</td>\n",
       "      <td>1</td>\n",
       "    </tr>\n",
       "    <tr>\n",
       "      <th>26</th>\n",
       "      <td>93064</td>\n",
       "      <td>47</td>\n",
       "      <td>1</td>\n",
       "      <td>4</td>\n",
       "      <td>1</td>\n",
       "      <td>29</td>\n",
       "      <td>166.0</td>\n",
       "      <td>45780</td>\n",
       "      <td>1</td>\n",
       "    </tr>\n",
       "    <tr>\n",
       "      <th>27</th>\n",
       "      <td>41373</td>\n",
       "      <td>56</td>\n",
       "      <td>0</td>\n",
       "      <td>0</td>\n",
       "      <td>1</td>\n",
       "      <td>27</td>\n",
       "      <td>167.0</td>\n",
       "      <td>0</td>\n",
       "      <td>13</td>\n",
       "    </tr>\n",
       "    <tr>\n",
       "      <th>28</th>\n",
       "      <td>244122</td>\n",
       "      <td>55</td>\n",
       "      <td>1</td>\n",
       "      <td>0</td>\n",
       "      <td>0</td>\n",
       "      <td>63</td>\n",
       "      <td>167.0</td>\n",
       "      <td>76200</td>\n",
       "      <td>1</td>\n",
       "    </tr>\n",
       "    <tr>\n",
       "      <th>29</th>\n",
       "      <td>313007</td>\n",
       "      <td>55</td>\n",
       "      <td>0</td>\n",
       "      <td>0</td>\n",
       "      <td>1</td>\n",
       "      <td>26</td>\n",
       "      <td>102.0</td>\n",
       "      <td>12180</td>\n",
       "      <td>1</td>\n",
       "    </tr>\n",
       "    <tr>\n",
       "      <th>...</th>\n",
       "      <td>...</td>\n",
       "      <td>...</td>\n",
       "      <td>...</td>\n",
       "      <td>...</td>\n",
       "      <td>...</td>\n",
       "      <td>...</td>\n",
       "      <td>...</td>\n",
       "      <td>...</td>\n",
       "      <td>...</td>\n",
       "    </tr>\n",
       "    <tr>\n",
       "      <th>119970</th>\n",
       "      <td>40075</td>\n",
       "      <td>33</td>\n",
       "      <td>2</td>\n",
       "      <td>0</td>\n",
       "      <td>1</td>\n",
       "      <td>27</td>\n",
       "      <td>167.0</td>\n",
       "      <td>84300</td>\n",
       "      <td>1</td>\n",
       "    </tr>\n",
       "    <tr>\n",
       "      <th>119971</th>\n",
       "      <td>266494</td>\n",
       "      <td>49</td>\n",
       "      <td>0</td>\n",
       "      <td>2</td>\n",
       "      <td>1</td>\n",
       "      <td>23</td>\n",
       "      <td>8.0</td>\n",
       "      <td>57900</td>\n",
       "      <td>1</td>\n",
       "    </tr>\n",
       "    <tr>\n",
       "      <th>119972</th>\n",
       "      <td>316204</td>\n",
       "      <td>21</td>\n",
       "      <td>0</td>\n",
       "      <td>2</td>\n",
       "      <td>0</td>\n",
       "      <td>27</td>\n",
       "      <td>41.0</td>\n",
       "      <td>34740</td>\n",
       "      <td>1</td>\n",
       "    </tr>\n",
       "    <tr>\n",
       "      <th>119973</th>\n",
       "      <td>65107</td>\n",
       "      <td>40</td>\n",
       "      <td>2</td>\n",
       "      <td>0</td>\n",
       "      <td>1</td>\n",
       "      <td>21</td>\n",
       "      <td>34.0</td>\n",
       "      <td>68280</td>\n",
       "      <td>1</td>\n",
       "    </tr>\n",
       "    <tr>\n",
       "      <th>119974</th>\n",
       "      <td>131403</td>\n",
       "      <td>76</td>\n",
       "      <td>0</td>\n",
       "      <td>0</td>\n",
       "      <td>0</td>\n",
       "      <td>48</td>\n",
       "      <td>73.0</td>\n",
       "      <td>0</td>\n",
       "      <td>11</td>\n",
       "    </tr>\n",
       "    <tr>\n",
       "      <th>119975</th>\n",
       "      <td>358342</td>\n",
       "      <td>39</td>\n",
       "      <td>1</td>\n",
       "      <td>0</td>\n",
       "      <td>1</td>\n",
       "      <td>26</td>\n",
       "      <td>35.0</td>\n",
       "      <td>80700</td>\n",
       "      <td>1</td>\n",
       "    </tr>\n",
       "    <tr>\n",
       "      <th>119976</th>\n",
       "      <td>82106</td>\n",
       "      <td>17</td>\n",
       "      <td>1</td>\n",
       "      <td>3</td>\n",
       "      <td>1</td>\n",
       "      <td>35</td>\n",
       "      <td>127.0</td>\n",
       "      <td>43680</td>\n",
       "      <td>1</td>\n",
       "    </tr>\n",
       "    <tr>\n",
       "      <th>119977</th>\n",
       "      <td>167468</td>\n",
       "      <td>44</td>\n",
       "      <td>0</td>\n",
       "      <td>0</td>\n",
       "      <td>0</td>\n",
       "      <td>35</td>\n",
       "      <td>0.0</td>\n",
       "      <td>59040</td>\n",
       "      <td>1</td>\n",
       "    </tr>\n",
       "    <tr>\n",
       "      <th>119978</th>\n",
       "      <td>127911</td>\n",
       "      <td>56</td>\n",
       "      <td>0</td>\n",
       "      <td>2</td>\n",
       "      <td>0</td>\n",
       "      <td>34</td>\n",
       "      <td>167.0</td>\n",
       "      <td>21060</td>\n",
       "      <td>1</td>\n",
       "    </tr>\n",
       "    <tr>\n",
       "      <th>119979</th>\n",
       "      <td>214279</td>\n",
       "      <td>38</td>\n",
       "      <td>0</td>\n",
       "      <td>0</td>\n",
       "      <td>1</td>\n",
       "      <td>28</td>\n",
       "      <td>111.0</td>\n",
       "      <td>15900</td>\n",
       "      <td>2</td>\n",
       "    </tr>\n",
       "    <tr>\n",
       "      <th>119980</th>\n",
       "      <td>129418</td>\n",
       "      <td>33</td>\n",
       "      <td>0</td>\n",
       "      <td>0</td>\n",
       "      <td>1</td>\n",
       "      <td>35</td>\n",
       "      <td>75.0</td>\n",
       "      <td>56520</td>\n",
       "      <td>1</td>\n",
       "    </tr>\n",
       "    <tr>\n",
       "      <th>119981</th>\n",
       "      <td>117790</td>\n",
       "      <td>43</td>\n",
       "      <td>0</td>\n",
       "      <td>0</td>\n",
       "      <td>0</td>\n",
       "      <td>31</td>\n",
       "      <td>59.0</td>\n",
       "      <td>9600</td>\n",
       "      <td>1</td>\n",
       "    </tr>\n",
       "    <tr>\n",
       "      <th>119982</th>\n",
       "      <td>104227</td>\n",
       "      <td>66</td>\n",
       "      <td>0</td>\n",
       "      <td>0</td>\n",
       "      <td>1</td>\n",
       "      <td>48</td>\n",
       "      <td>167.0</td>\n",
       "      <td>72480</td>\n",
       "      <td>1</td>\n",
       "    </tr>\n",
       "    <tr>\n",
       "      <th>119983</th>\n",
       "      <td>395774</td>\n",
       "      <td>44</td>\n",
       "      <td>1</td>\n",
       "      <td>0</td>\n",
       "      <td>0</td>\n",
       "      <td>21</td>\n",
       "      <td>167.0</td>\n",
       "      <td>52740</td>\n",
       "      <td>1</td>\n",
       "    </tr>\n",
       "    <tr>\n",
       "      <th>119984</th>\n",
       "      <td>294931</td>\n",
       "      <td>49</td>\n",
       "      <td>2</td>\n",
       "      <td>4</td>\n",
       "      <td>1</td>\n",
       "      <td>23</td>\n",
       "      <td>167.0</td>\n",
       "      <td>58020</td>\n",
       "      <td>1</td>\n",
       "    </tr>\n",
       "    <tr>\n",
       "      <th>119985</th>\n",
       "      <td>262056</td>\n",
       "      <td>44</td>\n",
       "      <td>1</td>\n",
       "      <td>0</td>\n",
       "      <td>1</td>\n",
       "      <td>27</td>\n",
       "      <td>117.0</td>\n",
       "      <td>32040</td>\n",
       "      <td>1</td>\n",
       "    </tr>\n",
       "    <tr>\n",
       "      <th>119986</th>\n",
       "      <td>313833</td>\n",
       "      <td>12</td>\n",
       "      <td>1</td>\n",
       "      <td>3</td>\n",
       "      <td>1</td>\n",
       "      <td>55</td>\n",
       "      <td>167.0</td>\n",
       "      <td>46500</td>\n",
       "      <td>2</td>\n",
       "    </tr>\n",
       "    <tr>\n",
       "      <th>119987</th>\n",
       "      <td>124227</td>\n",
       "      <td>57</td>\n",
       "      <td>2</td>\n",
       "      <td>2</td>\n",
       "      <td>0</td>\n",
       "      <td>38</td>\n",
       "      <td>167.0</td>\n",
       "      <td>68460</td>\n",
       "      <td>1</td>\n",
       "    </tr>\n",
       "    <tr>\n",
       "      <th>119988</th>\n",
       "      <td>379065</td>\n",
       "      <td>48</td>\n",
       "      <td>1</td>\n",
       "      <td>0</td>\n",
       "      <td>1</td>\n",
       "      <td>23</td>\n",
       "      <td>0.0</td>\n",
       "      <td>69960</td>\n",
       "      <td>2</td>\n",
       "    </tr>\n",
       "    <tr>\n",
       "      <th>119989</th>\n",
       "      <td>19916</td>\n",
       "      <td>24</td>\n",
       "      <td>0</td>\n",
       "      <td>0</td>\n",
       "      <td>1</td>\n",
       "      <td>32</td>\n",
       "      <td>0.0</td>\n",
       "      <td>56760</td>\n",
       "      <td>1</td>\n",
       "    </tr>\n",
       "    <tr>\n",
       "      <th>119990</th>\n",
       "      <td>394991</td>\n",
       "      <td>43</td>\n",
       "      <td>0</td>\n",
       "      <td>2</td>\n",
       "      <td>1</td>\n",
       "      <td>29</td>\n",
       "      <td>167.0</td>\n",
       "      <td>0</td>\n",
       "      <td>8</td>\n",
       "    </tr>\n",
       "    <tr>\n",
       "      <th>119991</th>\n",
       "      <td>189144</td>\n",
       "      <td>90</td>\n",
       "      <td>1</td>\n",
       "      <td>4</td>\n",
       "      <td>0</td>\n",
       "      <td>31</td>\n",
       "      <td>87.0</td>\n",
       "      <td>56340</td>\n",
       "      <td>1</td>\n",
       "    </tr>\n",
       "    <tr>\n",
       "      <th>119992</th>\n",
       "      <td>313639</td>\n",
       "      <td>28</td>\n",
       "      <td>0</td>\n",
       "      <td>0</td>\n",
       "      <td>1</td>\n",
       "      <td>34</td>\n",
       "      <td>167.0</td>\n",
       "      <td>840</td>\n",
       "      <td>1</td>\n",
       "    </tr>\n",
       "    <tr>\n",
       "      <th>119993</th>\n",
       "      <td>394700</td>\n",
       "      <td>37</td>\n",
       "      <td>0</td>\n",
       "      <td>4</td>\n",
       "      <td>1</td>\n",
       "      <td>41</td>\n",
       "      <td>75.0</td>\n",
       "      <td>0</td>\n",
       "      <td>8</td>\n",
       "    </tr>\n",
       "    <tr>\n",
       "      <th>119994</th>\n",
       "      <td>136653</td>\n",
       "      <td>38</td>\n",
       "      <td>1</td>\n",
       "      <td>3</td>\n",
       "      <td>1</td>\n",
       "      <td>33</td>\n",
       "      <td>0.0</td>\n",
       "      <td>58380</td>\n",
       "      <td>1</td>\n",
       "    </tr>\n",
       "    <tr>\n",
       "      <th>119995</th>\n",
       "      <td>116698</td>\n",
       "      <td>46</td>\n",
       "      <td>1</td>\n",
       "      <td>0</td>\n",
       "      <td>1</td>\n",
       "      <td>18</td>\n",
       "      <td>117.0</td>\n",
       "      <td>39960</td>\n",
       "      <td>1</td>\n",
       "    </tr>\n",
       "    <tr>\n",
       "      <th>119996</th>\n",
       "      <td>122699</td>\n",
       "      <td>26</td>\n",
       "      <td>1</td>\n",
       "      <td>3</td>\n",
       "      <td>0</td>\n",
       "      <td>36</td>\n",
       "      <td>35.0</td>\n",
       "      <td>47760</td>\n",
       "      <td>1</td>\n",
       "    </tr>\n",
       "    <tr>\n",
       "      <th>119997</th>\n",
       "      <td>115120</td>\n",
       "      <td>41</td>\n",
       "      <td>0</td>\n",
       "      <td>0</td>\n",
       "      <td>1</td>\n",
       "      <td>31</td>\n",
       "      <td>167.0</td>\n",
       "      <td>55200</td>\n",
       "      <td>1</td>\n",
       "    </tr>\n",
       "    <tr>\n",
       "      <th>119998</th>\n",
       "      <td>87098</td>\n",
       "      <td>50</td>\n",
       "      <td>0</td>\n",
       "      <td>0</td>\n",
       "      <td>0</td>\n",
       "      <td>43</td>\n",
       "      <td>154.0</td>\n",
       "      <td>70800</td>\n",
       "      <td>1</td>\n",
       "    </tr>\n",
       "    <tr>\n",
       "      <th>119999</th>\n",
       "      <td>341401</td>\n",
       "      <td>32</td>\n",
       "      <td>1</td>\n",
       "      <td>0</td>\n",
       "      <td>0</td>\n",
       "      <td>47</td>\n",
       "      <td>167.0</td>\n",
       "      <td>81240</td>\n",
       "      <td>2</td>\n",
       "    </tr>\n",
       "  </tbody>\n",
       "</table>\n",
       "<p>120000 rows × 9 columns</p>\n",
       "</div>"
      ],
      "text/plain": [
       "        user_id  purchase_value  source  browser  sex  age  country  \\\n",
       "0        285108              31       2        0    1   49    167.0   \n",
       "1        131009              31       0        3    0   21    166.0   \n",
       "2        328855              16       2        3    1   26    167.0   \n",
       "3        229053              29       0        0    1   34     87.0   \n",
       "4        108439              26       1        4    1   33     24.0   \n",
       "...         ...             ...     ...      ...  ...  ...      ...   \n",
       "119995   116698              46       1        0    1   18    117.0   \n",
       "119996   122699              26       1        3    0   36     35.0   \n",
       "119997   115120              41       0        0    1   31    167.0   \n",
       "119998    87098              50       0        0    0   43    154.0   \n",
       "119999   341401              32       1        0    0   47    167.0   \n",
       "\n",
       "        signup_to_purchase_seconds  occurence  \n",
       "0                            34860          2  \n",
       "1                            59040          1  \n",
       "2                            41340          1  \n",
       "3                            75180          1  \n",
       "4                            62100          1  \n",
       "...                            ...        ...  \n",
       "119995                       39960          1  \n",
       "119996                       47760          1  \n",
       "119997                       55200          1  \n",
       "119998                       70800          1  \n",
       "119999                       81240          2  \n",
       "\n",
       "[120000 rows x 9 columns]"
      ]
     },
     "execution_count": 35,
     "metadata": {},
     "output_type": "execute_result"
    }
   ],
   "source": [
    "# data after dropping labelled class column\n",
    "fraud_data_no_class"
   ]
  },
  {
   "cell_type": "code",
   "execution_count": 36,
   "metadata": {
    "collapsed": true
   },
   "outputs": [],
   "source": [
    "# splitting data into test and train dataset\n",
    "\n",
    "X_train, X_test, y_train, y_test = train_test_split(\n",
    "    fraud_data_no_class, fraud_data['class'], test_size=0.3, random_state=42)"
   ]
  },
  {
   "cell_type": "code",
   "execution_count": 37,
   "metadata": {},
   "outputs": [
    {
     "data": {
      "text/plain": [
       "0    32589\n",
       "1     3411\n",
       "Name: class, dtype: int64"
      ]
     },
     "execution_count": 37,
     "metadata": {},
     "output_type": "execute_result"
    }
   ],
   "source": [
    "# Count of each class type in test data\n",
    "y_test.value_counts()"
   ]
  },
  {
   "cell_type": "code",
   "execution_count": 38,
   "metadata": {},
   "outputs": [
    {
     "data": {
      "text/plain": [
       "0    76146\n",
       "1     7854\n",
       "Name: class, dtype: int64"
      ]
     },
     "execution_count": 38,
     "metadata": {},
     "output_type": "execute_result"
    }
   ],
   "source": [
    "# Count of each class type in training data\n",
    "y_train.value_counts()"
   ]
  },
  {
   "cell_type": "code",
   "execution_count": 39,
   "metadata": {},
   "outputs": [
    {
     "name": "stdout",
     "output_type": "stream",
     "text": [
      "Percentage of data with fraud in training data= 9.35 \n"
     ]
    }
   ],
   "source": [
    "# percentage of data with fraud in training data\n",
    "fraud_data_distribution_train = y_train.value_counts()\n",
    "ratio_fraud_train = len(y_train[y_train==1])/len(y_train)\n",
    "print(\"Percentage of data with fraud in training data= {} \".format(ratio_fraud_train*100))"
   ]
  },
  {
   "cell_type": "code",
   "execution_count": 40,
   "metadata": {},
   "outputs": [
    {
     "name": "stdout",
     "output_type": "stream",
     "text": [
      "Percentage of data with fraud in Test data= 9.475 \n"
     ]
    }
   ],
   "source": [
    "# percentage of data with fraud in test data\n",
    "fraud_data_distribution_test= y_test.value_counts()\n",
    "ratio_fraud_test= len(y_test[y_test==1])/len(y_test)\n",
    "\n",
    "# This indicates with the Test Data\n",
    "print(\"Percentage of data with fraud in Test data= {} \".format(ratio_fraud_test*100))"
   ]
  },
  {
   "cell_type": "code",
   "execution_count": 41,
   "metadata": {},
   "outputs": [
    {
     "data": {
      "text/plain": [
       "0    32589\n",
       "1     3411\n",
       "Name: class, dtype: int64"
      ]
     },
     "execution_count": 41,
     "metadata": {},
     "output_type": "execute_result"
    }
   ],
   "source": [
    "# Count of each class type in test data\n",
    "fraud_data_distribution_test"
   ]
  },
  {
   "cell_type": "markdown",
   "metadata": {},
   "source": [
    "## STEP4.- Models Evaluation and Selection: "
   ]
  },
  {
   "cell_type": "code",
   "execution_count": 60,
   "metadata": {
    "collapsed": true
   },
   "outputs": [],
   "source": [
    "# methods to calculate accuracy, roc, confustion matrix, f1, recall and precision for all the models computed\n",
    "\n",
    "def plot_confusion_matrix(conf_matrix):\n",
    "    plt.matshow(conf_matrix)\n",
    "    plt.title('Confusion matrix')\n",
    "    plt.colorbar()\n",
    "    plt.ylabel('True label')\n",
    "    plt.xlabel('Predicted label')\n",
    "    plt.show()\n",
    "    \n",
    "def evaluation_report(y_test,y_predict):\n",
    "    try:\n",
    "        roc_auc = roc_auc_score(y_test, y_predict)\n",
    "    except:\n",
    "        \"Error calculating ROC\"\n",
    "\n",
    "    conf_matrix = confusion_matrix(y_test, y_predict)\n",
    "    print(\"Confusion matrix : \")\n",
    "    print(conf_matrix)\n",
    "    print(classification_report(y_test, \n",
    "                            y_predict))\n",
    "    print(\"Area under ROC curve: {:0.3f}\".format(roc_auc))\n",
    "    plot_confusion_matrix(conf_matrix)\n",
    "    return roc_auc\n"
   ]
  },
  {
   "cell_type": "markdown",
   "metadata": {},
   "source": [
    "### 1. Random Forest Classifier: \n",
    "\n",
    "WHy Random Forest?\n",
    "\n",
    "\n",
    "The Random forest is a tree-based ensemble supervised algorithm which involves building several decision trees, then combining their output to improve generalization ability of the model. We chose this in our project. \n",
    "\n",
    "#### This is chosen because in this particular problem decision based classifier which chooses the gini value to split most important nodes and features as its an indicator of the purity of the node: "
   ]
  },
  {
   "cell_type": "code",
   "execution_count": 43,
   "metadata": {
    "collapsed": true
   },
   "outputs": [],
   "source": [
    "def get_random_forest_classifier():\n",
    "    classifier_RF = RandomForestClassifier(n_estimators=300,random_state=43,n_jobs=-1)\n",
    "\n",
    "def random_forest_fraud_prediction():\n",
    "    unique, counts = np.unique(y_train, return_counts=True)\n",
    "\n",
    "    print(\"Counts of the unique values in the train dataset\")\n",
    "    print(np.asarray((unique, counts)).T)\n",
    "\n",
    "    classifier_RF = RandomForestClassifier(random_state=34)\n",
    "\n",
    "    classifier_RF.fit(X_train, y_train)\n",
    "    rf_score=classifier_RF.score(X_test, y_test)\n",
    "    print(\"Random forest score without smote = {}\".format(rf_score))\n",
    "    \n",
    "    # predicted labels 0/1 for the test set\n",
    "    predicted_wo_smote = classifier_RF.predict(X_test)\n",
    "\n",
    "    # generating class probabilities\n",
    "    probs = classifier_RF.predict_proba(X_test)\n",
    "    \n",
    "    # generate evaluation metrics\n",
    "    evaluation_report(y_test,predicted_wo_smote)\n",
    "    \n",
    "    print(\"%s: %r\" % (\"roc_auc_score is: \", roc_auc_score(y_test, probs[:, 1])))\n",
    "    return classifier_RF"
   ]
  },
  {
   "cell_type": "markdown",
   "metadata": {},
   "source": [
    "### Imbalance Class Problem Handling: Using Oversampling the minority class(Fraud data) \n",
    "\n",
    "#### We can clearly see that our Training data is imbalance which means as the nature of the problem which indicates that the number of fraudulent cases(which is one class in our problem) will always be lesser than the non-fraudulent cases(which is the other class in our problem) so there occurs a imbalance in our classes and samples present in our dataset. \n",
    "\n",
    "##### This is very important to handle as imbalance in the classes will not result in showing us the better results and will most likely will generate output which will be more likely be drawn towards the majority class. Inorder to avoid that we are Using SMOTE(and oversampling) to take care of that \n",
    "\n",
    "#### SMOT is performed only on the training data \n"
   ]
  },
  {
   "cell_type": "code",
   "execution_count": 2,
   "metadata": {},
   "outputs": [
    {
     "ename": "NameError",
     "evalue": "name 'smote' is not defined",
     "output_type": "error",
     "traceback": [
      "\u001b[1;31m---------------------------------------------------------------------------\u001b[0m",
      "\u001b[1;31mNameError\u001b[0m                                 Traceback (most recent call last)",
      "\u001b[1;32m<ipython-input-2-d783162497fd>\u001b[0m in \u001b[0;36m<module>\u001b[1;34m()\u001b[0m\n\u001b[0;32m      1\u001b[0m \u001b[1;31m#SMOT on training data\u001b[0m\u001b[1;33m\u001b[0m\u001b[1;33m\u001b[0m\u001b[0m\n\u001b[0;32m      2\u001b[0m \u001b[1;33m\u001b[0m\u001b[0m\n\u001b[1;32m----> 3\u001b[1;33m \u001b[0mx_train_sm\u001b[0m\u001b[1;33m,\u001b[0m \u001b[0my_train_sm\u001b[0m \u001b[1;33m=\u001b[0m \u001b[0msmote\u001b[0m\u001b[1;33m.\u001b[0m\u001b[0mfit_sample\u001b[0m\u001b[1;33m(\u001b[0m\u001b[0mX_train\u001b[0m\u001b[1;33m,\u001b[0m \u001b[0my_train\u001b[0m\u001b[1;33m)\u001b[0m\u001b[1;33m\u001b[0m\u001b[0m\n\u001b[0m",
      "\u001b[1;31mNameError\u001b[0m: name 'smote' is not defined"
     ]
    }
   ],
   "source": [
    "#SMOT on training data\n",
    "smote = SMOTE(random_state=42)\n",
    "x_train_sm, y_train_sm = smote.fit_sample(X_train, y_train)\n"
   ]
  },
  {
   "cell_type": "code",
   "execution_count": 44,
   "metadata": {
    "collapsed": true
   },
   "outputs": [],
   "source": [
    "# Run random forest with smote over sampling\n",
    "\n",
    "def random_forest_with_smote(x_train_sm, y_train_sm):\n",
    "#     smote = SMOTE(random_state=42)\n",
    "#     SMote on training set\n",
    "#     x_train_sm, y_train_sm = smote.fit_sample(X_train, y_train)\n",
    "\n",
    "    unique, counts = np.unique(y_train_sm, return_counts=True)\n",
    "\n",
    "    print (np.asarray((unique, counts)).T)\n",
    "\n",
    "    classifier_RF_sm = RandomForestClassifier(n_estimators=300,random_state=43)\n",
    "\n",
    "    classifier_RF_sm.fit(x_train_sm, y_train_sm)\n",
    "\n",
    "    # predicted labels 0/1 for the test set\n",
    "    predicted_sm = classifier_RF.predict(X_test)\n",
    "\n",
    "    # generate class probabilities\n",
    "    probs = classifier_RF_sm.predict_proba(X_test)\n",
    "\n",
    "    rf_score_sm=classifier_RF_sm.score(X_test, y_test)\n",
    "    print(\"Random forest score with smote = {}\".format(rf_score_sm))\n",
    "    \n",
    "    \n",
    "    print(\"%s: %r\" % (\"Roc_auc_score of random forest is: \", roc_auc_score(y_test, probs[:, 1])))\n",
    "\n",
    "    \n",
    "    \n",
    "    # generate evaluation metrics\n",
    "    evaluation_report(y_test,predicted_sm)\n",
    "    \n",
    "    \n",
    "    \n",
    "    \n",
    "    return classifier_RF"
   ]
  },
  {
   "cell_type": "markdown",
   "metadata": {},
   "source": [
    "## 1.2. Random Forest without SMOTE classifier:"
   ]
  },
  {
   "cell_type": "markdown",
   "metadata": {},
   "source": [
    "#### Counts of unique values of samples in each class: Before SMOTE\n",
    "\n",
    "\n",
    "#### Imbalance of class:--\n",
    "\n",
    "Counts of the unique values in the train dataset\n",
    "\n",
    "CLass 0 --->76146\n",
    "\n",
    "\n",
    "Class1 -->  7854"
   ]
  },
  {
   "cell_type": "code",
   "execution_count": 45,
   "metadata": {},
   "outputs": [
    {
     "name": "stdout",
     "output_type": "stream",
     "text": [
      "Counts of the unique values in the train dataset\n",
      "[[    0 76146]\n",
      " [    1  7854]]\n",
      "random forest score = 0.9544166666666667\n",
      "Confusion matrix : \n",
      "[[32507    82]\n",
      " [ 1559  1852]]\n",
      "              precision    recall  f1-score   support\n",
      "\n",
      "           0       0.95      1.00      0.98     32589\n",
      "           1       0.96      0.54      0.69      3411\n",
      "\n",
      "    accuracy                           0.95     36000\n",
      "   macro avg       0.96      0.77      0.83     36000\n",
      "weighted avg       0.95      0.95      0.95     36000\n",
      "\n",
      "Area under ROC curve: 0.770\n"
     ]
    },
    {
     "data": {
      "image/png": "[encoded data removed]",
      "text/plain": [
       "<Figure size 288x288 with 2 Axes>"
      ]
     },
     "metadata": {
      "needs_background": "light"
     },
     "output_type": "display_data"
    },
    {
     "name": "stdout",
     "output_type": "stream",
     "text": [
      "roc_auc_score is: : 0.811529321337372\n"
     ]
    },
    {
     "data": {
      "text/plain": [
       "RandomForestClassifier(bootstrap=True, class_weight=None, criterion='gini',\n",
       "                       max_depth=None, max_features='auto', max_leaf_nodes=None,\n",
       "                       min_impurity_decrease=0.0, min_impurity_split=None,\n",
       "                       min_samples_leaf=1, min_samples_split=2,\n",
       "                       min_weight_fraction_leaf=0.0, n_estimators=10,\n",
       "                       n_jobs=None, oob_score=False, random_state=34, verbose=0,\n",
       "                       warm_start=False)"
      ]
     },
     "execution_count": 45,
     "metadata": {},
     "output_type": "execute_result"
    }
   ],
   "source": [
    "# Run random forest without SMOTE\n",
    "random_forest_fraud_prediction()"
   ]
  },
  {
   "cell_type": "markdown",
   "metadata": {},
   "source": [
    "### 1.3 Random Forest with SMOTE:\n",
    "\n",
    "##### We see that the class imbalance is taken care of with each class 0 has 76146 and 1 has 76146 values and if we compare the F1-Score of both which is same and Precision is little lesser as expected with SMOTE and no compromise on Recall which is a good News and hence we chose this over the simple random forest. \n",
    "- F1 Score is pretty high among all. Hence we chose this as the best performing model.\n",
    "- Accuracy is 95%\n",
    "- Area under ROC(its 81.15% for this run). NOTE- Classification report tells the avergaed out roc_auc score. \n"
   ]
  },
  {
   "cell_type": "markdown",
   "metadata": {},
   "source": [
    "#### Counts of unique values of samples in each class: After SMOTE\n",
    "\n",
    "\n",
    "#### Imbalance of class is handled:--\n",
    "\n",
    "Counts of the unique values in the train dataset after smote\n",
    "\n",
    "CLass 0 --->76146\n",
    "\n",
    "Class1 -->  76146"
   ]
  },
  {
   "cell_type": "code",
   "execution_count": 46,
   "metadata": {},
   "outputs": [
    {
     "name": "stdout",
     "output_type": "stream",
     "text": [
      "[[    0 76146]\n",
      " [    1 76146]]\n",
      "Roc_auc_score of random forest is: : 0.8292829408393921\n",
      "Confusion matrix : \n",
      "[[32493    96]\n",
      " [ 1566  1845]]\n",
      "              precision    recall  f1-score   support\n",
      "\n",
      "           0       0.95      1.00      0.98     32589\n",
      "           1       0.95      0.54      0.69      3411\n",
      "\n",
      "    accuracy                           0.95     36000\n",
      "   macro avg       0.95      0.77      0.83     36000\n",
      "weighted avg       0.95      0.95      0.95     36000\n",
      "\n",
      "Area under ROC curve: 0.769\n"
     ]
    },
    {
     "data": {
      "image/png": "[encoded data removed]",
      "text/plain": [
       "<Figure size 288x288 with 2 Axes>"
      ]
     },
     "metadata": {
      "needs_background": "light"
     },
     "output_type": "display_data"
    },
    {
     "data": {
      "text/plain": [
       "RandomForestClassifier(bootstrap=True, class_weight=None, criterion='gini',\n",
       "                       max_depth=None, max_features='auto', max_leaf_nodes=None,\n",
       "                       min_impurity_decrease=0.0, min_impurity_split=None,\n",
       "                       min_samples_leaf=1, min_samples_split=2,\n",
       "                       min_weight_fraction_leaf=0.0, n_estimators=300,\n",
       "                       n_jobs=None, oob_score=False, random_state=43, verbose=0,\n",
       "                       warm_start=False)"
      ]
     },
     "execution_count": 46,
     "metadata": {},
     "output_type": "execute_result"
    }
   ],
   "source": [
    "# Run random forest with SMOTE\n",
    "random_forest_with_smote(x_train_sm, y_train_sm)"
   ]
  },
  {
   "cell_type": "markdown",
   "metadata": {},
   "source": [
    "### 1.4. Feature Importance - Random Forest"
   ]
  },
  {
   "cell_type": "code",
   "execution_count": 47,
   "metadata": {
    "collapsed": true
   },
   "outputs": [],
   "source": [
    "# Plot feature importance\n",
    "\n",
    "def plot_importance(clf, feature, max_features):\n",
    "    feature_importance = clf.feature_importances_\n",
    "    # making importances relative to max importance\n",
    "    feature_importance = 100.0 * (feature_importance / feature_importance.max())\n",
    "    sorted_idx = np.argsort(feature_importance)\n",
    "    pos = np.arange(sorted_idx.shape[0]) + .5\n",
    "    pos = pos[-max_features:]\n",
    "    feature_importance = (feature_importance[sorted_idx])[-max_features:]\n",
    "    feature = np.array(feature)\n",
    "    feature_names = (feature[sorted_idx])[-max_features:]\n",
    "    \n",
    "    # Plot best features\n",
    "    plt.barh(pos, feature_importance, align='center')\n",
    "    plt.yticks(pos, feature_names)\n",
    "    plt.xlabel('Relative Importance')\n",
    "    plt.title('Variable Importance')"
   ]
  },
  {
   "cell_type": "code",
   "execution_count": 48,
   "metadata": {},
   "outputs": [
    {
     "name": "stdout",
     "output_type": "stream",
     "text": [
      "Counts of the unique values in the train dataset\n",
      "[[    0 76146]\n",
      " [    1  7854]]\n",
      "random forest score = 0.9544166666666667\n",
      "Confusion matrix : \n",
      "[[32507    82]\n",
      " [ 1559  1852]]\n",
      "              precision    recall  f1-score   support\n",
      "\n",
      "           0       0.95      1.00      0.98     32589\n",
      "           1       0.96      0.54      0.69      3411\n",
      "\n",
      "    accuracy                           0.95     36000\n",
      "   macro avg       0.96      0.77      0.83     36000\n",
      "weighted avg       0.95      0.95      0.95     36000\n",
      "\n",
      "Area under ROC curve: 0.770\n"
     ]
    },
    {
     "data": {
      "image/png": "[encoded data removed]",
      "text/plain": [
       "<Figure size 288x288 with 2 Axes>"
      ]
     },
     "metadata": {
      "needs_background": "light"
     },
     "output_type": "display_data"
    },
    {
     "name": "stdout",
     "output_type": "stream",
     "text": [
      "roc_auc_score is: : 0.811529321337372\n"
     ]
    },
    {
     "data": {
      "image/png": "[encoded data removed]",
      "text/plain": [
       "<Figure size 432x288 with 1 Axes>"
      ]
     },
     "metadata": {
      "needs_background": "light"
     },
     "output_type": "display_data"
    }
   ],
   "source": [
    "# Plot feature importance for random forest model\n",
    "\n",
    "feature = x_train_sm.columns.tolist()[:]\n",
    "plot_importance(random_forest_with_smote(x_train_sm, y_train_sm)), feature, max_features=10)"
   ]
  },
  {
   "cell_type": "markdown",
   "metadata": {},
   "source": [
    "### CONCLUSION from Random Forest: \n",
    "\n",
    "#### Very good F1 score(best among all methods) , Also accuracy and Roc_AUC are very good. \n",
    "\n",
    "### OBSERVATION FROM IMP FEATURES: \n",
    "\n",
    "Also Among feature importance we see that Sign-up-to-purchase has more value than others .second is Occurence of the device id in the data. Its very interesting to find these information hidden in the data which happened to be among top 2 contributing factors for any fraudulent activity detection. "
   ]
  },
  {
   "cell_type": "markdown",
   "metadata": {},
   "source": [
    "## 2. K-Nearest Neighbours Classifier: \n",
    "\n",
    "WHY KNN? \n",
    "\n",
    "\n",
    "KNN classifier is also a non parametric and instance-based supervised learning algorithm. Non-parametric means it makes no explicit assumptions about the function or on the underlying data distribution. And instance based supervised means it memorizes each instances and thus the K-nearest neighbor algorithm essentially generates a majority vote between the K most similar instances to a given observation. Which in turn can be a helpful model approah in our case.\n",
    "\n",
    "\n",
    "Second Best Model for our case. \n",
    "\n",
    "- F1-Score 64% for class 1  \n",
    "- Accuracy 94%\n",
    "- AUC_ROC 76.2%\n",
    "\n",
    "Good f1. We will explore other models."
   ]
  },
  {
   "cell_type": "code",
   "execution_count": 49,
   "metadata": {
    "collapsed": true
   },
   "outputs": [],
   "source": [
    "# Scores list will contain the scores for each k\n",
    "scores={}\n",
    "scores_list=[]\n",
    "for k in range(1,26):\n",
    "    knn=KNeighborsClassifier(n_neighbors=k)\n",
    "    knn.fit(x_train_sm, y_train_sm)\n",
    "    y_predicted=knn.predict(X_test)\n",
    "    scores[k]=accuracy_score(y_test,y_predicted)\n",
    "    scores_list.append(scores[k])"
   ]
  },
  {
   "cell_type": "markdown",
   "metadata": {},
   "source": [
    "#### Using above approach we can perform a hyper parameter search to find the best k "
   ]
  },
  {
   "cell_type": "code",
   "execution_count": 51,
   "metadata": {},
   "outputs": [
    {
     "name": "stdout",
     "output_type": "stream",
     "text": [
      "Confusion matrix : \n",
      "[[32121   468]\n",
      " [ 1573  1838]]\n",
      "              precision    recall  f1-score   support\n",
      "\n",
      "           0       0.95      0.99      0.97     32589\n",
      "           1       0.80      0.54      0.64      3411\n",
      "\n",
      "    accuracy                           0.94     36000\n",
      "   macro avg       0.88      0.76      0.81     36000\n",
      "weighted avg       0.94      0.94      0.94     36000\n",
      "\n",
      "Area under ROC curve: 0.762\n"
     ]
    },
    {
     "data": {
      "image/png": "[encoded data removed]",
      "text/plain": [
       "<Figure size 288x288 with 2 Axes>"
      ]
     },
     "metadata": {
      "needs_background": "light"
     },
     "output_type": "display_data"
    },
    {
     "name": "stdout",
     "output_type": "stream",
     "text": [
      "KNN Model score = 0.9433055555555555\n"
     ]
    }
   ],
   "source": [
    "# Evaluation metrics for K Nearest Neighbours Classifier\n",
    "evaluation_report(y_test,y_predicted)\n",
    "knn_score=knn.score(x_train_sm, y_test)\n",
    "print(\"KNN Model score = {}\".format(knn_score))\n",
    "    "
   ]
  },
  {
   "cell_type": "code",
   "execution_count": 52,
   "metadata": {},
   "outputs": [
    {
     "data": {
      "text/plain": [
       "Text(0, 0.5, 'Accuracy')"
      ]
     },
     "execution_count": 52,
     "metadata": {},
     "output_type": "execute_result"
    },
    {
     "data": {
      "image/png": "[encoded data removed]",
      "text/plain": [
       "<Figure size 432x288 with 1 Axes>"
      ]
     },
     "metadata": {
      "needs_background": "light"
     },
     "output_type": "display_data"
    }
   ],
   "source": [
    "# Plotting K against accuracy for K Nearest Neighbours Classifier \n",
    "plt.plot(range(1,26),scores_list)\n",
    "plt.xlabel(\"K\")\n",
    "plt.ylabel(\"Accuracy\")"
   ]
  },
  {
   "cell_type": "markdown",
   "metadata": {},
   "source": [
    "#### Hyper-parameter Search Results for each k values: "
   ]
  },
  {
   "cell_type": "code",
   "execution_count": 53,
   "metadata": {},
   "outputs": [
    {
     "name": "stdout",
     "output_type": "stream",
     "text": [
      "K = 0 Score = 0.9116111111111111\n",
      "K = 1 Score = 0.9479722222222222\n",
      "K = 2 Score = 0.9453611111111111\n",
      "K = 3 Score = 0.9498055555555556\n",
      "K = 4 Score = 0.9486111111111111\n",
      "K = 5 Score = 0.9493055555555555\n",
      "K = 6 Score = 0.9481388888888889\n",
      "K = 7 Score = 0.9484444444444444\n",
      "K = 8 Score = 0.94725\n",
      "K = 9 Score = 0.9475\n",
      "K = 10 Score = 0.9468333333333333\n",
      "K = 11 Score = 0.9469166666666666\n",
      "K = 12 Score = 0.9464722222222223\n",
      "K = 13 Score = 0.9465277777777777\n",
      "K = 14 Score = 0.9460555555555555\n",
      "K = 15 Score = 0.9461388888888889\n",
      "K = 16 Score = 0.9453333333333334\n",
      "K = 17 Score = 0.94575\n",
      "K = 18 Score = 0.9449722222222222\n",
      "K = 19 Score = 0.9452222222222222\n",
      "K = 20 Score = 0.9443333333333334\n",
      "K = 21 Score = 0.9444444444444444\n",
      "K = 22 Score = 0.94375\n",
      "K = 23 Score = 0.944\n",
      "K = 24 Score = 0.9433055555555555\n"
     ]
    }
   ],
   "source": [
    "# List of scores for each K\n",
    "for k in range(0,25):\n",
    "    print(\"K = {} Score = {}\".format(k,scores_list[k]))"
   ]
  },
  {
   "cell_type": "markdown",
   "metadata": {},
   "source": [
    "## 3.Logistic Regression:\n",
    "\n",
    "Chose this for experimentation as its a very good Supervised Algorithm for binary class classification algorithm.\n",
    "\n",
    "Comments: Not so good results with F1 being very low for fraudulent case. Accuracy being still at 93%. Recall is very low on class 1. (we dont want that)"
   ]
  },
  {
   "cell_type": "code",
   "execution_count": 54,
   "metadata": {
    "collapsed": true
   },
   "outputs": [],
   "source": [
    "# instantiate the logistic regression model\n",
    "logreg = LogisticRegression(random_state=43, solver='lbfgs')\n",
    "logreg.fit(x_train_sm, y_train_sm)\n",
    "\n",
    "# predict on test\n",
    "lr_y_pred=logreg.predict(X_test)"
   ]
  },
  {
   "cell_type": "code",
   "execution_count": 55,
   "metadata": {},
   "outputs": [
    {
     "name": "stdout",
     "output_type": "stream",
     "text": [
      "Logistic Regression score = 0.90525\n",
      "Confusion matrix : \n",
      "[[32589     0]\n",
      " [ 3411     0]]\n",
      "              precision    recall  f1-score   support\n",
      "\n",
      "           0       0.91      1.00      0.95     32589\n",
      "           1       0.00      0.00      0.00      3411\n",
      "\n",
      "    accuracy                           0.91     36000\n",
      "   macro avg       0.45      0.50      0.48     36000\n",
      "weighted avg       0.82      0.91      0.86     36000\n",
      "\n",
      "Area under ROC curve: 0.500\n"
     ]
    },
    {
     "data": {
      "image/png": "[encoded data removed]",
      "text/plain": [
       "<Figure size 288x288 with 2 Axes>"
      ]
     },
     "metadata": {
      "needs_background": "light"
     },
     "output_type": "display_data"
    }
   ],
   "source": [
    "# Evaluation report for the Logistic Regression Model\n",
    "log_reg_score=logreg.score(X_test,y_test)\n",
    "print(\"Logistic Regression score = {}\".format(log_reg_score))\n",
    "evaluation_report(y_test,lr_y_pred)\n"
   ]
  },
  {
   "cell_type": "markdown",
   "metadata": {},
   "source": [
    "## 4. Isolation Forest\n",
    "\n",
    "Why Isolation Forest?\n",
    "\n",
    "This is a supervised algorithm and it relies on the fact that anomalies are data points that are few and unique. As a result of these properties, anomalies are susceptible to a mechanism called isolation. It also builds ensemble of differnt i-trees which is later used for classification of these anomalies present in the data.\n",
    "\n",
    "- This is known method for Anomaly Detection problems. Finds out outliers in the data and Flags it. For our case we found this as:\n",
    "- 3rd best model. \n",
    "- F1 score on fraud detection is 54%\n",
    "- Accuracy is 91%\n",
    "- AUC roC- 74.6%\n",
    "\n",
    "Better hyper-parameters tuning can be achieved with Grid Search. "
   ]
  },
  {
   "cell_type": "markdown",
   "metadata": {},
   "source": [
    "#### converting the binary values to 1 and -1 since the isolation forest performs operations on 1 and -1"
   ]
  },
  {
   "cell_type": "code",
   "execution_count": 56,
   "metadata": {
    "collapsed": true
   },
   "outputs": [],
   "source": [
    "# converting the binary values to 1 and -1 since the isolation forest performs operations on 1 and -1\n",
    "Y_dev = y_train.apply(lambda x: 1 if x == 0 else -1)\n",
    "Y_eval = y_test.apply(lambda x: 1 if x == 0 else -1)"
   ]
  },
  {
   "cell_type": "markdown",
   "metadata": {},
   "source": [
    "## STEP5: Hyper-parmeter tuning with Grid-Search:"
   ]
  },
  {
   "cell_type": "code",
   "execution_count": 57,
   "metadata": {},
   "outputs": [
    {
     "name": "stdout",
     "output_type": "stream",
     "text": [
      "Fitting 5 folds for each of 5 candidates, totalling 25 fits\n",
      "[CV] n_estimators=100 ................................................\n"
     ]
    },
    {
     "name": "stderr",
     "output_type": "stream",
     "text": [
      "[Parallel(n_jobs=1)]: Using backend SequentialBackend with 1 concurrent workers.\n"
     ]
    },
    {
     "name": "stdout",
     "output_type": "stream",
     "text": [
      "[CV] .................... n_estimators=100, score=0.948, total=   4.4s\n",
      "[CV] n_estimators=100 ................................................\n"
     ]
    },
    {
     "name": "stderr",
     "output_type": "stream",
     "text": [
      "[Parallel(n_jobs=1)]: Done   1 out of   1 | elapsed:    4.4s remaining:    0.0s\n"
     ]
    },
    {
     "name": "stdout",
     "output_type": "stream",
     "text": [
      "[CV] .................... n_estimators=100, score=0.951, total=   3.7s\n",
      "[CV] n_estimators=100 ................................................\n"
     ]
    },
    {
     "name": "stderr",
     "output_type": "stream",
     "text": [
      "[Parallel(n_jobs=1)]: Done   2 out of   2 | elapsed:    8.1s remaining:    0.0s\n"
     ]
    },
    {
     "name": "stdout",
     "output_type": "stream",
     "text": [
      "[CV] .................... n_estimators=100, score=0.949, total=   3.2s\n",
      "[CV] n_estimators=100 ................................................\n"
     ]
    },
    {
     "name": "stderr",
     "output_type": "stream",
     "text": [
      "[Parallel(n_jobs=1)]: Done   3 out of   3 | elapsed:   11.4s remaining:    0.0s\n"
     ]
    },
    {
     "name": "stdout",
     "output_type": "stream",
     "text": [
      "[CV] .................... n_estimators=100, score=0.949, total=   3.2s\n",
      "[CV] n_estimators=100 ................................................\n"
     ]
    },
    {
     "name": "stderr",
     "output_type": "stream",
     "text": [
      "[Parallel(n_jobs=1)]: Done   4 out of   4 | elapsed:   14.5s remaining:    0.0s\n"
     ]
    },
    {
     "name": "stdout",
     "output_type": "stream",
     "text": [
      "[CV] .................... n_estimators=100, score=0.951, total=   4.5s\n",
      "[CV] n_estimators=200 ................................................\n"
     ]
    },
    {
     "name": "stderr",
     "output_type": "stream",
     "text": [
      "[Parallel(n_jobs=1)]: Done   5 out of   5 | elapsed:   19.0s remaining:    0.0s\n"
     ]
    },
    {
     "name": "stdout",
     "output_type": "stream",
     "text": [
      "[CV] .................... n_estimators=200, score=0.949, total=   7.1s\n",
      "[CV] n_estimators=200 ................................................\n"
     ]
    },
    {
     "name": "stderr",
     "output_type": "stream",
     "text": [
      "[Parallel(n_jobs=1)]: Done   6 out of   6 | elapsed:   26.2s remaining:    0.0s\n"
     ]
    },
    {
     "name": "stdout",
     "output_type": "stream",
     "text": [
      "[CV] .................... n_estimators=200, score=0.953, total=   7.6s\n",
      "[CV] n_estimators=200 ................................................\n"
     ]
    },
    {
     "name": "stderr",
     "output_type": "stream",
     "text": [
      "[Parallel(n_jobs=1)]: Done   7 out of   7 | elapsed:   33.8s remaining:    0.0s\n"
     ]
    },
    {
     "name": "stdout",
     "output_type": "stream",
     "text": [
      "[CV] .................... n_estimators=200, score=0.951, total=   7.0s\n",
      "[CV] n_estimators=200 ................................................\n"
     ]
    },
    {
     "name": "stderr",
     "output_type": "stream",
     "text": [
      "[Parallel(n_jobs=1)]: Done   8 out of   8 | elapsed:   40.8s remaining:    0.0s\n"
     ]
    },
    {
     "name": "stdout",
     "output_type": "stream",
     "text": [
      "[CV] .................... n_estimators=200, score=0.952, total=   7.4s\n",
      "[CV] n_estimators=200 ................................................\n"
     ]
    },
    {
     "name": "stderr",
     "output_type": "stream",
     "text": [
      "[Parallel(n_jobs=1)]: Done   9 out of   9 | elapsed:   48.2s remaining:    0.0s\n"
     ]
    },
    {
     "name": "stdout",
     "output_type": "stream",
     "text": [
      "[CV] .................... n_estimators=200, score=0.954, total=   7.9s\n",
      "[CV] n_estimators=150 ................................................\n",
      "[CV] .................... n_estimators=150, score=0.950, total=   4.8s\n",
      "[CV] n_estimators=150 ................................................\n",
      "[CV] .................... n_estimators=150, score=0.952, total=   4.4s\n",
      "[CV] n_estimators=150 ................................................\n",
      "[CV] .................... n_estimators=150, score=0.951, total=   5.1s\n",
      "[CV] n_estimators=150 ................................................\n",
      "[CV] .................... n_estimators=150, score=0.951, total=   5.5s\n",
      "[CV] n_estimators=150 ................................................\n",
      "[CV] .................... n_estimators=150, score=0.954, total=   4.8s\n",
      "[CV] n_estimators=250 ................................................\n",
      "[CV] .................... n_estimators=250, score=0.949, total=   7.8s\n",
      "[CV] n_estimators=250 ................................................\n",
      "[CV] .................... n_estimators=250, score=0.952, total=   7.5s\n",
      "[CV] n_estimators=250 ................................................\n",
      "[CV] .................... n_estimators=250, score=0.952, total=   7.5s\n",
      "[CV] n_estimators=250 ................................................\n",
      "[CV] .................... n_estimators=250, score=0.952, total=   7.5s\n",
      "[CV] n_estimators=250 ................................................\n",
      "[CV] .................... n_estimators=250, score=0.954, total=   7.4s\n",
      "[CV] n_estimators=350 ................................................\n",
      "[CV] .................... n_estimators=350, score=0.950, total=  11.5s\n",
      "[CV] n_estimators=350 ................................................\n",
      "[CV] .................... n_estimators=350, score=0.952, total=  13.1s\n",
      "[CV] n_estimators=350 ................................................\n",
      "[CV] .................... n_estimators=350, score=0.951, total=  13.0s\n",
      "[CV] n_estimators=350 ................................................\n",
      "[CV] .................... n_estimators=350, score=0.952, total=  14.9s\n",
      "[CV] n_estimators=350 ................................................\n",
      "[CV] .................... n_estimators=350, score=0.954, total=  15.5s\n"
     ]
    },
    {
     "name": "stderr",
     "output_type": "stream",
     "text": [
      "[Parallel(n_jobs=1)]: Done  25 out of  25 | elapsed:  3.1min finished\n"
     ]
    }
   ],
   "source": [
    "# Y dev and y eval from transformed from ytrain and y test. \n",
    "# x dev and x eval will the same as x train and x test\n",
    "X_dev=X_train\n",
    "X_eval=X_test\n",
    "# percentage of fraud samples in the training dataset is specified to the model\n",
    "IF = IsolationForest(max_samples=\"auto\", contamination=0.095,behaviour=\"new\",random_state=43)\n",
    "\n",
    "# Define the parameter grid to search over\n",
    "param_grid = {\"n_estimators\": [100, 200, 300, 500, 600]}\n",
    "\n",
    "clf = GridSearchCV(IF, \n",
    "                   param_grid=param_grid, \n",
    "                   cv=5,\n",
    "                   scoring=\"f1\",\n",
    "                   verbose=10)\n",
    "\n",
    "# Perform grid search\n",
    "_ = clf.fit(X_dev, Y_dev)"
   ]
  },
  {
   "cell_type": "markdown",
   "metadata": {},
   "source": [
    "#### Find out the best estimator:"
   ]
  },
  {
   "cell_type": "code",
   "execution_count": 58,
   "metadata": {},
   "outputs": [
    {
     "data": {
      "text/plain": [
       "IsolationForest(behaviour='new', bootstrap=False, contamination=0.095,\n",
       "                max_features=1.0, max_samples='auto', n_estimators=200,\n",
       "                n_jobs=None, random_state=43, verbose=0, warm_start=False)"
      ]
     },
     "execution_count": 58,
     "metadata": {},
     "output_type": "execute_result"
    }
   ],
   "source": [
    "clf.best_estimator_"
   ]
  },
  {
   "cell_type": "markdown",
   "metadata": {},
   "source": [
    "#### Evaluating the model performance:"
   ]
  },
  {
   "cell_type": "code",
   "execution_count": 62,
   "metadata": {},
   "outputs": [
    {
     "name": "stdout",
     "output_type": "stream",
     "text": [
      "Confusion matrix : \n",
      "[[ 1827  1584]\n",
      " [ 1590 30999]]\n",
      "              precision    recall  f1-score   support\n",
      "\n",
      "          -1       0.53      0.54      0.54      3411\n",
      "           1       0.95      0.95      0.95     32589\n",
      "\n",
      "    accuracy                           0.91     36000\n",
      "   macro avg       0.74      0.74      0.74     36000\n",
      "weighted avg       0.91      0.91      0.91     36000\n",
      "\n",
      "Area under ROC curve: 0.743\n"
     ]
    },
    {
     "data": {
      "image/png": "[encoded data removed]",
      "text/plain": [
       "<Figure size 288x288 with 2 Axes>"
      ]
     },
     "metadata": {
      "needs_background": "light"
     },
     "output_type": "display_data"
    },
    {
     "name": "stdout",
     "output_type": "stream",
     "text": [
      "Area under ROC curve: 0.743\n"
     ]
    },
    {
     "data": {
      "image/png": "[encoded data removed]",
      "text/plain": [
       "<Figure size 432x288 with 1 Axes>"
      ]
     },
     "metadata": {
      "needs_background": "light"
     },
     "output_type": "display_data"
    }
   ],
   "source": [
    "IF_best = clf.best_estimator_\n",
    "Y_predicted = IF_best.predict(X_eval)\n",
    "\n",
    "# Evaluation Metrics for Isolation Forest\n",
    "roc_auc = evaluation_report(Y_eval, Y_predicted)\n",
    "# Class -1 --> Fraud ; CLass 1--> Non-fraud\n",
    "\n",
    "print(\"Area under ROC curve: {:0.3f}\".format(roc_auc))\n",
    "\n",
    "# Compute ROC curve and area under the curve\n",
    "IF_probs = IF_best.decision_function(X_eval)\n",
    "fpr, tpr, thresholds = roc_curve(Y_eval, IF_probs)\n",
    "\n",
    "plt.plot(fpr, tpr, lw=1, label='ROC (area = %0.3f)'%(roc_auc))\n",
    "\n",
    "plt.plot([0, 1], [0, 1], '--', color=(0.6, 0.6, 0.6), label='Decision boundary')\n",
    "plt.xlim([-0.05, 1.05])\n",
    "plt.ylim([-0.05, 1.05])\n",
    "plt.xlabel('False Positive Rate', fontsize=15)\n",
    "plt.ylabel('True Positive Rate', fontsize=15)\n",
    "plt.title('Receiver Operating Characteristic (ROC) curve', fontsize=12)\n",
    "plt.legend(loc=\"lower right\", frameon = True).get_frame().set_edgecolor('black')\n",
    "plt.grid(True, linestyle = 'dotted')\n",
    "plt.show()"
   ]
  },
  {
   "cell_type": "markdown",
   "metadata": {},
   "source": [
    "## STEP6: Overall Results and Best Model Selection: \n",
    "\n",
    "### 1. Random Forest Classfier with SMOTE- with Accuracy of 95%(Better hyperparameters can be searched by performing the grid search operation)  and Best F1-Score on fraud among all methods of 69%. Best auc_roc score as well.  We will choose this as our best model. Fine tuning will result in even better results. \n",
    "\n",
    "### 2. K-NN- 2nd best model with 94% Accuracy and 64% F1-Score on fraud .  Best Hyper-paramenters(k) is found and displayed in the code along with a good auc-roc score.  \n",
    "\n",
    "### 3. Isolation Forests- 3rd Best. More better hyper-parameter serach can be better fine tuned with the Grid search approach . For the performed results we have achieved -Accuracy of 91% with 54% F1-score on fraud and good auc-roc score."
   ]
  },
  {
   "cell_type": "markdown",
   "metadata": {},
   "source": [
    "### STEP5: Hyper-parameter tuning using Grid Search for Random Forest:"
   ]
  },
  {
   "cell_type": "code",
   "execution_count": 63,
   "metadata": {
    "collapsed": true
   },
   "outputs": [],
   "source": [
    "rf_params = {\n",
    "    'max_depth': [4, 8, None],\n",
    "    'max_features': ['sqrt', 'log2', None],\n",
    "    'min_samples_split': [2, 4],\n",
    "    'min_samples_leaf': [2, 4],\n",
    "    'bootstrap': [True],\n",
    "    'n_estimators': [50, 100, 200, 400, 500],\n",
    "    'random_state': [67],\n",
    "    'oob_score': [True],\n",
    "    'n_jobs': [-1]\n",
    "    }\n",
    "def optimize_hyperparameters(model, params, X_train, y_train):\n",
    "    \n",
    "    gs = GridSearchCV(model(), params, cv=10, n_jobs=-1, verbose=True, scoring='roc_auc')\n",
    "    gs.fit(X_train, y_train)\n",
    "    print (gs.best_params_)\n",
    "\n",
    "# print best parameters - very time consuming operation for optimizing hyper parameters\n",
    "# optimize_hyperparameters(RandomForestClassifier, rf_params, X_train, y_train)"
   ]
  },
  {
   "cell_type": "markdown",
   "metadata": {
    "collapsed": true
   },
   "source": [
    "## STEP7- Conclusion and Next Steps:\n",
    "\n",
    "### Random Forest is the suggested model for this kind of data. Fine tuning can be achieved by better tuning by using a Grid search to optimize the ROC-AUC and F1-score. \n",
    "\n",
    "### F1-Score and AUC is a reliable criteria apart from accuracy in this case of problem. \n",
    "\n",
    "## STEP8- Recommendations to Owners of E-commerce websites-\n",
    "\n",
    "### - After sign-up engage users in better offers \n",
    "### - Have a better security model and record each user activities and perform  tracking of interest history and other relevant things\n",
    "### - Keep track of sign-up to purchase time and other important relevant attributes as indicated ablove like device counts , usrid , country and source etc. \n",
    "\n",
    "### - Even better and more fine tuning can still be done to make the model accuracy and fraudulent activity detection even better.\n",
    "\n",
    "###                                       ****************-------------------------xxxxxxxxxxxxxxxxxxxxxxxxxxxxxxxx--------------------------------------------------******************"
   ]
  }
 ],
 "metadata": {
  "kernelspec": {
   "display_name": "Python 3",
   "language": "python",
   "name": "python3"
  },
  "language_info": {
   "codemirror_mode": {
    "name": "ipython",
    "version": 3
   },
   "file_extension": ".py",
   "mimetype": "text/x-python",
   "name": "python",
   "nbconvert_exporter": "python",
   "pygments_lexer": "ipython3",
   "version": "3.6.3"
  }
 },
 "nbformat": 4,
 "nbformat_minor": 1
}
